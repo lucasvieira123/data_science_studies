{
 "cells": [
  {
   "cell_type": "markdown",
   "metadata": {},
   "source": [
    "# Imports"
   ]
  },
  {
   "cell_type": "code",
   "execution_count": 6,
   "metadata": {},
   "outputs": [],
   "source": [
    "import pandas as pd\n",
    "import seaborn as sns\n",
    "pd.set_option('display.max_columns', None)\n",
    "import os"
   ]
  },
  {
   "cell_type": "code",
   "execution_count": null,
   "metadata": {},
   "outputs": [],
   "source": [
    "years = [2019, 2018,2017,2016,2015,2014,2013,2012,2011,2010,2008,2006,2004,2002,2001,2000,1999,1998]\n",
    "number = [18,15,16,9,15,11,9,8,7,7,5,3,1,2,3,0,1,1]\n",
    "\n",
    "number_of_studies_per_year=pd.DataFrame(list(zip(years, number)),\n",
    "               columns =['years', 'number'])\n",
    "\n",
    "#Referencia: https://www.emilkhatib.com/analyzing-trends-in-data-with-pandas/\n",
    "import numpy as np\n",
    "selected=number_of_studies_per_year[\"number\"]\n",
    "coefficients, residuals, _, _, _ = np.polyfit(range(len(selected.index)),selected,1,full=True)\n",
    "mse = residuals[0]/(len(selected.index))\n",
    "nrmse = np.sqrt(mse)/(selected.max() - selected.min())\n",
    "print('Slope ' + str(coefficients[0]))\n",
    "print('NRMSE: ' + str(nrmse))\n",
    "print(\"----------------------\")"
   ]
  },
  {
   "cell_type": "markdown",
   "metadata": {},
   "source": [
    "### Global variables"
   ]
  },
  {
   "cell_type": "code",
   "execution_count": null,
   "metadata": {},
   "outputs": [],
   "source": [
    "question_list = ['Are the impirical research objectives and the research questions defined in advance?',\n",
    "       '\\nIs the research protocol explicit? (data collection, population definition, analysis mechanisms ...)',\n",
    "       '\\nAre threats to validity conducted in a systematic way, and are countermeasures taken to reduce them?',\n",
    "       '\\nIs a pilot study presented in the research?',\n",
    "       '\\nIs the data presented or made available for further analysis?',\n",
    "       '\\nDoes the research make evident the method of analysis applied in your data?',\n",
    "       'Do the findings of the empirical study answer the research questions and / or hypotheses that have been raised?',\n",
    "       'Is the case and its analysis units explicitly defined and presented? (size, domain, process and subjects)',\n",
    "       'Does the researcher avoid any interference in the process, technique and methodology used in the case study?',\n",
    "       'Is triangulation applied? (multiple methods of collection and analysis, multiple authors and various theories)',\n",
    "       'Are ethical issues handled appropriately (personal intentions, integrity, confidentiality, consent and approval of the review board)?',\n",
    "       'Does the study report provide implications for practice?',\n",
    "       'Are the hypothesis (null hypothesis and alternative hypothesis) presented?',\n",
    "       'Does any method was used to comprove/reject  the hyphotesis?',\n",
    "       'Are the independent, dependent variables and their metrics presented?',\n",
    "       'Were quantitative methods applied to interpret the results?',\n",
    "       'Are the treatments presented?', 'Is randomized the sample?',\n",
    "       'Is it possible to identify the population, the intervention and the outcome in main research question?',\n",
    "       'Are the reviews inclusion and exclusion criteria described?',\n",
    "       'Is the search strategy defined in the study?',\n",
    "       'Did the reviewers assess the quality/validity of the included studies',\n",
    "       'The study specifies and thoroughly describes its sampling method (e.g. nonprobabilistic\\nsampling methods, probabilistic sampling methods,etc.).',\n",
    "       'The study describes how the questionnaire was designed (e.g. the number of questions, type and wording of the questions, question sequence and grouping, translations, etc.).',\n",
    "       'The questionnaire of the study is available (e.g. attached to the report or included as an appendix, etc.).',\n",
    "       'The study provides information on its response rate.',\n",
    "       'The study formally assesses its trustworthiness (e.g. through calculating measurementerror, sample frame error, error of  selection, non-response error, etc.).']"
   ]
  },
  {
   "cell_type": "markdown",
   "metadata": {},
   "source": [
    "### Import dataset"
   ]
  },
  {
   "cell_type": "code",
   "execution_count": null,
   "metadata": {},
   "outputs": [],
   "source": [
    "df = pd.read_csv(\"sumarization.csv\")\n",
    "df.head()"
   ]
  },
  {
   "cell_type": "markdown",
   "metadata": {},
   "source": [
    "### Preprocess dataset"
   ]
  },
  {
   "cell_type": "code",
   "execution_count": null,
   "metadata": {},
   "outputs": [],
   "source": [
    "df = df.replace([\"Yes\",'Partially', \"No\"],[1,0.5,0])\n",
    "df.head()"
   ]
  },
  {
   "cell_type": "markdown",
   "metadata": {},
   "source": [
    "### Mean per year of each question"
   ]
  },
  {
   "cell_type": "code",
   "execution_count": null,
   "metadata": {},
   "outputs": [],
   "source": [
    "result_dt = {}\n",
    "for question in question_list:\n",
    "#     print(\"Question: \"+question)\n",
    "    mean_list = []\n",
    "    for year in range(1998,2020,1):\n",
    "        mean=df.loc[df[\"Year\"] == year][question].mean()\n",
    "#         print(\"Mean: \"+str(mean))\n",
    "        mean_list.append(mean)\n",
    "    result_dt.update({question:mean_list})         \n",
    "# result_dt\n",
    "\n",
    "index = range(1998,2020,1)\n",
    "df=pd.DataFrame(data=result_dt, index=index)\n",
    "df.head()"
   ]
  },
  {
   "cell_type": "markdown",
   "metadata": {},
   "source": [
    "### Drop years that there was no congress"
   ]
  },
  {
   "cell_type": "code",
   "execution_count": null,
   "metadata": {},
   "outputs": [],
   "source": [
    "df.drop([df.index[5] , df.index[7], df.index[9], df.index[11]],inplace = True)\n",
    "df"
   ]
  },
  {
   "cell_type": "markdown",
   "metadata": {},
   "source": [
    "### Collect global question means"
   ]
  },
  {
   "cell_type": "code",
   "execution_count": null,
   "metadata": {},
   "outputs": [],
   "source": [
    "global_question_df = df.iloc[:,0:7]\n",
    "global_question_df"
   ]
  },
  {
   "cell_type": "markdown",
   "metadata": {},
   "source": [
    "### Collect specific question means"
   ]
  },
  {
   "cell_type": "code",
   "execution_count": null,
   "metadata": {},
   "outputs": [],
   "source": [
    "specificy_question_df = df.iloc[:,7:]\n",
    "specificy_question_df"
   ]
  },
  {
   "cell_type": "code",
   "execution_count": null,
   "metadata": {},
   "outputs": [],
   "source": [
    "# sns.lineplot(data=df, x=df.index, y=\"Does the researcher avoid any interference in the process, technique and methodology used in the case study?\")"
   ]
  },
  {
   "cell_type": "markdown",
   "metadata": {},
   "source": [
    "### Chart global questions"
   ]
  },
  {
   "cell_type": "code",
   "execution_count": null,
   "metadata": {},
   "outputs": [],
   "source": [
    "# graficos das perguntas globais\n",
    "import plotly.graph_objects as go\n",
    "import numpy as np\n",
    "\n",
    "fig = go.Figure()\n",
    "for question in global_question_df.keys():\n",
    "    \n",
    "    fig.add_trace(go.Scatter(x=df.index, y=df[question], mode='markers'))\n",
    "\n",
    "\n",
    "# fig.update_layout(title='Mean question quality trend ({})'.format(question),\n",
    "# xaxis_title='Years',\n",
    "# yaxis_title='Mean')\n",
    "fig.show()"
   ]
  },
  {
   "cell_type": "markdown",
   "metadata": {},
   "source": [
    "### Chart specific questions"
   ]
  },
  {
   "cell_type": "code",
   "execution_count": null,
   "metadata": {},
   "outputs": [],
   "source": [
    "# graficos das perguntas especificas\n",
    "\n",
    "import plotly.graph_objects as go\n",
    "import numpy as np\n",
    "\n",
    "fig = go.Figure()\n",
    "for question in specificy_question_df.keys():\n",
    "    \n",
    "    fig.add_trace(go.Scatter(x=df.index, y=df[question], mode='markers'))\n",
    "\n",
    "\n",
    "# fig.update_layout(title='Mean question quality trend ({})'.format(question),\n",
    "# xaxis_title='Years',\n",
    "# yaxis_title='Mean')\n",
    "fig.show()"
   ]
  },
  {
   "cell_type": "markdown",
   "metadata": {},
   "source": [
    "###  Trend of global question (Sloop and Error)"
   ]
  },
  {
   "cell_type": "code",
   "execution_count": null,
   "metadata": {},
   "outputs": [],
   "source": [
    "df"
   ]
  },
  {
   "cell_type": "code",
   "execution_count": null,
   "metadata": {},
   "outputs": [],
   "source": [
    "#Referencia: https://www.emilkhatib.com/analyzing-trends-in-data-with-pandas/\n",
    "import numpy as np\n",
    "for question in global_question_df.keys():\n",
    "    selected=df[question]\n",
    "    selected.dropna(inplace=True)\n",
    "    print(question)\n",
    "    coefficients, residuals, _, _, _ = np.polyfit(range(len(selected.index)),selected,1,full=True)\n",
    "    mse = residuals[0]/(len(selected.index))\n",
    "    nrmse = np.sqrt(mse)/(selected.max() - selected.min())\n",
    "    print('Slope ' + str(coefficients[0]))\n",
    "    print('NRMSE: ' + str(nrmse))\n",
    "    print(\"----------------------\")"
   ]
  },
  {
   "cell_type": "markdown",
   "metadata": {},
   "source": [
    "###  Trend of specific question (Sloop and Error)"
   ]
  },
  {
   "cell_type": "code",
   "execution_count": null,
   "metadata": {},
   "outputs": [],
   "source": [
    "#Referencia: https://www.emilkhatib.com/analyzing-trends-in-data-with-pandas/\n",
    "import numpy as np\n",
    "for question in specificy_question_df.keys():\n",
    "    selected=df[question]\n",
    "    selected.dropna(inplace=True)\n",
    "    print(question)\n",
    "    coefficients, residuals, _, _, _ = np.polyfit(range(len(selected.index)),selected,1,full=True)\n",
    "    mse = residuals[0]/(len(selected.index))\n",
    "    nrmse = np.sqrt(mse)/(selected.max() - selected.min())\n",
    "    print('Slope ' + str(coefficients[0]))\n",
    "    print('NRMSE: ' + str(nrmse))\n",
    "    print(\"----------------------\")\n",
    "    "
   ]
  },
  {
   "cell_type": "code",
   "execution_count": null,
   "metadata": {},
   "outputs": [],
   "source": [
    "# import matplotlib.pyplot as plt\n",
    "# plt.plot(selected)\n",
    "# plt.plot([coefficients[0]*x + coefficients[1] for x in range(len(selected))])\n",
    "# plt.show()"
   ]
  },
  {
   "cell_type": "markdown",
   "metadata": {},
   "source": [
    "### Trend Charts\n",
    "**Ordinary Least Squares regression** line will be drawn for each discrete-color/symbol group\n",
    "\n",
    "Ref.: https://pt.wikipedia.org/wiki/M%C3%A9todo_dos_m%C3%ADnimos_quadrados#:~:text=O%20M%C3%A9todo%20dos%20M%C3%ADnimos%20Quadrados,estimado%20e%20os%20dados%20observados"
   ]
  },
  {
   "cell_type": "code",
   "execution_count": null,
   "metadata": {},
   "outputs": [],
   "source": []
  },
  {
   "cell_type": "markdown",
   "metadata": {},
   "source": [
    "### Trend of global questions"
   ]
  },
  {
   "cell_type": "code",
   "execution_count": null,
   "metadata": {},
   "outputs": [],
   "source": [
    "import plotly.express as px\n",
    "\n",
    "if not os.path.exists(\"images\"):\n",
    "    os.mkdir(\"images\")\n",
    "\n",
    "if not os.path.exists(\"images/global\"):\n",
    "    os.mkdir(\"images/global\")    \n",
    "\n",
    "for question in global_question_df:\n",
    "    fig = px.scatter(global_question_df, x= df.index, y=question, trendline=\"ols\", title = question)\n",
    "    fig.update_layout(xaxis_title=\"Years\",\n",
    "        yaxis_title=\"Mean\")\n",
    "    \n",
    "    fig.data[0].update(mode='markers+lines')\n",
    "    \n",
    "    fig.show()\n",
    "    fig.write_image(\"images/global/{}.png\".format(question.replace(\"/\",\",\")))"
   ]
  },
  {
   "cell_type": "markdown",
   "metadata": {},
   "source": [
    "### Trend of specific questions"
   ]
  },
  {
   "cell_type": "code",
   "execution_count": null,
   "metadata": {},
   "outputs": [],
   "source": [
    "import plotly.express as px\n",
    "import os\n",
    "\n",
    "if not os.path.exists(\"images\"):\n",
    "    os.mkdir(\"images\")\n",
    "\n",
    "if not os.path.exists(\"images/specific\"):\n",
    "    os.mkdir(\"images/specific\")    \n",
    "    \n",
    "    \n",
    "for question in specificy_question_df:\n",
    "    fig = px.scatter(specificy_question_df, x= df.index, y=question, trendline=\"ols\", title = question)\n",
    "    fig.update_layout(xaxis_title=\"Years\",\n",
    "        yaxis_title=\"Mean\")\n",
    "    \n",
    "    fig.data[0].update(mode='markers+lines')\n",
    "    \n",
    "    fig.show()\n",
    "    fig.write_image(\"images/specific/{}.png\".format(question.replace(\"/\",\",\")))"
   ]
  },
  {
   "cell_type": "code",
   "execution_count": null,
   "metadata": {},
   "outputs": [],
   "source": [
    "import plotly.express as px\n",
    "question = \"Is the case and its analysis units explicitly defined and presented? (size, domain, process and subjects)\"\n",
    "fig = px.scatter(specificy_question_df, x= df.index, y=question, trendline=\"lowess\", title = question)\n",
    "fig.update_layout(xaxis_title=\"Years\",\n",
    "    yaxis_title=\"Mean\")\n",
    "fig.show()"
   ]
  },
  {
   "cell_type": "code",
   "execution_count": null,
   "metadata": {},
   "outputs": [],
   "source": [
    "# from statsmodels.tsa.seasonal import seasonal_decompose\n",
    "# series = df[\"Are the impirical research objectives and the research questions defined in advance?\"]\n",
    "# result = seasonal_decompose(series.values, model='additive')\n",
    "# print(result.trend)\n",
    "# print(result.seasonal)\n",
    "# print(result.resid)\n",
    "# print(result.observed)"
   ]
  },
  {
   "cell_type": "markdown",
   "metadata": {},
   "source": [
    "# Quality Rate Analysis"
   ]
  },
  {
   "cell_type": "code",
   "execution_count": 11,
   "metadata": {},
   "outputs": [],
   "source": [
    "years = [2019, 2018,2017,2016,2015,2014,2013,2012,2011,2010,2008,2006,2004,2002,2001,2000,1999,1998]"
   ]
  },
  {
   "cell_type": "markdown",
   "metadata": {},
   "source": [
    "Quality Rates (Case Study)"
   ]
  },
  {
   "cell_type": "code",
   "execution_count": 12,
   "metadata": {},
   "outputs": [
    {
     "name": "stdout",
     "output_type": "stream",
     "text": [
      "Slope 0.05353942208462332\n",
      "NRMSE: 0.21599566759994357\n",
      "----------------------\n"
     ]
    }
   ],
   "source": [
    "rates = [0.9286,0.0000,0.0000,1.1810,0.9357,0.8000,1.3429,1.1952,1.3238,1.1405,1.3486,1.3190,1.1982,1.2813,1.4214,1.2871,1.4250,1.2270]\n",
    "\n",
    "df=pd.DataFrame(list(zip(years, rates)),\n",
    "               columns =['years', 'average'])\n",
    "\n",
    "#Referencia: https://www.emilkhatib.com/analyzing-trends-in-data-with-pandas/\n",
    "import numpy as np\n",
    "selected=df[\"average\"]\n",
    "coefficients, residuals, _, _, _ = np.polyfit(range(len(selected.index)),selected,1,full=True)\n",
    "mse = residuals[0]/(len(selected.index))\n",
    "nrmse = np.sqrt(mse)/(selected.max() - selected.min())\n",
    "print('Slope ' + str(coefficients[0]))\n",
    "print('NRMSE: ' + str(nrmse))\n",
    "print(\"----------------------\")"
   ]
  },
  {
   "cell_type": "markdown",
   "metadata": {},
   "source": [
    "Quality Rates (Systematic Review)"
   ]
  },
  {
   "cell_type": "code",
   "execution_count": 13,
   "metadata": {},
   "outputs": [
    {
     "name": "stdout",
     "output_type": "stream",
     "text": [
      "Slope 0.11441104231166152\n",
      "NRMSE: 0.24219286428005685\n",
      "----------------------\n"
     ]
    }
   ],
   "source": [
    "rates = [0.0000,0.0000,0.0000,0.0000,0.0000,0.0000,0.0000,0.0000,0.0000,1.7143,1.3571,0.0000,1.2143,1.6071,1.0952,1.8571,1.4494,1.4226]\n",
    "\n",
    "df=pd.DataFrame(list(zip(years, rates)),\n",
    "               columns =['years', 'average'])\n",
    "\n",
    "#Referencia: https://www.emilkhatib.com/analyzing-trends-in-data-with-pandas/\n",
    "import numpy as np\n",
    "selected=df[\"average\"]\n",
    "coefficients, residuals, _, _, _ = np.polyfit(range(len(selected.index)),selected,1,full=True)\n",
    "mse = residuals[0]/(len(selected.index))\n",
    "nrmse = np.sqrt(mse)/(selected.max() - selected.min())\n",
    "print('Slope ' + str(coefficients[0]))\n",
    "print('NRMSE: ' + str(nrmse))\n",
    "print(\"----------------------\")"
   ]
  },
  {
   "cell_type": "markdown",
   "metadata": {},
   "source": [
    "Quality Rates (Experiments)"
   ]
  },
  {
   "cell_type": "code",
   "execution_count": 14,
   "metadata": {},
   "outputs": [
    {
     "name": "stdout",
     "output_type": "stream",
     "text": [
      "Slope 0.053467079463364306\n",
      "NRMSE: 0.39724568518756753\n",
      "----------------------\n"
     ]
    }
   ],
   "source": [
    "rates = [0.0000,1.5476,0.0000,0.0000,0.0000,0.0000,1.6429,1.4047,1.3810,0.0000,0.0000,0.0000,1.5000,1.8571,1.3810,1.4286,1.8571,0.0000]\n",
    "\n",
    "df=pd.DataFrame(list(zip(years, rates)),\n",
    "               columns =['years', 'average'])\n",
    "\n",
    "#Referencia: https://www.emilkhatib.com/analyzing-trends-in-data-with-pandas/\n",
    "import numpy as np\n",
    "selected=df[\"average\"]\n",
    "coefficients, residuals, _, _, _ = np.polyfit(range(len(selected.index)),selected,1,full=True)\n",
    "mse = residuals[0]/(len(selected.index))\n",
    "nrmse = np.sqrt(mse)/(selected.max() - selected.min())\n",
    "print('Slope ' + str(coefficients[0]))\n",
    "print('NRMSE: ' + str(nrmse))\n",
    "print(\"----------------------\")"
   ]
  },
  {
   "cell_type": "markdown",
   "metadata": {},
   "source": [
    "Quality Rates (Survey)"
   ]
  },
  {
   "cell_type": "code",
   "execution_count": 15,
   "metadata": {},
   "outputs": [
    {
     "name": "stdout",
     "output_type": "stream",
     "text": [
      "Slope 0.035771620227038184\n",
      "NRMSE: 0.3609214331549077\n",
      "----------------------\n"
     ]
    }
   ],
   "source": [
    "rates = [0.0000,0.0000,0.0000,0.0000,0.0000,0.0000,1.3143,1.5857,0.0000,0.0000,0.0000,0.0000,0.0000,0.0000,0.0000,1.6572,0.0000,1.4381]\n",
    "df=pd.DataFrame(list(zip(years, rates)),\n",
    "               columns =['years', 'average'])\n",
    "\n",
    "#Referencia: https://www.emilkhatib.com/analyzing-trends-in-data-with-pandas/\n",
    "import numpy as np\n",
    "selected=df[\"average\"]\n",
    "coefficients, residuals, _, _, _ = np.polyfit(range(len(selected.index)),selected,1,full=True)\n",
    "mse = residuals[0]/(len(selected.index))\n",
    "nrmse = np.sqrt(mse)/(selected.max() - selected.min())\n",
    "print('Slope ' + str(coefficients[0]))\n",
    "print('NRMSE: ' + str(nrmse))\n",
    "print(\"----------------------\")"
   ]
  }
 ],
 "metadata": {
  "hide_input": false,
  "kernelspec": {
   "display_name": "Python 3",
   "language": "python",
   "name": "python3"
  },
  "language_info": {
   "codemirror_mode": {
    "name": "ipython",
    "version": 3
   },
   "file_extension": ".py",
   "mimetype": "text/x-python",
   "name": "python",
   "nbconvert_exporter": "python",
   "pygments_lexer": "ipython3",
   "version": "3.8.10"
  },
  "toc": {
   "base_numbering": 1,
   "nav_menu": {},
   "number_sections": true,
   "sideBar": true,
   "skip_h1_title": false,
   "title_cell": "Table of Contents",
   "title_sidebar": "Contents",
   "toc_cell": false,
   "toc_position": {},
   "toc_section_display": true,
   "toc_window_display": false
  }
 },
 "nbformat": 4,
 "nbformat_minor": 4
}
