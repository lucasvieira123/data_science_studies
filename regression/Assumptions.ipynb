{
 "cells": [
  {
   "cell_type": "markdown",
   "id": "f41016e7-c3d5-46c7-9b72-f679ae5cb35e",
   "metadata": {},
   "source": [
    "## Assumptions of a Linear Regression\n",
    "\n",
    "1- Linearity\n",
    "\n",
    "2- Homoscendasticity\n",
    "\n",
    "3- Multivariate normality\n",
    "\n",
    "4- Independence of errors\n",
    "\n",
    "5- Lack of multicollinearity"
   ]
  }
 ],
 "metadata": {
  "kernelspec": {
   "display_name": "Python 3",
   "language": "python",
   "name": "python3"
  },
  "language_info": {
   "codemirror_mode": {
    "name": "ipython",
    "version": 3
   },
   "file_extension": ".py",
   "mimetype": "text/x-python",
   "name": "python",
   "nbconvert_exporter": "python",
   "pygments_lexer": "ipython3",
   "version": "3.8.10"
  }
 },
 "nbformat": 4,
 "nbformat_minor": 5
}
