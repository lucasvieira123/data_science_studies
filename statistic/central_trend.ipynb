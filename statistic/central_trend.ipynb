{
 "cells": [
  {
   "cell_type": "markdown",
   "metadata": {},
   "source": [
    "# Medidas de Tendência Central"
   ]
  },
  {
   "cell_type": "markdown",
   "metadata": {},
   "source": [
    "Inicialmente, vamos importar as bibliotecas necessárias:"
   ]
  },
  {
   "cell_type": "code",
   "execution_count": 1,
   "metadata": {},
   "outputs": [],
   "source": [
    "import numpy as np\n",
    "from scipy import stats"
   ]
  },
  {
   "cell_type": "markdown",
   "metadata": {},
   "source": [
    "## Média"
   ]
  },
  {
   "attachments": {
    "image.png": {
     "image/png": "[encoded data removed]"
    }
   },
   "cell_type": "markdown",
   "metadata": {},
   "source": [
    "Considere o vetor de dados $\\mathbf{x}$:\n",
    "![image.png](attachment:image.png)"
   ]
  },
  {
   "cell_type": "code",
   "execution_count": 2,
   "metadata": {},
   "outputs": [],
   "source": [
    "x = np.array([1, 3, 4, 2, 7, 6, 8])"
   ]
  },
  {
   "cell_type": "markdown",
   "metadata": {},
   "source": [
    "Note que preferimos sempre trabalhar com o tipo $\\texttt{numpy array}$:"
   ]
  },
  {
   "cell_type": "code",
   "execution_count": 3,
   "metadata": {},
   "outputs": [
    {
     "name": "stdout",
     "output_type": "stream",
     "text": [
      "<class 'numpy.ndarray'>\n"
     ]
    }
   ],
   "source": [
    "print(type(x))"
   ]
  },
  {
   "cell_type": "markdown",
   "metadata": {},
   "source": [
    "Para calcular a média dos valores de $\\mathbf{x}$, basta fazer:"
   ]
  },
  {
   "cell_type": "code",
   "execution_count": 4,
   "metadata": {},
   "outputs": [
    {
     "name": "stdout",
     "output_type": "stream",
     "text": [
      "mu = 4.428571428571429\n"
     ]
    }
   ],
   "source": [
    "mu = np.mean(x)\n",
    "print('mu =', mu)"
   ]
  },
  {
   "cell_type": "markdown",
   "metadata": {},
   "source": [
    "Considere agora uma matriz $A$:"
   ]
  },
  {
   "cell_type": "code",
   "execution_count": 5,
   "metadata": {},
   "outputs": [
    {
     "name": "stdout",
     "output_type": "stream",
     "text": [
      "A = \n",
      " [[1 2 3]\n",
      " [1 2 2]\n",
      " [3 2 1]\n",
      " [1 1 1]]\n"
     ]
    }
   ],
   "source": [
    "A = np.array([[1, 2, 3],[1, 2, 2],[3, 2, 1],[1, 1, 1]])\n",
    "print('A = \\n', A)"
   ]
  },
  {
   "cell_type": "markdown",
   "metadata": {},
   "source": [
    "Se fizermos"
   ]
  },
  {
   "cell_type": "code",
   "execution_count": 6,
   "metadata": {},
   "outputs": [
    {
     "data": {
      "text/plain": [
       "1.6666666666666667"
      ]
     },
     "execution_count": 6,
     "metadata": {},
     "output_type": "execute_result"
    }
   ],
   "source": [
    "np.mean(A)"
   ]
  },
  {
   "cell_type": "markdown",
   "metadata": {},
   "source": [
    "Obteremos a média de todos os valores de $A$."
   ]
  },
  {
   "cell_type": "markdown",
   "metadata": {},
   "source": [
    "Mas, se quisermos a média por coluna, devemos fazer especificar a dimensão a ser utilizada com $\\texttt{axis}$:"
   ]
  },
  {
   "cell_type": "code",
   "execution_count": 7,
   "metadata": {},
   "outputs": [
    {
     "name": "stdout",
     "output_type": "stream",
     "text": [
      "Média por coluna: [1.5  1.75 1.75]\n"
     ]
    }
   ],
   "source": [
    "mu_col = np.mean(A, axis=0)\n",
    "print('Média por coluna:', mu_col)"
   ]
  },
  {
   "cell_type": "markdown",
   "metadata": {},
   "source": [
    "Para a média por linha, usamos:"
   ]
  },
  {
   "cell_type": "code",
   "execution_count": 8,
   "metadata": {},
   "outputs": [
    {
     "name": "stdout",
     "output_type": "stream",
     "text": [
      "Média por linha: [2.         1.66666667 2.         1.        ]\n"
     ]
    }
   ],
   "source": [
    "mu_row = np.mean(A, axis=1)\n",
    "print('Média por linha:', mu_row)"
   ]
  },
  {
   "cell_type": "markdown",
   "metadata": {},
   "source": [
    "Apenas para deixar mais elegante:"
   ]
  },
  {
   "cell_type": "code",
   "execution_count": 9,
   "metadata": {},
   "outputs": [
    {
     "name": "stdout",
     "output_type": "stream",
     "text": [
      "mu_row = [ 2.000  1.667  2.000  1.000]\n"
     ]
    }
   ],
   "source": [
    "np.set_printoptions(formatter={'float': '{: 0.3f}'.format})\n",
    "print('mu_row =', mu_row)"
   ]
  },
  {
   "cell_type": "markdown",
   "metadata": {},
   "source": [
    "## Moda"
   ]
  },
  {
   "cell_type": "markdown",
   "metadata": {},
   "source": [
    "Um outro tipo de medida de tendência central é a _moda_, que é o valor mais frequente do vetor de dados.<br>\n",
    "Por exemplo:"
   ]
  },
  {
   "cell_type": "code",
   "execution_count": 10,
   "metadata": {},
   "outputs": [],
   "source": [
    "y = np.array([2, 4, 6, 2, 5, 6, 2, 9, 4, 5, 2, 1])"
   ]
  },
  {
   "cell_type": "code",
   "execution_count": 12,
   "metadata": {},
   "outputs": [
    {
     "name": "stdout",
     "output_type": "stream",
     "text": [
      "moda = [2]  que aparece [4] vezes.\n"
     ]
    }
   ],
   "source": [
    "moda = stats.mode(y)\n",
    "print('moda =', moda[0], ' que aparece', moda[1], 'vezes.')"
   ]
  },
  {
   "cell_type": "markdown",
   "metadata": {},
   "source": [
    "O resultado acima nos dá o valor mais frequente (2) e sua frequência (4)."
   ]
  },
  {
   "cell_type": "markdown",
   "metadata": {},
   "source": [
    "Voltando ao exemplo da matriz $A$:"
   ]
  },
  {
   "cell_type": "code",
   "execution_count": 13,
   "metadata": {},
   "outputs": [
    {
     "data": {
      "text/plain": [
       "array([[1, 2, 3],\n",
       "       [1, 2, 2],\n",
       "       [3, 2, 1],\n",
       "       [1, 1, 1]])"
      ]
     },
     "execution_count": 13,
     "metadata": {},
     "output_type": "execute_result"
    }
   ],
   "source": [
    "A"
   ]
  },
  {
   "cell_type": "markdown",
   "metadata": {},
   "source": [
    "temos:"
   ]
  },
  {
   "cell_type": "code",
   "execution_count": 14,
   "metadata": {},
   "outputs": [
    {
     "data": {
      "text/plain": [
       "ModeResult(mode=array([[1, 2, 1]]), count=array([[3, 3, 2]]))"
      ]
     },
     "execution_count": 14,
     "metadata": {},
     "output_type": "execute_result"
    }
   ],
   "source": [
    "stats.mode(A)"
   ]
  },
  {
   "cell_type": "markdown",
   "metadata": {},
   "source": [
    "ou seja, o número 1 é o valor mais frequente da primeira coluna, aparecendo nela 3 vezes; \n",
    "\n",
    "o número 2 é o valor mais frequente da segunda coluna, aparecendo 3 vezes; e\n",
    "\n",
    "o número 1 é o valor mais frequente da primeira coluna, aparecendo 2 vezes."
   ]
  },
  {
   "cell_type": "markdown",
   "metadata": {},
   "source": [
    "Para o cálculo por linhas, fazemos:"
   ]
  },
  {
   "cell_type": "code",
   "execution_count": 15,
   "metadata": {},
   "outputs": [
    {
     "data": {
      "text/plain": [
       "ModeResult(mode=array([[1],\n",
       "       [2],\n",
       "       [1],\n",
       "       [1]]), count=array([[1],\n",
       "       [2],\n",
       "       [1],\n",
       "       [3]]))"
      ]
     },
     "execution_count": 15,
     "metadata": {},
     "output_type": "execute_result"
    }
   ],
   "source": [
    "stats.mode(A, axis=1)"
   ]
  },
  {
   "cell_type": "markdown",
   "metadata": {},
   "source": [
    "## Mediana"
   ]
  },
  {
   "cell_type": "markdown",
   "metadata": {},
   "source": [
    "Se ordenamos os vetores $\\mathbf{x}$ e $\\mathbf{y}$, obteremos:"
   ]
  },
  {
   "cell_type": "code",
   "execution_count": 16,
   "metadata": {},
   "outputs": [
    {
     "data": {
      "text/plain": [
       "array([1, 2, 3, 4, 6, 7, 8])"
      ]
     },
     "execution_count": 16,
     "metadata": {},
     "output_type": "execute_result"
    }
   ],
   "source": [
    "np.sort(x)"
   ]
  },
  {
   "cell_type": "code",
   "execution_count": 17,
   "metadata": {},
   "outputs": [
    {
     "data": {
      "text/plain": [
       "array([1, 2, 2, 2, 2, 4, 4, 5, 5, 6, 6, 9])"
      ]
     },
     "execution_count": 17,
     "metadata": {},
     "output_type": "execute_result"
    }
   ],
   "source": [
    "np.sort(y)"
   ]
  },
  {
   "cell_type": "markdown",
   "metadata": {},
   "source": [
    "Agora, é fácil ver que:"
   ]
  },
  {
   "cell_type": "code",
   "execution_count": 19,
   "metadata": {},
   "outputs": [
    {
     "data": {
      "text/plain": [
       "4.0"
      ]
     },
     "execution_count": 19,
     "metadata": {},
     "output_type": "execute_result"
    }
   ],
   "source": [
    "np.median(x)"
   ]
  },
  {
   "cell_type": "code",
   "execution_count": 20,
   "metadata": {},
   "outputs": [
    {
     "data": {
      "text/plain": [
       "4.0"
      ]
     },
     "execution_count": 20,
     "metadata": {},
     "output_type": "execute_result"
    }
   ],
   "source": [
    "np.median(y)"
   ]
  },
  {
   "cell_type": "markdown",
   "metadata": {},
   "source": [
    "Para vermos que a mediana é menos sensível a valores extremos, façamos:"
   ]
  },
  {
   "cell_type": "code",
   "execution_count": 22,
   "metadata": {},
   "outputs": [],
   "source": [
    "z = np.array([1, 3, 4, 2, 237, 6, 8])"
   ]
  },
  {
   "cell_type": "markdown",
   "metadata": {},
   "source": [
    "E calculemos:"
   ]
  },
  {
   "cell_type": "code",
   "execution_count": 23,
   "metadata": {},
   "outputs": [
    {
     "data": {
      "text/plain": [
       "37.285714285714285"
      ]
     },
     "execution_count": 23,
     "metadata": {},
     "output_type": "execute_result"
    }
   ],
   "source": [
    "np.mean(z)"
   ]
  },
  {
   "cell_type": "markdown",
   "metadata": {},
   "source": [
    "e"
   ]
  },
  {
   "cell_type": "code",
   "execution_count": 30,
   "metadata": {},
   "outputs": [
    {
     "name": "stdout",
     "output_type": "stream",
     "text": [
      "[  1   2   3   4   6   8 237]\n",
      "[[1 2 3]\n",
      " [1 2 2]\n",
      " [3 2 1]\n",
      " [1 1 1]] \n",
      " [ 1.000  2.000  1.500]\n"
     ]
    }
   ],
   "source": [
    "print(np.sort(z))\n",
    "np.median(z)\n",
    "\n",
    "print(A,'\\n', np.median(A, axis=0) )"
   ]
  },
  {
   "cell_type": "markdown",
   "metadata": {},
   "source": [
    "Notemos que $4.0$ representa bem melhor a tendência central do vetor $\\mathbf{z}$ que $37.29$."
   ]
  },
  {
   "cell_type": "markdown",
   "metadata": {},
   "source": [
    "## Média x Mediana"
   ]
  },
  {
   "cell_type": "markdown",
   "metadata": {},
   "source": [
    "Agora, consideremos um exemplo mais real do uso da média e da mediana."
   ]
  },
  {
   "cell_type": "markdown",
   "metadata": {},
   "source": [
    "Vamos isolar o fundo das seguintes imagens:"
   ]
  },
  {
   "cell_type": "code",
   "execution_count": 25,
   "metadata": {
    "scrolled": true
   },
   "outputs": [
    {
     "data": {
      "image/png": "[encoded data removed]",
      "text/plain": [
       "<Figure size 432x288 with 6 Axes>"
      ]
     },
     "metadata": {},
     "output_type": "display_data"
    }
   ],
   "source": [
    "from matplotlib import pyplot as plt\n",
    "\n",
    "img = []\n",
    "for i in range(1,7):\n",
    "    file = '../figuras/walking_man_0' + str(i) + '.jpg'\n",
    "    img.append(plt.imread(file,0))\n",
    "    img[i-1] = img[i-1].astype(float)\n",
    "    img[i-1] = img[i-1]/255.0\n",
    "    plt.subplot(2, 3, i)\n",
    "    plt.imshow(img[i-1], cmap='gray')\n",
    "    plt.xticks([])\n",
    "    plt.yticks([])"
   ]
  },
  {
   "cell_type": "markdown",
   "metadata": {},
   "source": [
    "Uma ideia é calcular a média das imagens, o que nos dá:"
   ]
  },
  {
   "cell_type": "code",
   "execution_count": 26,
   "metadata": {},
   "outputs": [
    {
     "data": {
      "text/plain": [
       "([], [])"
      ]
     },
     "execution_count": 26,
     "metadata": {},
     "output_type": "execute_result"
    },
    {
     "data": {
      "image/png": "[encoded data removed]",
      "text/plain": [
       "<Figure size 432x288 with 1 Axes>"
      ]
     },
     "metadata": {},
     "output_type": "display_data"
    }
   ],
   "source": [
    "avg_img = img[0].copy()\n",
    "for i in range(1,6):\n",
    "    avg_img += img[i]\n",
    "avg_img = avg_img/6.0\n",
    "plt.imshow(avg_img, cmap='gray')\n",
    "plt.xticks([])\n",
    "plt.yticks([])"
   ]
  },
  {
   "cell_type": "markdown",
   "metadata": {},
   "source": [
    "Conseguimos um resultado razoável, mas precisaríamos de muitas imagens para reduzir os \"fantasmas\".\n",
    "\n",
    "Vejamos o que acontece quando aplicamos a mediana:"
   ]
  },
  {
   "cell_type": "code",
   "execution_count": 33,
   "metadata": {},
   "outputs": [
    {
     "name": "stdout",
     "output_type": "stream",
     "text": [
      "shape:  (6, 144, 192)\n"
     ]
    },
    {
     "data": {
      "text/plain": [
       "([], [])"
      ]
     },
     "execution_count": 33,
     "metadata": {},
     "output_type": "execute_result"
    },
    {
     "data": {
      "image/png": "[encoded data removed]",
      "text/plain": [
       "<Figure size 432x288 with 1 Axes>"
      ]
     },
     "metadata": {},
     "output_type": "display_data"
    }
   ],
   "source": [
    "median_img = np.median(img,axis=0)\n",
    "print('shape: ', np.array(img).shape)\n",
    "plt.imshow(median_img, cmap='gray')\n",
    "plt.xticks([])\n",
    "plt.yticks([])"
   ]
  },
  {
   "cell_type": "markdown",
   "metadata": {},
   "source": [
    "   ## Banco de Dados Iris"
   ]
  },
  {
   "cell_type": "markdown",
   "metadata": {},
   "source": [
    "Vamos calcular algumas medidas de tendência central com o banco de dados Iris."
   ]
  },
  {
   "cell_type": "code",
   "execution_count": 34,
   "metadata": {},
   "outputs": [],
   "source": [
    "from sklearn import datasets\n",
    "\n",
    "iris = datasets.load_iris()\n",
    "X = iris.data\n",
    "y = iris.target"
   ]
  },
  {
   "cell_type": "markdown",
   "metadata": {},
   "source": [
    "As médias de cada característica por espécie são:"
   ]
  },
  {
   "cell_type": "code",
   "execution_count": 35,
   "metadata": {},
   "outputs": [
    {
     "name": "stdout",
     "output_type": "stream",
     "text": [
      "Médias da Iris setosa     = [ 5.006  3.428  1.462  0.246]\n",
      "Médias da Iris versicolor = [ 5.936  2.770  4.260  1.326]\n",
      "Médias da Iris virginica  = [ 6.588  2.974  5.552  2.026]\n"
     ]
    }
   ],
   "source": [
    "mu_setosa = np.mean(X[0:50,:], axis=0)\n",
    "mu_versicolor = np.mean(X[50:100,:], axis=0)\n",
    "mu_virginica = np.mean(X[100:150,:], axis=0)\n",
    "print('Médias da Iris setosa     =', mu_setosa)\n",
    "print('Médias da Iris versicolor =', mu_versicolor)\n",
    "print('Médias da Iris virginica  =', mu_virginica)"
   ]
  },
  {
   "cell_type": "markdown",
   "metadata": {},
   "source": [
    "Assim, a espécie Iris viginica possui, em média, maiores comprimento de sépala, comprimento e largura de pétala, enquanto que a setosa possui maior largura de sépala que as outras espécies.\n",
    "\n",
    "Iris setosa caract 3 tem um valor médio de 1.462 comparando com 4.260 (Iris versicolor), logo consegue ser bem separado para uma classificação linear, já o mesmo atributo da Iris versicolor e Iris virginica, não são tão distances como comparado o Iris setosa  e Iris versicolor, logo pode existir um pouco mais de dificuldade em separar/classificar.\n"
   ]
  },
  {
   "cell_type": "markdown",
   "metadata": {},
   "source": [
    "Vejamos alguns gráficos."
   ]
  },
  {
   "cell_type": "code",
   "execution_count": 36,
   "metadata": {},
   "outputs": [
    {
     "data": {
      "text/plain": [
       "<matplotlib.legend.Legend at 0x7f481435b940>"
      ]
     },
     "execution_count": 36,
     "metadata": {},
     "output_type": "execute_result"
    },
    {
     "data": {
      "image/png": "[encoded data removed]",
      "text/plain": [
       "<Figure size 432x288 with 1 Axes>"
      ]
     },
     "metadata": {
      "needs_background": "light"
     },
     "output_type": "display_data"
    }
   ],
   "source": [
    "import matplotlib.pyplot as plt\n",
    "fig = plt.figure()\n",
    "ax1 = fig.add_subplot(111)\n",
    "eixo_x = range(50)\n",
    "ax1.scatter(eixo_x, X[0:50,0], c='r', marker='^', label=\"Iris setosa\")\n",
    "ax1.set_xlabel('Amostra')\n",
    "ax1.set_ylabel('Comprimento de sépala')\n",
    "ax1.legend(bbox_to_anchor=(1.05, 1), loc=2, borderaxespad=0.)"
   ]
  },
  {
   "cell_type": "markdown",
   "metadata": {},
   "source": [
    "Note que esse tipo de gráfico pouco nos informa sobre as tendências dos dados.<br>\n",
    "Para visualizarmos tendências, usamos o conceito de histograma."
   ]
  },
  {
   "cell_type": "markdown",
   "metadata": {},
   "source": [
    "## Histograma"
   ]
  },
  {
   "cell_type": "markdown",
   "metadata": {},
   "source": [
    "O histograma é um gráfico de frequência de dados.<br>\n",
    "No eixo das abscissas, estão os valores dos quais se quer a frequência;<br>\n",
    "no eixo das ordenadas, estão as frequência, i.e., o números de exemplares numa determinada faixa de valores.<br>\n",
    "É comum usar \"caixas\" (<em>bins</em>) nas abscissas, isto é, tomam-se faixas de valores ao invés de valores individuais.<br>\n",
    "Normalmente, as caixas têm a mesma largura.\n"
   ]
  },
  {
   "cell_type": "code",
   "execution_count": 37,
   "metadata": {
    "scrolled": true
   },
   "outputs": [
    {
     "data": {
      "text/plain": [
       "Text(0, 0.5, 'Número de exemplares')"
      ]
     },
     "execution_count": 37,
     "metadata": {},
     "output_type": "execute_result"
    },
    {
     "data": {
      "image/png": "[encoded data removed]",
      "text/plain": [
       "<Figure size 432x288 with 1 Axes>"
      ]
     },
     "metadata": {
      "needs_background": "light"
     },
     "output_type": "display_data"
    }
   ],
   "source": [
    "fig = plt.figure()\n",
    "ax2 = fig.add_subplot(111)\n",
    "# Para escolher o número de caixas:\n",
    "plt.hist(X[0:50,0], bins=10)\n",
    "# Para escolher a largura da caixa:\n",
    "#binwidth = 0.2\n",
    "#plt.hist(X[0:50,0], bins=np.arange(min(X[0:50,0]), max(X[0:50,0]) + binwidth, binwidth))\n",
    "ax2.set_xlabel('Comprimento de sépala (cm)')\n",
    "ax2.set_ylabel('Número de exemplares')"
   ]
  },
  {
   "cell_type": "markdown",
   "metadata": {},
   "source": [
    "Repare que o centro de massa desse histograma está em +ou- 5, logo a média é aprox em 5 conforme calculado em células anteriores"
   ]
  }
 ],
 "metadata": {
  "kernelspec": {
   "display_name": "Python 3",
   "language": "python",
   "name": "python3"
  },
  "language_info": {
   "codemirror_mode": {
    "name": "ipython",
    "version": 3
   },
   "file_extension": ".py",
   "mimetype": "text/x-python",
   "name": "python",
   "nbconvert_exporter": "python",
   "pygments_lexer": "ipython3",
   "version": "3.8.10"
  }
 },
 "nbformat": 4,
 "nbformat_minor": 4
}
