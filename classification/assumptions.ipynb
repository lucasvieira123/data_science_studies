{
 "cells": [
  {
   "cell_type": "markdown",
   "id": "1c21e1e0-118c-476b-aa0c-ac25bfe5199f",
   "metadata": {},
   "source": [
    "https://www.superdatascience.com/blogs/the-ultimate-guide-to-regression-classification"
   ]
  },
  {
   "cell_type": "code",
   "execution_count": null,
   "id": "6fe164df-78dd-4572-94d7-3fe5c28847a5",
   "metadata": {},
   "outputs": [],
   "source": []
  }
 ],
 "metadata": {
  "kernelspec": {
   "display_name": "Python 3",
   "language": "python",
   "name": "python3"
  },
  "language_info": {
   "codemirror_mode": {
    "name": "ipython",
    "version": 3
   },
   "file_extension": ".py",
   "mimetype": "text/x-python",
   "name": "python",
   "nbconvert_exporter": "python",
   "pygments_lexer": "ipython3",
   "version": "3.8.10"
  }
 },
 "nbformat": 4,
 "nbformat_minor": 5
}
