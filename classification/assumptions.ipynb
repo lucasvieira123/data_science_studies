{
 "cells": [
  {
   "cell_type": "markdown",
   "id": "1c21e1e0-118c-476b-aa0c-ac25bfe5199f",
   "metadata": {},
   "source": [
    "https://www.superdatascience.com/blogs/the-ultimate-guide-to-regression-classification"
   ]
  },
  {
   "cell_type": "markdown",
   "id": "2a5e93b6-2b96-4f1e-b15d-f57c83959973",
   "metadata": {},
   "source": [
    "How do I know which model to choose for my problem ?\n",
    "\n",
    "- If your problem is linear, you should go for Logistic Regression or SVM.\n",
    "- If your problem is non linear, you should go for K-NN, Naive Bayes, Decision Tree or Random Forest."
   ]
  },
  {
   "cell_type": "markdown",
   "id": "d75bfcfd-9dad-44ea-ad06-fabe8c291a25",
   "metadata": {},
   "source": [
    "Logistic Regression or Naive Bayes when you want to rank your predictions by their probability. For example if you want to rank your customers from the highest probability that they buy a certain product, to the lowest probability. Eventually that allows you to target your marketing campaigns. And of course for this type of business problem, you should use Logistic Regression if your problem is linear, and Naive Bayes if your problem is non linear."
   ]
  },
  {
   "cell_type": "markdown",
   "id": "c75c6ad5-dfe3-452a-b31f-5e5a65ab2bb3",
   "metadata": {},
   "source": [
    "SVM when you want to predict to which segment your customers belong to. Segments can be any kind of segments, for example some market segments you identified earlier with clustering.\n",
    "\n",
    "Decision Tree when you want to have clear interpretation of your model results,\n",
    "\n",
    "Random Forest when you are just looking for high performance with less need for interpretation. "
   ]
  },
  {
   "cell_type": "code",
   "execution_count": 1,
   "id": "24b46df9-47b9-4819-be9f-f279d01c612c",
   "metadata": {},
   "outputs": [
    {
     "data": {
      "text/html": [
       "\n",
       "        <iframe\n",
       "            width=\"600\"\n",
       "            height=\"300\"\n",
       "            src=\"Classification_Pros_Cons.pdf\"\n",
       "            frameborder=\"0\"\n",
       "            allowfullscreen\n",
       "        ></iframe>\n",
       "        "
      ],
      "text/plain": [
       "<IPython.lib.display.IFrame at 0x1b767824f10>"
      ]
     },
     "execution_count": 1,
     "metadata": {},
     "output_type": "execute_result"
    }
   ],
   "source": [
    "from IPython.display import IFrame\n",
    "IFrame(\"Classification_Pros_Cons.pdf\", width=600, height=300)"
   ]
  },
  {
   "cell_type": "code",
   "execution_count": null,
   "id": "34609345-84b2-45b3-a9fd-9923fd4f2349",
   "metadata": {},
   "outputs": [],
   "source": []
  }
 ],
 "metadata": {
  "kernelspec": {
   "display_name": "Python 3",
   "language": "python",
   "name": "python3"
  },
  "language_info": {
   "codemirror_mode": {
    "name": "ipython",
    "version": 3
   },
   "file_extension": ".py",
   "mimetype": "text/x-python",
   "name": "python",
   "nbconvert_exporter": "python",
   "pygments_lexer": "ipython3",
   "version": "3.8.10"
  }
 },
 "nbformat": 4,
 "nbformat_minor": 5
}
