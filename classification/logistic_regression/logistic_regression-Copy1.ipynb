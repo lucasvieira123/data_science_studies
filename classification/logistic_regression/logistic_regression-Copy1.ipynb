{
 "cells": [
  {
   "cell_type": "code",
   "execution_count": 1,
   "id": "07ddf207-449a-4801-816b-21b40c4035c1",
   "metadata": {},
   "outputs": [],
   "source": [
    "import numpy as np\n",
    "import matplotlib.pyplot as plt\n",
    "import pandas as pd"
   ]
  },
  {
   "cell_type": "code",
   "execution_count": 2,
   "id": "a15ac1e0-b868-491c-a65b-07bbadd5629a",
   "metadata": {},
   "outputs": [],
   "source": [
    "dataset = pd.read_csv(\"Social_Network_Ads.csv\")\n",
    "X = dataset.iloc[:,:-1].values\n",
    "y = dataset.iloc[:,-1].values"
   ]
  },
  {
   "cell_type": "code",
   "execution_count": 3,
   "id": "966280a7-485d-4e11-a4ac-62844d5e1ddb",
   "metadata": {},
   "outputs": [],
   "source": [
    "from sklearn.model_selection import train_test_split\n",
    "X_train, X_test, y_train, y_test = train_test_split(X, y, test_size=0.25, random_state=0)"
   ]
  },
  {
   "cell_type": "code",
   "execution_count": 4,
   "id": "dc53adb0-8944-4331-93cf-ca0b83d29fe4",
   "metadata": {},
   "outputs": [],
   "source": [
    "from sklearn.preprocessing import StandardScaler\n",
    "sc = StandardScaler()\n",
    "X_train = sc.fit_transform(X_train)\n",
    "X_test = sc.fit_transform(X_test)"
   ]
  },
  {
   "cell_type": "code",
   "execution_count": 5,
   "id": "fb4e5f6d-649a-4226-8a78-d304e821775e",
   "metadata": {},
   "outputs": [
    {
     "data": {
      "text/plain": [
       "LogisticRegression(random_state=0)"
      ]
     },
     "execution_count": 5,
     "metadata": {},
     "output_type": "execute_result"
    }
   ],
   "source": [
    "from sklearn.linear_model import LogisticRegression\n",
    "classificator = LogisticRegression(random_state=0)\n",
    "classificator.fit(X_train, y_train)"
   ]
  },
  {
   "cell_type": "code",
   "execution_count": 6,
   "id": "85c793f3-3b75-4ab6-943d-82e87bdac87c",
   "metadata": {},
   "outputs": [
    {
     "data": {
      "text/plain": [
       "array([1], dtype=int64)"
      ]
     },
     "execution_count": 6,
     "metadata": {},
     "output_type": "execute_result"
    }
   ],
   "source": [
    "classificator.predict([[30, 87000]]) ## wrong because wrong scalle"
   ]
  },
  {
   "cell_type": "code",
   "execution_count": 7,
   "id": "5fcf5680-5ef6-42cf-95d4-1008454c7733",
   "metadata": {},
   "outputs": [
    {
     "data": {
      "text/plain": [
       "array([0], dtype=int64)"
      ]
     },
     "execution_count": 7,
     "metadata": {},
     "output_type": "execute_result"
    }
   ],
   "source": [
    "classificator.predict(sc.transform([[30, 87000]]))"
   ]
  },
  {
   "cell_type": "code",
   "execution_count": 8,
   "id": "1ee99e16-6302-4a10-a97d-aefe4ca7418f",
   "metadata": {},
   "outputs": [
    {
     "name": "stdout",
     "output_type": "stream",
     "text": [
      "[[0 0]\n",
      " [0 0]\n",
      " [0 0]\n",
      " [0 0]\n",
      " [0 0]\n",
      " [0 0]\n",
      " [0 0]\n",
      " [1 1]\n",
      " [0 0]\n",
      " [1 0]\n",
      " [0 0]\n",
      " [0 0]\n",
      " [0 0]\n",
      " [0 0]\n",
      " [0 0]\n",
      " [0 0]\n",
      " [0 0]\n",
      " [0 0]\n",
      " [1 1]\n",
      " [0 0]\n",
      " [0 0]\n",
      " [1 1]\n",
      " [0 0]\n",
      " [1 1]\n",
      " [0 0]\n",
      " [1 1]\n",
      " [0 0]\n",
      " [0 0]\n",
      " [0 0]\n",
      " [0 0]\n",
      " [0 0]\n",
      " [0 1]\n",
      " [1 1]\n",
      " [0 0]\n",
      " [0 0]\n",
      " [0 0]\n",
      " [0 0]\n",
      " [0 0]\n",
      " [0 0]\n",
      " [1 1]\n",
      " [0 0]\n",
      " [0 0]\n",
      " [0 0]\n",
      " [0 0]\n",
      " [1 1]\n",
      " [0 0]\n",
      " [0 0]\n",
      " [1 1]\n",
      " [0 0]\n",
      " [1 1]\n",
      " [1 1]\n",
      " [0 0]\n",
      " [0 0]\n",
      " [1 0]\n",
      " [1 1]\n",
      " [0 1]\n",
      " [0 0]\n",
      " [0 0]\n",
      " [0 1]\n",
      " [0 0]\n",
      " [0 0]\n",
      " [1 1]\n",
      " [0 0]\n",
      " [0 1]\n",
      " [0 0]\n",
      " [1 1]\n",
      " [0 0]\n",
      " [0 0]\n",
      " [0 0]\n",
      " [1 0]\n",
      " [1 1]\n",
      " [0 0]\n",
      " [0 0]\n",
      " [0 1]\n",
      " [0 0]\n",
      " [0 0]\n",
      " [1 0]\n",
      " [0 0]\n",
      " [1 1]\n",
      " [1 1]\n",
      " [1 1]\n",
      " [1 0]\n",
      " [0 0]\n",
      " [0 0]\n",
      " [1 1]\n",
      " [1 1]\n",
      " [0 0]\n",
      " [1 1]\n",
      " [0 1]\n",
      " [0 0]\n",
      " [0 0]\n",
      " [1 1]\n",
      " [0 0]\n",
      " [0 0]\n",
      " [0 0]\n",
      " [0 1]\n",
      " [0 0]\n",
      " [0 1]\n",
      " [1 1]\n",
      " [1 1]]\n"
     ]
    }
   ],
   "source": [
    "y_pred = classificator.predict(X_test)\n",
    "np.set_printoptions(precision=2)\n",
    "print(np.concatenate((y_pred.reshape(len(y_pred),1),y_test.reshape(len(y_test),1)),1))"
   ]
  },
  {
   "cell_type": "code",
   "execution_count": 29,
   "id": "406472c7-d58e-4a19-8e6f-57f05fd4e0df",
   "metadata": {},
   "outputs": [
    {
     "data": {
      "text/plain": [
       "{0: 68, 1: 32}"
      ]
     },
     "execution_count": 29,
     "metadata": {},
     "output_type": "execute_result"
    }
   ],
   "source": [
    "unique, counts = np.unique(y_test, return_counts=True)\n",
    "dict(zip(unique, counts))"
   ]
  },
  {
   "cell_type": "code",
   "execution_count": 9,
   "id": "04950e23-85e7-4a0e-b116-015ecad83bf1",
   "metadata": {},
   "outputs": [],
   "source": [
    "from sklearn.metrics import confusion_matrix\n",
    "cf_matrix=confusion_matrix(y_test, y_pred)"
   ]
  },
  {
   "cell_type": "code",
   "execution_count": 10,
   "id": "5f24fa3f-72f0-4f08-bc2e-57d92e95b487",
   "metadata": {},
   "outputs": [
    {
     "data": {
      "text/plain": [
       "<AxesSubplot:>"
      ]
     },
     "execution_count": 10,
     "metadata": {},
     "output_type": "execute_result"
    },
    {
     "data": {
      "image/png": "[encoded data removed]",
      "text/plain": [
       "<Figure size 432x288 with 2 Axes>"
      ]
     },
     "metadata": {
      "needs_background": "light"
     },
     "output_type": "display_data"
    }
   ],
   "source": [
    "import seaborn as sns\n",
    "sns.heatmap(cf_matrix, annot=True)"
   ]
  },
  {
   "cell_type": "code",
   "execution_count": 11,
   "id": "6081986a-e3eb-49c2-97ef-21addad8d755",
   "metadata": {},
   "outputs": [
    {
     "data": {
      "text/plain": [
       "<AxesSubplot:>"
      ]
     },
     "execution_count": 11,
     "metadata": {},
     "output_type": "execute_result"
    },
    {
     "data": {
      "image/png": "[encoded data removed]",
      "text/plain": [
       "<Figure size 432x288 with 2 Axes>"
      ]
     },
     "metadata": {
      "needs_background": "light"
     },
     "output_type": "display_data"
    }
   ],
   "source": [
    "sns.heatmap(cf_matrix/np.sum(cf_matrix), annot=True, \n",
    "            fmt='.2%', cmap='Blues')"
   ]
  },
  {
   "cell_type": "code",
   "execution_count": 22,
   "id": "87171183-21b3-4b3f-b575-344bc0ea5196",
   "metadata": {},
   "outputs": [
    {
     "data": {
      "text/plain": [
       "0.87"
      ]
     },
     "execution_count": 22,
     "metadata": {},
     "output_type": "execute_result"
    }
   ],
   "source": [
    "from sklearn.metrics import accuracy_score\n",
    "accuracy_score(y_test,y_pred)"
   ]
  },
  {
   "cell_type": "markdown",
   "id": "c6a413b3-af6f-4c00-b87e-83135e23ffb3",
   "metadata": {},
   "source": [
    "https://www.pycm.ir/doc/index.html#From-vector"
   ]
  },
  {
   "cell_type": "code",
   "execution_count": 13,
   "id": "5f12106c-4f73-45ff-a15f-0d3a7a379a23",
   "metadata": {},
   "outputs": [],
   "source": [
    "from pycm import *\n",
    "cm = ConfusionMatrix(y_test, y_pred,digit=5)"
   ]
  },
  {
   "cell_type": "code",
   "execution_count": 14,
   "id": "cb3dc5a6-b0f5-4dcf-b0bb-1ea8c9f7ef41",
   "metadata": {},
   "outputs": [
    {
     "data": {
      "text/plain": [
       "{'TPR': {0: 0.9264705882352942, 1: 0.75},\n",
       " 'TNR': {0: 0.75, 1: 0.9264705882352942},\n",
       " 'PPV': {0: 0.8873239436619719, 1: 0.8275862068965517},\n",
       " 'NPV': {0: 0.8275862068965517, 1: 0.8873239436619719},\n",
       " 'FNR': {0: 0.07352941176470584, 1: 0.25},\n",
       " 'FPR': {0: 0.25, 1: 0.07352941176470584},\n",
       " 'FDR': {0: 0.11267605633802813, 1: 0.1724137931034483},\n",
       " 'FOR': {0: 0.1724137931034483, 1: 0.11267605633802813},\n",
       " 'ACC': {0: 0.87, 1: 0.87},\n",
       " 'F1': {0: 0.9064748201438849, 1: 0.7868852459016393},\n",
       " 'MCC': {0: 0.6954248270544467, 1: 0.6954248270544467},\n",
       " 'BM': {0: 0.6764705882352942, 1: 0.6764705882352942},\n",
       " 'MK': {0: 0.7149101505585236, 1: 0.7149101505585236},\n",
       " 'PLR': {0: 3.7058823529411766, 1: 10.200000000000005},\n",
       " 'NLR': {0: 0.09803921568627445, 1: 0.2698412698412698},\n",
       " 'DOR': {0: 37.800000000000026, 1: 37.80000000000002},\n",
       " 'TP': {0: 63, 1: 24},\n",
       " 'TN': {0: 24, 1: 63},\n",
       " 'FP': {0: 8, 1: 5},\n",
       " 'FN': {0: 5, 1: 8},\n",
       " 'POP': {0: 100, 1: 100},\n",
       " 'P': {0: 68, 1: 32},\n",
       " 'N': {0: 32, 1: 68},\n",
       " 'TOP': {0: 71, 1: 29},\n",
       " 'TON': {0: 29, 1: 71},\n",
       " 'PRE': {0: 0.68, 1: 0.32},\n",
       " 'G': {0: 0.906686018442861, 1: 0.7878385971583354},\n",
       " 'RACC': {0: 0.4828, 1: 0.0928},\n",
       " 'F0.5': {0: 0.8948863636363636, 1: 0.8108108108108109},\n",
       " 'F2': {0: 0.9183673469387755, 1: 0.7643312101910829},\n",
       " 'ERR': {0: 0.13, 1: 0.13},\n",
       " 'RACCU': {0: 0.4830249999999999, 1: 0.093025},\n",
       " 'J': {0: 0.8289473684210527, 1: 0.6486486486486487},\n",
       " 'IS': {0: 0.3839261525196197, 1: 1.3708376953683088},\n",
       " 'CEN': {0: 0.4096157803666819, 1: 0.6801630313750936},\n",
       " 'MCEN': {0: 0.6001765421096026, 1: 0.8679257642902577},\n",
       " 'AUC': {0: 0.8382352941176471, 1: 0.8382352941176471},\n",
       " 'sInd': {0: 0.8157358222626225, 1: 0.8157358222626225},\n",
       " 'dInd': {0: 0.26058889921572576, 1: 0.26058889921572576},\n",
       " 'DP': {0: 0.8697168115411923, 1: 0.8697168115411923},\n",
       " 'Y': {0: 0.6764705882352942, 1: 0.6764705882352942},\n",
       " 'PLRI': {0: 'Poor', 1: 'Good'},\n",
       " 'DPI': {0: 'Poor', 1: 'Poor'},\n",
       " 'AUCI': {0: 'Very Good', 1: 'Very Good'},\n",
       " 'GI': {0: 0.6764705882352942, 1: 0.6764705882352942},\n",
       " 'LS': {0: 1.304888152444076, 1: 2.586206896551724},\n",
       " 'AM': {0: 3, 1: -3},\n",
       " 'BCD': {0: 0.015, 1: 0.015},\n",
       " 'OP': {0: 0.7647368421052632, 1: 0.7647368421052632},\n",
       " 'IBA': {0: 0.8174740484429066, 1: 0.5722318339100346},\n",
       " 'GM': {0: 0.833578395339317, 1: 0.833578395339317},\n",
       " 'Q': {0: 0.9484536082474226, 1: 0.9484536082474226},\n",
       " 'AGM': {0: 0.8133169661661492, 1: 0.871177616273403},\n",
       " 'NLRI': {0: 'Good', 1: 'Poor'},\n",
       " 'MCCI': {0: 'Moderate', 1: 'Moderate'},\n",
       " 'AGF': {0: 0.862914928132317, 1: 0.8270366239179976},\n",
       " 'OC': {0: 0.9264705882352942, 1: 0.8275862068965517},\n",
       " 'OOC': {0: 0.906686018442861, 1: 0.7878385971583353},\n",
       " 'AUPR': {0: 0.906897265948633, 1: 0.7887931034482758},\n",
       " 'ICSI': {0: 0.8137945318972659, 1: 0.5775862068965516},\n",
       " 'QI': {0: 'Strong', 1: 'Strong'}}"
      ]
     },
     "execution_count": 14,
     "metadata": {},
     "output_type": "execute_result"
    }
   ],
   "source": [
    "cm.class_stat"
   ]
  },
  {
   "cell_type": "code",
   "execution_count": 15,
   "id": "8fb749c6-e7cd-45d1-99f2-58babe8670f6",
   "metadata": {},
   "outputs": [
    {
     "data": {
      "text/plain": [
       "{'Overall ACC': 0.87,\n",
       " 'Kappa': 0.6936852026390198,\n",
       " 'Overall RACC': 0.5756,\n",
       " 'SOA1(Landis & Koch)': 'Substantial',\n",
       " 'SOA2(Fleiss)': 'Intermediate to Good',\n",
       " 'SOA3(Altman)': 'Good',\n",
       " 'SOA4(Cicchetti)': 'Good',\n",
       " 'SOA5(Cramer)': 'Strong',\n",
       " 'SOA6(Matthews)': 'Moderate',\n",
       " 'TNR Macro': 0.8382352941176471,\n",
       " 'TPR Macro': 0.8382352941176471,\n",
       " 'FPR Macro': 0.16176470588235292,\n",
       " 'FNR Macro': 0.16176470588235292,\n",
       " 'PPV Macro': 0.8574550752792618,\n",
       " 'ACC Macro': 0.87,\n",
       " 'F1 Macro': 0.8466800330227622,\n",
       " 'TNR Micro': 0.87,\n",
       " 'FPR Micro': 0.13,\n",
       " 'TPR Micro': 0.87,\n",
       " 'FNR Micro': 0.13,\n",
       " 'PPV Micro': 0.87,\n",
       " 'F1 Micro': 0.87,\n",
       " 'Scott PI': 0.6933600660455242,\n",
       " 'Gwet AC1': 0.7743251453866852,\n",
       " 'Bennett S': 0.74,\n",
       " 'Kappa Standard Error': 0.07924209104995399,\n",
       " 'Kappa 95% CI': (0.53837070418111, 0.8489997010969296),\n",
       " 'Chi-Squared': 48.36156900837071,\n",
       " 'Phi-Squared': 0.4836156900837071,\n",
       " 'Cramer V': 0.6954248270544466,\n",
       " 'Chi-Squared DF': 1,\n",
       " '95% CI': (0.8040845268544631, 0.9359154731455369),\n",
       " 'Standard Error': 0.03363034344160047,\n",
       " 'Response Entropy': 0.8687212463394045,\n",
       " 'Reference Entropy': 0.904381457724494,\n",
       " 'Cross Entropy': 0.907474230070718,\n",
       " 'Joint Entropy': 1.4216824330523317,\n",
       " 'Conditional Entropy': 0.5173009753278378,\n",
       " 'KL Divergence': 0.003092772346224175,\n",
       " 'Lambda B': 0.5517241379310345,\n",
       " 'Lambda A': 0.59375,\n",
       " 'Kappa Unbiased': 0.6933600660455242,\n",
       " 'Overall RACCU': 0.57605,\n",
       " 'Kappa No Prevalence': 0.74,\n",
       " 'Mutual Information': 0.3514202710115667,\n",
       " 'Overall J': (1.4775960170697013, 0.7387980085348507),\n",
       " 'Hamming Loss': 0.13,\n",
       " 'Zero-one Loss': 13,\n",
       " 'NIR': 0.68,\n",
       " 'P-Value': 1.0085435913631535e-05,\n",
       " 'Overall CEN': 0.49213269192424747,\n",
       " 'Overall MCEN': 0.3886333523953467,\n",
       " 'Overall MCC': 0.6954248270544467,\n",
       " 'RR': 50.0,\n",
       " 'CBA': 0.818661971830986,\n",
       " 'AUNU': 0.8382352941176471,\n",
       " 'AUNP': 0.8382352941176472,\n",
       " 'RCI': 0.38857527209345055,\n",
       " 'Pearson C': 0.5709387007207899,\n",
       " 'CSI': 0.6956903693969088,\n",
       " 'ARI': 0.53355897555189,\n",
       " 'Bangdiwala B': 0.7896108408617095,\n",
       " 'Krippendorff Alpha': 0.6948932657152967}"
      ]
     },
     "execution_count": 15,
     "metadata": {},
     "output_type": "execute_result"
    }
   ],
   "source": [
    "cm.overall_stat"
   ]
  },
  {
   "cell_type": "code",
   "execution_count": 16,
   "id": "26be70fa-1dbe-4ede-8835-4e0f17cafbd0",
   "metadata": {},
   "outputs": [
    {
     "data": {
      "text/plain": [
       "{0: {0: 63, 1: 5}, 1: {0: 8, 1: 24}}"
      ]
     },
     "execution_count": 16,
     "metadata": {},
     "output_type": "execute_result"
    }
   ],
   "source": [
    "cm.table"
   ]
  },
  {
   "cell_type": "code",
   "execution_count": 17,
   "id": "db19492e-2b8d-469c-adf4-3b0f9c4f1816",
   "metadata": {},
   "outputs": [
    {
     "data": {
      "text/plain": [
       "{0: {0: 63, 1: 5}, 1: {0: 8, 1: 24}}"
      ]
     },
     "execution_count": 17,
     "metadata": {},
     "output_type": "execute_result"
    }
   ],
   "source": [
    "cm.matrix"
   ]
  },
  {
   "cell_type": "code",
   "execution_count": 18,
   "id": "c158c93d-7716-40d8-b087-557a184efffd",
   "metadata": {},
   "outputs": [
    {
     "data": {
      "text/plain": [
       "{0: {0: 0.92647, 1: 0.07353}, 1: {0: 0.25, 1: 0.75}}"
      ]
     },
     "execution_count": 18,
     "metadata": {},
     "output_type": "execute_result"
    }
   ],
   "source": [
    "cm.normalized_matrix"
   ]
  },
  {
   "cell_type": "code",
   "execution_count": 19,
   "id": "68510b40-49ec-4fe9-9c85-6d11462347c0",
   "metadata": {},
   "outputs": [
    {
     "data": {
      "text/plain": [
       "{0: {0: 0.92647, 1: 0.07353}, 1: {0: 0.25, 1: 0.75}}"
      ]
     },
     "execution_count": 19,
     "metadata": {},
     "output_type": "execute_result"
    }
   ],
   "source": [
    "cm.normalized_table"
   ]
  },
  {
   "cell_type": "code",
   "execution_count": 20,
   "id": "c3dab282-7276-484c-8d07-78c200eb3730",
   "metadata": {},
   "outputs": [
    {
     "name": "stdout",
     "output_type": "stream",
     "text": [
      "Predict  0        1        \n",
      "Actual\n",
      "0        63       5        \n",
      "\n",
      "1        8        24       \n",
      "\n",
      "\n"
     ]
    }
   ],
   "source": [
    "cm.print_matrix()"
   ]
  },
  {
   "cell_type": "code",
   "execution_count": 31,
   "id": "d25d6e57-6d36-4800-922e-7ca8bbb4b002",
   "metadata": {},
   "outputs": [
    {
     "name": "stderr",
     "output_type": "stream",
     "text": [
      "*c* argument looks like a single numeric RGB or RGBA sequence, which should be avoided as value-mapping will have precedence in case its length matches with *x* & *y*.  Please use the *color* keyword-argument or provide a 2-D array with a single row if you intend to specify the same RGB or RGBA value for all points.\n",
      "*c* argument looks like a single numeric RGB or RGBA sequence, which should be avoided as value-mapping will have precedence in case its length matches with *x* & *y*.  Please use the *color* keyword-argument or provide a 2-D array with a single row if you intend to specify the same RGB or RGBA value for all points.\n"
     ]
    },
    {
     "data": {
      "image/png": "[encoded data removed]",
      "text/plain": [
       "<Figure size 432x288 with 1 Axes>"
      ]
     },
     "metadata": {
      "needs_background": "light"
     },
     "output_type": "display_data"
    }
   ],
   "source": [
    "from matplotlib.colors import ListedColormap\n",
    "X_set, y_set = sc.inverse_transform(X_train), y_train\n",
    "X1, X2 = np.meshgrid(np.arange(start = X_set[:, 0].min() - 10, stop = X_set[:, 0].max() + 10, step = 0.25),\n",
    "                     np.arange(start = X_set[:, 1].min() - 1000, stop = X_set[:, 1].max() + 1000, step = 0.25))\n",
    "plt.contourf(X1, X2, classificator.predict(sc.transform(np.array([X1.ravel(), X2.ravel()]).T)).reshape(X1.shape),\n",
    "             alpha = 0.75, cmap = ListedColormap(('red', 'green')))\n",
    "plt.xlim(X1.min(), X1.max())\n",
    "plt.ylim(X2.min(), X2.max())\n",
    "for i, j in enumerate(np.unique(y_set)):\n",
    "    plt.scatter(X_set[y_set == j, 0], X_set[y_set == j, 1], c = ListedColormap(('red', 'green'))(i), label = j)\n",
    "plt.title('Logistic Regression (Training set)')\n",
    "plt.xlabel('Age')\n",
    "plt.ylabel('Estimated Salary')\n",
    "plt.legend()\n",
    "plt.show()"
   ]
  },
  {
   "cell_type": "code",
   "execution_count": 32,
   "id": "d12c5795-8d30-4022-a8ac-db69c7eee904",
   "metadata": {},
   "outputs": [
    {
     "name": "stderr",
     "output_type": "stream",
     "text": [
      "*c* argument looks like a single numeric RGB or RGBA sequence, which should be avoided as value-mapping will have precedence in case its length matches with *x* & *y*.  Please use the *color* keyword-argument or provide a 2-D array with a single row if you intend to specify the same RGB or RGBA value for all points.\n",
      "*c* argument looks like a single numeric RGB or RGBA sequence, which should be avoided as value-mapping will have precedence in case its length matches with *x* & *y*.  Please use the *color* keyword-argument or provide a 2-D array with a single row if you intend to specify the same RGB or RGBA value for all points.\n"
     ]
    },
    {
     "data": {
      "image/png": "[encoded data removed]",
      "text/plain": [
       "<Figure size 432x288 with 1 Axes>"
      ]
     },
     "metadata": {
      "needs_background": "light"
     },
     "output_type": "display_data"
    }
   ],
   "source": [
    "from matplotlib.colors import ListedColormap\n",
    "X_set, y_set = sc.inverse_transform(X_test), y_test\n",
    "X1, X2 = np.meshgrid(np.arange(start = X_set[:, 0].min() - 10, stop = X_set[:, 0].max() + 10, step = 0.25),\n",
    "                     np.arange(start = X_set[:, 1].min() - 1000, stop = X_set[:, 1].max() + 1000, step = 0.25))\n",
    "plt.contourf(X1, X2, classificator.predict(sc.transform(np.array([X1.ravel(), X2.ravel()]).T)).reshape(X1.shape),\n",
    "             alpha = 0.75, cmap = ListedColormap(('red', 'green')))\n",
    "plt.xlim(X1.min(), X1.max())\n",
    "plt.ylim(X2.min(), X2.max())\n",
    "for i, j in enumerate(np.unique(y_set)):\n",
    "    plt.scatter(X_set[y_set == j, 0], X_set[y_set == j, 1], c = ListedColormap(('red', 'green'))(i), label = j)\n",
    "plt.title('Logistic Regression (Test set)')\n",
    "plt.xlabel('Age')\n",
    "plt.ylabel('Estimated Salary')\n",
    "plt.legend()\n",
    "plt.show()"
   ]
  },
  {
   "cell_type": "code",
   "execution_count": null,
   "id": "2494c0f0-7797-4998-a747-ccc2624bea6e",
   "metadata": {},
   "outputs": [],
   "source": []
  }
 ],
 "metadata": {
  "kernelspec": {
   "display_name": "Python 3",
   "language": "python",
   "name": "python3"
  },
  "language_info": {
   "codemirror_mode": {
    "name": "ipython",
    "version": 3
   },
   "file_extension": ".py",
   "mimetype": "text/x-python",
   "name": "python",
   "nbconvert_exporter": "python",
   "pygments_lexer": "ipython3",
   "version": "3.8.10"
  }
 },
 "nbformat": 4,
 "nbformat_minor": 5
}
