{
 "cells": [
  {
   "cell_type": "code",
   "execution_count": 1,
   "id": "fe17dc32-69d8-4e8d-959c-4d8bc7c12454",
   "metadata": {},
   "outputs": [
    {
     "data": {
      "text/html": [
       "\n",
       "        <iframe\n",
       "            width=\"600\"\n",
       "            height=\"300\"\n",
       "            src=\"teoria.pdf\"\n",
       "            frameborder=\"0\"\n",
       "            allowfullscreen\n",
       "        ></iframe>\n",
       "        "
      ],
      "text/plain": [
       "<IPython.lib.display.IFrame at 0x1760f4e2370>"
      ]
     },
     "execution_count": 1,
     "metadata": {},
     "output_type": "execute_result"
    }
   ],
   "source": [
    "from IPython.display import IFrame\n",
    "IFrame(\"teoria.pdf\", width=600, height=300)"
   ]
  },
  {
   "cell_type": "code",
   "execution_count": 2,
   "id": "ec5f0690-1b23-4324-b7c9-7b88e1827e4c",
   "metadata": {},
   "outputs": [],
   "source": [
    "import numpy as np\n",
    "import matplotlib.pyplot as plt\n",
    "import pandas as pd"
   ]
  },
  {
   "cell_type": "code",
   "execution_count": 3,
   "id": "d63e94e2-a075-4939-bfbc-c4ae9bf5891a",
   "metadata": {},
   "outputs": [],
   "source": [
    "dataset = pd.read_csv(\"Social_Network_Ads.csv\")\n",
    "X = dataset.iloc[:,:-1].values\n",
    "y = dataset.iloc[:,-1].values"
   ]
  },
  {
   "cell_type": "code",
   "execution_count": 4,
   "id": "c0a8df45-6778-4dab-bc22-3e10fa61a60c",
   "metadata": {},
   "outputs": [],
   "source": [
    "from sklearn.model_selection import train_test_split\n",
    "X_train, X_test, y_train, y_test = train_test_split(X, y, test_size=0.25, random_state=0)"
   ]
  },
  {
   "cell_type": "code",
   "execution_count": 5,
   "id": "55f00250-037f-4ef9-b26f-6c38b10a4fc0",
   "metadata": {},
   "outputs": [],
   "source": [
    "from sklearn.preprocessing import StandardScaler\n",
    "sc = StandardScaler()\n",
    "X_train = sc.fit_transform(X_train)\n",
    "X_test = sc.fit_transform(X_test)"
   ]
  },
  {
   "cell_type": "code",
   "execution_count": 6,
   "id": "56222ac4-c79e-463d-8ec2-3a2d4e84f5bc",
   "metadata": {},
   "outputs": [
    {
     "name": "stdout",
     "output_type": "stream",
     "text": [
      "[LibSVM]"
     ]
    },
    {
     "data": {
      "text/plain": [
       "SVC(random_state=0, verbose=True)"
      ]
     },
     "execution_count": 6,
     "metadata": {},
     "output_type": "execute_result"
    }
   ],
   "source": [
    "from sklearn.svm import SVC\n",
    "classifier = SVC(kernel=\"rbf\", random_state=0, verbose = True)\n",
    "classifier.fit(X_train, y_train)"
   ]
  },
  {
   "cell_type": "code",
   "execution_count": 7,
   "id": "d70d5888-d444-4277-bd0c-420a5469ec87",
   "metadata": {},
   "outputs": [],
   "source": [
    "y_pred = classifier.predict(X_test)"
   ]
  },
  {
   "cell_type": "code",
   "execution_count": 8,
   "id": "bbc7fba1-c862-44e0-a66d-8964ca5eaa6d",
   "metadata": {},
   "outputs": [],
   "source": [
    "from sklearn.metrics import confusion_matrix\n",
    "cf_matrix=confusion_matrix(y_test, y_pred)"
   ]
  },
  {
   "cell_type": "code",
   "execution_count": 9,
   "id": "2b35acce-b0d2-43c0-841f-cb12d7038910",
   "metadata": {},
   "outputs": [
    {
     "data": {
      "text/plain": [
       "<AxesSubplot:>"
      ]
     },
     "execution_count": 9,
     "metadata": {},
     "output_type": "execute_result"
    },
    {
     "data": {
      "image/png": "[encoded data removed]",
      "text/plain": [
       "<Figure size 432x288 with 2 Axes>"
      ]
     },
     "metadata": {
      "needs_background": "light"
     },
     "output_type": "display_data"
    }
   ],
   "source": [
    "import seaborn as sns\n",
    "sns.heatmap(cf_matrix, annot=True)"
   ]
  },
  {
   "cell_type": "code",
   "execution_count": 10,
   "id": "8036d2c9-1ab5-420e-b147-b74db101caa8",
   "metadata": {},
   "outputs": [
    {
     "data": {
      "text/plain": [
       "0.93"
      ]
     },
     "execution_count": 10,
     "metadata": {},
     "output_type": "execute_result"
    }
   ],
   "source": [
    "from sklearn.metrics import accuracy_score\n",
    "accuracy_score(y_test,y_pred)"
   ]
  },
  {
   "cell_type": "code",
   "execution_count": 11,
   "id": "e9b77164-2373-41db-8355-7c08c4ee34a1",
   "metadata": {},
   "outputs": [
    {
     "data": {
      "text/plain": [
       "{'TPR': {0: 0.9411764705882353, 1: 0.90625},\n",
       " 'TNR': {0: 0.90625, 1: 0.9411764705882353},\n",
       " 'PPV': {0: 0.9552238805970149, 1: 0.8787878787878788},\n",
       " 'NPV': {0: 0.8787878787878788, 1: 0.9552238805970149},\n",
       " 'FNR': {0: 0.05882352941176472, 1: 0.09375},\n",
       " 'FPR': {0: 0.09375, 1: 0.05882352941176472},\n",
       " 'FDR': {0: 0.04477611940298509, 1: 0.12121212121212122},\n",
       " 'FOR': {0: 0.12121212121212122, 1: 0.04477611940298509},\n",
       " 'ACC': {0: 0.93, 1: 0.93},\n",
       " 'F1': {0: 0.9481481481481482, 1: 0.8923076923076924},\n",
       " 'MCC': {0: 0.8406923585263667, 1: 0.8406923585263667},\n",
       " 'BM': {0: 0.8474264705882353, 1: 0.8474264705882353},\n",
       " 'MK': {0: 0.8340117593848937, 1: 0.8340117593848937},\n",
       " 'PLR': {0: 10.03921568627451, 1: 15.406249999999996},\n",
       " 'NLR': {0: 0.06490872210953348, 1: 0.099609375},\n",
       " 'DOR': {0: 154.66666666666663, 1: 154.66666666666663},\n",
       " 'TP': {0: 64, 1: 29},\n",
       " 'TN': {0: 29, 1: 64},\n",
       " 'FP': {0: 3, 1: 4},\n",
       " 'FN': {0: 4, 1: 3},\n",
       " 'POP': {0: 100, 1: 100},\n",
       " 'P': {0: 68, 1: 32},\n",
       " 'N': {0: 32, 1: 68},\n",
       " 'TOP': {0: 67, 1: 33},\n",
       " 'TON': {0: 33, 1: 67},\n",
       " 'PRE': {0: 0.68, 1: 0.32},\n",
       " 'G': {0: 0.9481741615135356, 1: 0.8924133096001623},\n",
       " 'RACC': {0: 0.4556, 1: 0.1056},\n",
       " 'F0.5': {0: 0.9523809523809523, 1: 0.8841463414634146},\n",
       " 'F2': {0: 0.943952802359882, 1: 0.9006211180124224},\n",
       " 'ERR': {0: 0.06999999999999995, 1: 0.06999999999999995},\n",
       " 'RACCU': {0: 0.45562500000000006, 1: 0.10562500000000001},\n",
       " 'J': {0: 0.9014084507042254, 1: 0.8055555555555556},\n",
       " 'IS': {0: 0.4903041580666128, 1: 1.4574430655438435},\n",
       " 'CEN': {0: 0.2724653457569804, 1: 0.45233364906208795},\n",
       " 'MCEN': {0: 0.42666679344182123, 1: 0.6509607641092421},\n",
       " 'AUC': {0: 0.9237132352941176, 1: 0.9237132352941176},\n",
       " 'sInd': {0: 0.9217399523624705, 1: 0.9217399523624705},\n",
       " 'dInd': {0: 0.1106764207609586, 1: 0.1106764207609586},\n",
       " 'DP': {0: 1.207077678494819, 1: 1.207077678494819},\n",
       " 'Y': {0: 0.8474264705882353, 1: 0.8474264705882353},\n",
       " 'PLRI': {0: 'Good', 1: 'Good'},\n",
       " 'DPI': {0: 'Limited', 1: 'Limited'},\n",
       " 'AUCI': {0: 'Excellent', 1: 'Excellent'},\n",
       " 'GI': {0: 0.8474264705882353, 1: 0.8474264705882353},\n",
       " 'LS': {0: 1.404741000877963, 1: 2.746212121212121},\n",
       " 'AM': {0: -1, 1: 1},\n",
       " 'BCD': {0: 0.005, 1: 0.005},\n",
       " 'OP': {0: 0.9110945273631841, 1: 0.9110945273631841},\n",
       " 'IBA': {0: 0.882731401384083, 1: 0.8231509515570934},\n",
       " 'GM': {0: 0.9235481451827989, 1: 0.9235481451827989},\n",
       " 'Q': {0: 0.987152034261242, 1: 0.987152034261242},\n",
       " 'AGM': {0: 0.9193546554415143, 1: 0.930683419751666},\n",
       " 'NLRI': {0: 'Good', 1: 'Good'},\n",
       " 'MCCI': {0: 'Strong', 1: 'Strong'},\n",
       " 'AGF': {0: 0.9135602972549909, 1: 0.9261395133062129},\n",
       " 'OC': {0: 0.9552238805970149, 1: 0.90625},\n",
       " 'OOC': {0: 0.9481741615135356, 1: 0.8924133096001623},\n",
       " 'AUPR': {0: 0.948200175592625, 1: 0.8925189393939394},\n",
       " 'ICSI': {0: 0.8964003511852501, 1: 0.7850378787878789},\n",
       " 'QI': {0: 'Strong', 1: 'Strong'}}"
      ]
     },
     "execution_count": 11,
     "metadata": {},
     "output_type": "execute_result"
    }
   ],
   "source": [
    "from pycm import *\n",
    "cm = ConfusionMatrix(y_test, y_pred,digit=5)\n",
    "cm.class_stat"
   ]
  },
  {
   "cell_type": "code",
   "execution_count": 12,
   "id": "f9891422-0733-4db6-906a-40a744b0b376",
   "metadata": {},
   "outputs": [
    {
     "name": "stderr",
     "output_type": "stream",
     "text": [
      "*c* argument looks like a single numeric RGB or RGBA sequence, which should be avoided as value-mapping will have precedence in case its length matches with *x* & *y*.  Please use the *color* keyword-argument or provide a 2-D array with a single row if you intend to specify the same RGB or RGBA value for all points.\n",
      "*c* argument looks like a single numeric RGB or RGBA sequence, which should be avoided as value-mapping will have precedence in case its length matches with *x* & *y*.  Please use the *color* keyword-argument or provide a 2-D array with a single row if you intend to specify the same RGB or RGBA value for all points.\n"
     ]
    },
    {
     "data": {
      "image/png": "[encoded data removed]",
      "text/plain": [
       "<Figure size 432x288 with 1 Axes>"
      ]
     },
     "metadata": {
      "needs_background": "light"
     },
     "output_type": "display_data"
    }
   ],
   "source": [
    "from matplotlib.colors import ListedColormap\n",
    "X_set, y_set = sc.inverse_transform(X_train), y_train\n",
    "X1, X2 = np.meshgrid(np.arange(start = X_set[:, 0].min() - 10, stop = X_set[:, 0].max() + 10, step = 0.25),\n",
    "                     np.arange(start = X_set[:, 1].min() - 1000, stop = X_set[:, 1].max() + 1000, step = 0.25))\n",
    "plt.contourf(X1, X2, classifier.predict(sc.transform(np.array([X1.ravel(), X2.ravel()]).T)).reshape(X1.shape),\n",
    "             alpha = 0.75, cmap = ListedColormap(('red', 'green')))\n",
    "plt.xlim(X1.min(), X1.max())\n",
    "plt.ylim(X2.min(), X2.max())\n",
    "for i, j in enumerate(np.unique(y_set)):\n",
    "    plt.scatter(X_set[y_set == j, 0], X_set[y_set == j, 1], c = ListedColormap(('red', 'green'))(i), label = j)\n",
    "plt.title('Logistic Regression (Training set)')\n",
    "plt.xlabel('Age')\n",
    "plt.ylabel('Estimated Salary')\n",
    "plt.legend()\n",
    "plt.show()"
   ]
  },
  {
   "cell_type": "code",
   "execution_count": 13,
   "id": "2f17e511-405e-4271-9a65-8db54d7fca97",
   "metadata": {},
   "outputs": [
    {
     "name": "stderr",
     "output_type": "stream",
     "text": [
      "*c* argument looks like a single numeric RGB or RGBA sequence, which should be avoided as value-mapping will have precedence in case its length matches with *x* & *y*.  Please use the *color* keyword-argument or provide a 2-D array with a single row if you intend to specify the same RGB or RGBA value for all points.\n",
      "*c* argument looks like a single numeric RGB or RGBA sequence, which should be avoided as value-mapping will have precedence in case its length matches with *x* & *y*.  Please use the *color* keyword-argument or provide a 2-D array with a single row if you intend to specify the same RGB or RGBA value for all points.\n"
     ]
    },
    {
     "data": {
      "image/png": "[encoded data removed]",
      "text/plain": [
       "<Figure size 432x288 with 1 Axes>"
      ]
     },
     "metadata": {
      "needs_background": "light"
     },
     "output_type": "display_data"
    }
   ],
   "source": [
    "from matplotlib.colors import ListedColormap\n",
    "X_set, y_set = sc.inverse_transform(X_test), y_test\n",
    "X1, X2 = np.meshgrid(np.arange(start = X_set[:, 0].min() - 10, stop = X_set[:, 0].max() + 10, step = 0.25),\n",
    "                     np.arange(start = X_set[:, 1].min() - 1000, stop = X_set[:, 1].max() + 1000, step = 0.25))\n",
    "plt.contourf(X1, X2, classifier.predict(sc.transform(np.array([X1.ravel(), X2.ravel()]).T)).reshape(X1.shape),\n",
    "             alpha = 0.75, cmap = ListedColormap(('red', 'green')))\n",
    "plt.xlim(X1.min(), X1.max())\n",
    "plt.ylim(X2.min(), X2.max())\n",
    "for i, j in enumerate(np.unique(y_set)):\n",
    "    plt.scatter(X_set[y_set == j, 0], X_set[y_set == j, 1], c = ListedColormap(('red', 'green'))(i), label = j)\n",
    "plt.title('Logistic Regression (Test set)')\n",
    "plt.xlabel('Age')\n",
    "plt.ylabel('Estimated Salary')\n",
    "plt.legend()\n",
    "plt.show()"
   ]
  },
  {
   "cell_type": "code",
   "execution_count": null,
   "id": "b1958d3c-91f6-45fa-9c77-9418d48ca6be",
   "metadata": {},
   "outputs": [],
   "source": []
  }
 ],
 "metadata": {
  "kernelspec": {
   "display_name": "Python 3",
   "language": "python",
   "name": "python3"
  },
  "language_info": {
   "codemirror_mode": {
    "name": "ipython",
    "version": 3
   },
   "file_extension": ".py",
   "mimetype": "text/x-python",
   "name": "python",
   "nbconvert_exporter": "python",
   "pygments_lexer": "ipython3",
   "version": "3.8.10"
  }
 },
 "nbformat": 4,
 "nbformat_minor": 5
}
