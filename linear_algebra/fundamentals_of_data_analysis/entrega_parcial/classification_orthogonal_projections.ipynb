{
 "cells": [
  {
   "cell_type": "code",
   "execution_count": 35,
   "id": "00e16cff",
   "metadata": {},
   "outputs": [],
   "source": [
    "import pandas as pd\n",
    "import numpy as np\n",
    "import seaborn as sns\n",
    "import matplotlib.pyplot as plt\n",
    "from sklearn.model_selection import train_test_split\n",
    "import plotly.express as px\n",
    "from sklearn.linear_model import LinearRegression\n",
    "from sklearn.linear_model import LogisticRegression\n",
    "from sklearn.svm import SVC\n",
    "from sklearn.metrics import accuracy_score\n",
    "import matplotlib.pyplot as plt\n",
    "import seaborn as sn\n",
    "import matplotlib.pyplot as plt"
   ]
  },
  {
   "cell_type": "markdown",
   "id": "b2f93e00-0202-4161-8020-68569150e287",
   "metadata": {},
   "source": [
    "Methods"
   ]
  },
  {
   "cell_type": "code",
   "execution_count": 2,
   "id": "c4fa4b50",
   "metadata": {},
   "outputs": [],
   "source": [
    "columns = [\n",
    "\"Class (Species)\",\n",
    "\"Specimen Number\",\n",
    "\"Eccentricity\",\n",
    "\"Aspect Ratio\",\n",
    "\"Elongation\",\n",
    "\"Solidity\",\n",
    "\"Stochastic Convexity\",\n",
    "\"Isoperimetric Factor\",\n",
    "\"Maximal Indentation Depth\",\n",
    "\"Lobedness\",\n",
    "\"Average Intensity\",\n",
    "\"Average Contrast\",\n",
    "\"Smoothness\",\n",
    "\"Third moment\",\n",
    "\"Uniformity\",\n",
    "\"Entropy\"]"
   ]
  },
  {
   "cell_type": "markdown",
   "id": "8e5d3208",
   "metadata": {},
   "source": [
    "340 amostras ;\n",
    "\n",
    "14 características;\n",
    "\n",
    "30 classes, as espécies de folhas de 1 a 15 e de 22 a 36.\n"
   ]
  },
  {
   "cell_type": "code",
   "execution_count": 3,
   "id": "4ecf9797",
   "metadata": {},
   "outputs": [
    {
     "data": {
      "text/html": [
       "<div>\n",
       "<style scoped>\n",
       "    .dataframe tbody tr th:only-of-type {\n",
       "        vertical-align: middle;\n",
       "    }\n",
       "\n",
       "    .dataframe tbody tr th {\n",
       "        vertical-align: top;\n",
       "    }\n",
       "\n",
       "    .dataframe thead th {\n",
       "        text-align: right;\n",
       "    }\n",
       "</style>\n",
       "<table border=\"1\" class=\"dataframe\">\n",
       "  <thead>\n",
       "    <tr style=\"text-align: right;\">\n",
       "      <th></th>\n",
       "      <th>Class (Species)</th>\n",
       "      <th>Eccentricity</th>\n",
       "      <th>Aspect Ratio</th>\n",
       "      <th>Elongation</th>\n",
       "      <th>Solidity</th>\n",
       "      <th>Stochastic Convexity</th>\n",
       "      <th>Isoperimetric Factor</th>\n",
       "      <th>Maximal Indentation Depth</th>\n",
       "      <th>Lobedness</th>\n",
       "      <th>Average Intensity</th>\n",
       "      <th>Average Contrast</th>\n",
       "      <th>Smoothness</th>\n",
       "      <th>Third moment</th>\n",
       "      <th>Uniformity</th>\n",
       "      <th>Entropy</th>\n",
       "    </tr>\n",
       "  </thead>\n",
       "  <tbody>\n",
       "    <tr>\n",
       "      <th>0</th>\n",
       "      <td>1</td>\n",
       "      <td>0.72694</td>\n",
       "      <td>1.4742</td>\n",
       "      <td>0.32396</td>\n",
       "      <td>0.98535</td>\n",
       "      <td>1.00000</td>\n",
       "      <td>0.835920</td>\n",
       "      <td>0.004657</td>\n",
       "      <td>0.003947</td>\n",
       "      <td>0.047790</td>\n",
       "      <td>0.127950</td>\n",
       "      <td>0.016108</td>\n",
       "      <td>0.005232</td>\n",
       "      <td>0.000275</td>\n",
       "      <td>1.17560</td>\n",
       "    </tr>\n",
       "    <tr>\n",
       "      <th>1</th>\n",
       "      <td>1</td>\n",
       "      <td>0.74173</td>\n",
       "      <td>1.5257</td>\n",
       "      <td>0.36116</td>\n",
       "      <td>0.98152</td>\n",
       "      <td>0.99825</td>\n",
       "      <td>0.798670</td>\n",
       "      <td>0.005242</td>\n",
       "      <td>0.005002</td>\n",
       "      <td>0.024160</td>\n",
       "      <td>0.090476</td>\n",
       "      <td>0.008119</td>\n",
       "      <td>0.002708</td>\n",
       "      <td>0.000075</td>\n",
       "      <td>0.69659</td>\n",
       "    </tr>\n",
       "    <tr>\n",
       "      <th>2</th>\n",
       "      <td>1</td>\n",
       "      <td>0.76722</td>\n",
       "      <td>1.5725</td>\n",
       "      <td>0.38998</td>\n",
       "      <td>0.97755</td>\n",
       "      <td>1.00000</td>\n",
       "      <td>0.808120</td>\n",
       "      <td>0.007457</td>\n",
       "      <td>0.010121</td>\n",
       "      <td>0.011897</td>\n",
       "      <td>0.057445</td>\n",
       "      <td>0.003289</td>\n",
       "      <td>0.000921</td>\n",
       "      <td>0.000038</td>\n",
       "      <td>0.44348</td>\n",
       "    </tr>\n",
       "    <tr>\n",
       "      <th>3</th>\n",
       "      <td>1</td>\n",
       "      <td>0.73797</td>\n",
       "      <td>1.4597</td>\n",
       "      <td>0.35376</td>\n",
       "      <td>0.97566</td>\n",
       "      <td>1.00000</td>\n",
       "      <td>0.816970</td>\n",
       "      <td>0.006877</td>\n",
       "      <td>0.008607</td>\n",
       "      <td>0.015950</td>\n",
       "      <td>0.065491</td>\n",
       "      <td>0.004271</td>\n",
       "      <td>0.001154</td>\n",
       "      <td>0.000066</td>\n",
       "      <td>0.58785</td>\n",
       "    </tr>\n",
       "    <tr>\n",
       "      <th>4</th>\n",
       "      <td>1</td>\n",
       "      <td>0.82301</td>\n",
       "      <td>1.7707</td>\n",
       "      <td>0.44462</td>\n",
       "      <td>0.97698</td>\n",
       "      <td>1.00000</td>\n",
       "      <td>0.754930</td>\n",
       "      <td>0.007428</td>\n",
       "      <td>0.010042</td>\n",
       "      <td>0.007938</td>\n",
       "      <td>0.045339</td>\n",
       "      <td>0.002051</td>\n",
       "      <td>0.000560</td>\n",
       "      <td>0.000024</td>\n",
       "      <td>0.34214</td>\n",
       "    </tr>\n",
       "    <tr>\n",
       "      <th>...</th>\n",
       "      <td>...</td>\n",
       "      <td>...</td>\n",
       "      <td>...</td>\n",
       "      <td>...</td>\n",
       "      <td>...</td>\n",
       "      <td>...</td>\n",
       "      <td>...</td>\n",
       "      <td>...</td>\n",
       "      <td>...</td>\n",
       "      <td>...</td>\n",
       "      <td>...</td>\n",
       "      <td>...</td>\n",
       "      <td>...</td>\n",
       "      <td>...</td>\n",
       "      <td>...</td>\n",
       "    </tr>\n",
       "    <tr>\n",
       "      <th>335</th>\n",
       "      <td>36</td>\n",
       "      <td>0.37522</td>\n",
       "      <td>1.1417</td>\n",
       "      <td>0.81725</td>\n",
       "      <td>0.68511</td>\n",
       "      <td>0.58772</td>\n",
       "      <td>0.125230</td>\n",
       "      <td>0.091860</td>\n",
       "      <td>1.535800</td>\n",
       "      <td>0.114880</td>\n",
       "      <td>0.208610</td>\n",
       "      <td>0.041703</td>\n",
       "      <td>0.013344</td>\n",
       "      <td>0.000820</td>\n",
       "      <td>2.02810</td>\n",
       "    </tr>\n",
       "    <tr>\n",
       "      <th>336</th>\n",
       "      <td>36</td>\n",
       "      <td>0.28064</td>\n",
       "      <td>1.0849</td>\n",
       "      <td>0.75319</td>\n",
       "      <td>0.72152</td>\n",
       "      <td>0.71404</td>\n",
       "      <td>0.136860</td>\n",
       "      <td>0.078996</td>\n",
       "      <td>1.135800</td>\n",
       "      <td>0.141220</td>\n",
       "      <td>0.218300</td>\n",
       "      <td>0.045488</td>\n",
       "      <td>0.012002</td>\n",
       "      <td>0.001515</td>\n",
       "      <td>2.40590</td>\n",
       "    </tr>\n",
       "    <tr>\n",
       "      <th>337</th>\n",
       "      <td>36</td>\n",
       "      <td>0.35344</td>\n",
       "      <td>1.0329</td>\n",
       "      <td>0.78147</td>\n",
       "      <td>0.70737</td>\n",
       "      <td>0.61579</td>\n",
       "      <td>0.135030</td>\n",
       "      <td>0.089763</td>\n",
       "      <td>1.466400</td>\n",
       "      <td>0.097663</td>\n",
       "      <td>0.207030</td>\n",
       "      <td>0.041101</td>\n",
       "      <td>0.016123</td>\n",
       "      <td>0.000453</td>\n",
       "      <td>1.69350</td>\n",
       "    </tr>\n",
       "    <tr>\n",
       "      <th>338</th>\n",
       "      <td>36</td>\n",
       "      <td>0.59988</td>\n",
       "      <td>1.1427</td>\n",
       "      <td>0.71532</td>\n",
       "      <td>0.66101</td>\n",
       "      <td>0.47544</td>\n",
       "      <td>0.157470</td>\n",
       "      <td>0.113370</td>\n",
       "      <td>2.339400</td>\n",
       "      <td>0.050389</td>\n",
       "      <td>0.135850</td>\n",
       "      <td>0.018121</td>\n",
       "      <td>0.006190</td>\n",
       "      <td>0.000265</td>\n",
       "      <td>1.15260</td>\n",
       "    </tr>\n",
       "    <tr>\n",
       "      <th>339</th>\n",
       "      <td>36</td>\n",
       "      <td>0.47195</td>\n",
       "      <td>1.0901</td>\n",
       "      <td>0.85409</td>\n",
       "      <td>0.53598</td>\n",
       "      <td>0.39649</td>\n",
       "      <td>0.078376</td>\n",
       "      <td>0.132270</td>\n",
       "      <td>3.184000</td>\n",
       "      <td>0.082007</td>\n",
       "      <td>0.187820</td>\n",
       "      <td>0.034074</td>\n",
       "      <td>0.013487</td>\n",
       "      <td>0.000329</td>\n",
       "      <td>1.56230</td>\n",
       "    </tr>\n",
       "  </tbody>\n",
       "</table>\n",
       "<p>340 rows × 15 columns</p>\n",
       "</div>"
      ],
      "text/plain": [
       "     Class (Species)  Eccentricity  Aspect Ratio  Elongation  Solidity  \\\n",
       "0                  1       0.72694        1.4742     0.32396   0.98535   \n",
       "1                  1       0.74173        1.5257     0.36116   0.98152   \n",
       "2                  1       0.76722        1.5725     0.38998   0.97755   \n",
       "3                  1       0.73797        1.4597     0.35376   0.97566   \n",
       "4                  1       0.82301        1.7707     0.44462   0.97698   \n",
       "..               ...           ...           ...         ...       ...   \n",
       "335               36       0.37522        1.1417     0.81725   0.68511   \n",
       "336               36       0.28064        1.0849     0.75319   0.72152   \n",
       "337               36       0.35344        1.0329     0.78147   0.70737   \n",
       "338               36       0.59988        1.1427     0.71532   0.66101   \n",
       "339               36       0.47195        1.0901     0.85409   0.53598   \n",
       "\n",
       "     Stochastic Convexity  Isoperimetric Factor  Maximal Indentation Depth  \\\n",
       "0                 1.00000              0.835920                   0.004657   \n",
       "1                 0.99825              0.798670                   0.005242   \n",
       "2                 1.00000              0.808120                   0.007457   \n",
       "3                 1.00000              0.816970                   0.006877   \n",
       "4                 1.00000              0.754930                   0.007428   \n",
       "..                    ...                   ...                        ...   \n",
       "335               0.58772              0.125230                   0.091860   \n",
       "336               0.71404              0.136860                   0.078996   \n",
       "337               0.61579              0.135030                   0.089763   \n",
       "338               0.47544              0.157470                   0.113370   \n",
       "339               0.39649              0.078376                   0.132270   \n",
       "\n",
       "     Lobedness  Average Intensity  Average Contrast  Smoothness  Third moment  \\\n",
       "0     0.003947           0.047790          0.127950    0.016108      0.005232   \n",
       "1     0.005002           0.024160          0.090476    0.008119      0.002708   \n",
       "2     0.010121           0.011897          0.057445    0.003289      0.000921   \n",
       "3     0.008607           0.015950          0.065491    0.004271      0.001154   \n",
       "4     0.010042           0.007938          0.045339    0.002051      0.000560   \n",
       "..         ...                ...               ...         ...           ...   \n",
       "335   1.535800           0.114880          0.208610    0.041703      0.013344   \n",
       "336   1.135800           0.141220          0.218300    0.045488      0.012002   \n",
       "337   1.466400           0.097663          0.207030    0.041101      0.016123   \n",
       "338   2.339400           0.050389          0.135850    0.018121      0.006190   \n",
       "339   3.184000           0.082007          0.187820    0.034074      0.013487   \n",
       "\n",
       "     Uniformity  Entropy  \n",
       "0      0.000275  1.17560  \n",
       "1      0.000075  0.69659  \n",
       "2      0.000038  0.44348  \n",
       "3      0.000066  0.58785  \n",
       "4      0.000024  0.34214  \n",
       "..          ...      ...  \n",
       "335    0.000820  2.02810  \n",
       "336    0.001515  2.40590  \n",
       "337    0.000453  1.69350  \n",
       "338    0.000265  1.15260  \n",
       "339    0.000329  1.56230  \n",
       "\n",
       "[340 rows x 15 columns]"
      ]
     },
     "execution_count": 3,
     "metadata": {},
     "output_type": "execute_result"
    }
   ],
   "source": [
    "leaf_df=pd.read_csv(\"leaf.csv\", names = columns).drop(\"Specimen Number\", axis=1)\n",
    "leaf_df"
   ]
  },
  {
   "cell_type": "code",
   "execution_count": 4,
   "id": "44bfa14f",
   "metadata": {},
   "outputs": [],
   "source": [
    "# fig = px.scatter_matrix(leaf_df, color=\"Class (Species)\")\n",
    "# fig.show()"
   ]
  },
  {
   "cell_type": "code",
   "execution_count": 5,
   "id": "11e4aba0",
   "metadata": {},
   "outputs": [],
   "source": [
    "y=leaf_df.iloc[:,0:1]"
   ]
  },
  {
   "cell_type": "code",
   "execution_count": 6,
   "id": "8101eed3",
   "metadata": {},
   "outputs": [],
   "source": [
    "X=leaf_df.iloc[:,1:]"
   ]
  },
  {
   "cell_type": "code",
   "execution_count": 8,
   "id": "f58cc498",
   "metadata": {},
   "outputs": [],
   "source": [
    "# reg = LinearRegression().fit(X_train, y_train)\n",
    "# y_pred = reg.predict(X_test)"
   ]
  },
  {
   "cell_type": "code",
   "execution_count": 9,
   "id": "64871cce-4ceb-44b4-a94b-cad3f28021b6",
   "metadata": {},
   "outputs": [],
   "source": [
    "# clf = LogisticRegression(solver='newton-cg').fit(X_train, y_train)\n",
    "# y_pred=clf.predict(X_test)\n",
    "# y_pred"
   ]
  },
  {
   "cell_type": "code",
   "execution_count": 10,
   "id": "708e5435-7f28-4249-81d7-4fbe505a4753",
   "metadata": {},
   "outputs": [],
   "source": [
    "# svm = SVC(kernel=\"sigmoid\").fit(X_train, y_train)\n",
    "# y_pred=svm.predict(X_test)\n",
    "# y_pred"
   ]
  },
  {
   "cell_type": "code",
   "execution_count": 11,
   "id": "2bca67e3",
   "metadata": {},
   "outputs": [],
   "source": [
    "# accuracy_score(y_test, y_pred)"
   ]
  },
  {
   "attachments": {
    "965b12fd-bd22-4827-a5eb-bef243fa3484.png": {
     "image/png": "[encoded data removed]"
    }
   },
   "cell_type": "markdown",
   "id": "9f148ff1-d9ab-42da-a0a2-665d4b82935c",
   "metadata": {},
   "source": [
    "![image.png](attachment:965b12fd-bd22-4827-a5eb-bef243fa3484.png)"
   ]
  },
  {
   "attachments": {
    "5d56740e-bcdc-496e-9f16-7bc0123ea7fc.png": {
     "image/png": "[encoded data removed]"
    }
   },
   "cell_type": "markdown",
   "id": "5042815e-358f-4891-9a54-3b273c87fca3",
   "metadata": {},
   "source": [
    "![image.png](attachment:5d56740e-bcdc-496e-9f16-7bc0123ea7fc.png)\n",
    "\n",
    "Em que o Xj é o valor da estimativa para a média da característica j.\n",
    "\n",
    "A literatura estatística concorda que a centralização de variáveis preditoras\n",
    "pode aumentar o sucesso na interpretação dos coeficientes da regressão, bem\n",
    "como reduzir a multicolinearidade entre variáveis preditoras do modelo.\n",
    "\n",
    "Fonte: https://ibape-nacional.com.br/biblioteca/wp-content/uploads/2020/02/PE-11-Centraliza%C3%A7%C3%A3o-e-Escalonamento-de-Dados-Amostrais.pdf"
   ]
  },
  {
   "cell_type": "code",
   "execution_count": 14,
   "id": "6e0eddb0-b04b-4944-a4e4-03312d53b878",
   "metadata": {},
   "outputs": [
    {
     "data": {
      "text/plain": [
       "Eccentricity                 0.719854\n",
       "Aspect Ratio                 2.440210\n",
       "Elongation                   0.513760\n",
       "Solidity                     0.904158\n",
       "Stochastic Convexity         0.943793\n",
       "Isoperimetric Factor         0.531234\n",
       "Maximal Indentation Depth    0.037345\n",
       "Lobedness                    0.523845\n",
       "Average Intensity            0.051346\n",
       "Average Contrast             0.124535\n",
       "Smoothness                   0.017670\n",
       "Third moment                 0.005928\n",
       "Uniformity                   0.000387\n",
       "Entropy                      1.162630\n",
       "dtype: float64"
      ]
     },
     "execution_count": 14,
     "metadata": {},
     "output_type": "execute_result"
    }
   ],
   "source": [
    "X.mean()"
   ]
  },
  {
   "cell_type": "code",
   "execution_count": 15,
   "id": "190df6e6-8120-47d7-a51f-fc08b48022b9",
   "metadata": {},
   "outputs": [
    {
     "data": {
      "text/html": [
       "<div>\n",
       "<style scoped>\n",
       "    .dataframe tbody tr th:only-of-type {\n",
       "        vertical-align: middle;\n",
       "    }\n",
       "\n",
       "    .dataframe tbody tr th {\n",
       "        vertical-align: top;\n",
       "    }\n",
       "\n",
       "    .dataframe thead th {\n",
       "        text-align: right;\n",
       "    }\n",
       "</style>\n",
       "<table border=\"1\" class=\"dataframe\">\n",
       "  <thead>\n",
       "    <tr style=\"text-align: right;\">\n",
       "      <th></th>\n",
       "      <th>Eccentricity</th>\n",
       "      <th>Aspect Ratio</th>\n",
       "      <th>Elongation</th>\n",
       "      <th>Solidity</th>\n",
       "      <th>Stochastic Convexity</th>\n",
       "      <th>Isoperimetric Factor</th>\n",
       "      <th>Maximal Indentation Depth</th>\n",
       "      <th>Lobedness</th>\n",
       "      <th>Average Intensity</th>\n",
       "      <th>Average Contrast</th>\n",
       "      <th>Smoothness</th>\n",
       "      <th>Third moment</th>\n",
       "      <th>Uniformity</th>\n",
       "      <th>Entropy</th>\n",
       "    </tr>\n",
       "  </thead>\n",
       "  <tbody>\n",
       "    <tr>\n",
       "      <th>0</th>\n",
       "      <td>0.007086</td>\n",
       "      <td>-0.96601</td>\n",
       "      <td>-0.18980</td>\n",
       "      <td>0.081192</td>\n",
       "      <td>0.056207</td>\n",
       "      <td>0.304686</td>\n",
       "      <td>-0.032688</td>\n",
       "      <td>-0.519898</td>\n",
       "      <td>-0.003556</td>\n",
       "      <td>0.003415</td>\n",
       "      <td>-0.001562</td>\n",
       "      <td>-0.000695</td>\n",
       "      <td>-0.000112</td>\n",
       "      <td>0.01297</td>\n",
       "    </tr>\n",
       "    <tr>\n",
       "      <th>1</th>\n",
       "      <td>0.021876</td>\n",
       "      <td>-0.91451</td>\n",
       "      <td>-0.15260</td>\n",
       "      <td>0.077362</td>\n",
       "      <td>0.054457</td>\n",
       "      <td>0.267436</td>\n",
       "      <td>-0.032102</td>\n",
       "      <td>-0.518843</td>\n",
       "      <td>-0.027186</td>\n",
       "      <td>-0.034059</td>\n",
       "      <td>-0.009550</td>\n",
       "      <td>-0.003220</td>\n",
       "      <td>-0.000312</td>\n",
       "      <td>-0.46604</td>\n",
       "    </tr>\n",
       "    <tr>\n",
       "      <th>2</th>\n",
       "      <td>0.047366</td>\n",
       "      <td>-0.86771</td>\n",
       "      <td>-0.12378</td>\n",
       "      <td>0.073392</td>\n",
       "      <td>0.056207</td>\n",
       "      <td>0.276886</td>\n",
       "      <td>-0.029887</td>\n",
       "      <td>-0.513724</td>\n",
       "      <td>-0.039449</td>\n",
       "      <td>-0.067090</td>\n",
       "      <td>-0.014381</td>\n",
       "      <td>-0.005007</td>\n",
       "      <td>-0.000349</td>\n",
       "      <td>-0.71915</td>\n",
       "    </tr>\n",
       "    <tr>\n",
       "      <th>3</th>\n",
       "      <td>0.018116</td>\n",
       "      <td>-0.98051</td>\n",
       "      <td>-0.16000</td>\n",
       "      <td>0.071502</td>\n",
       "      <td>0.056207</td>\n",
       "      <td>0.285736</td>\n",
       "      <td>-0.030468</td>\n",
       "      <td>-0.515238</td>\n",
       "      <td>-0.035396</td>\n",
       "      <td>-0.059044</td>\n",
       "      <td>-0.013399</td>\n",
       "      <td>-0.004773</td>\n",
       "      <td>-0.000321</td>\n",
       "      <td>-0.57478</td>\n",
       "    </tr>\n",
       "    <tr>\n",
       "      <th>4</th>\n",
       "      <td>0.103156</td>\n",
       "      <td>-0.66951</td>\n",
       "      <td>-0.06914</td>\n",
       "      <td>0.072822</td>\n",
       "      <td>0.056207</td>\n",
       "      <td>0.223696</td>\n",
       "      <td>-0.029917</td>\n",
       "      <td>-0.513803</td>\n",
       "      <td>-0.043408</td>\n",
       "      <td>-0.079196</td>\n",
       "      <td>-0.015619</td>\n",
       "      <td>-0.005368</td>\n",
       "      <td>-0.000364</td>\n",
       "      <td>-0.82049</td>\n",
       "    </tr>\n",
       "    <tr>\n",
       "      <th>...</th>\n",
       "      <td>...</td>\n",
       "      <td>...</td>\n",
       "      <td>...</td>\n",
       "      <td>...</td>\n",
       "      <td>...</td>\n",
       "      <td>...</td>\n",
       "      <td>...</td>\n",
       "      <td>...</td>\n",
       "      <td>...</td>\n",
       "      <td>...</td>\n",
       "      <td>...</td>\n",
       "      <td>...</td>\n",
       "      <td>...</td>\n",
       "      <td>...</td>\n",
       "    </tr>\n",
       "    <tr>\n",
       "      <th>335</th>\n",
       "      <td>-0.344634</td>\n",
       "      <td>-1.29851</td>\n",
       "      <td>0.30349</td>\n",
       "      <td>-0.219048</td>\n",
       "      <td>-0.356073</td>\n",
       "      <td>-0.406004</td>\n",
       "      <td>0.054515</td>\n",
       "      <td>1.011955</td>\n",
       "      <td>0.063534</td>\n",
       "      <td>0.084075</td>\n",
       "      <td>0.024033</td>\n",
       "      <td>0.007416</td>\n",
       "      <td>0.000433</td>\n",
       "      <td>0.86547</td>\n",
       "    </tr>\n",
       "    <tr>\n",
       "      <th>336</th>\n",
       "      <td>-0.439214</td>\n",
       "      <td>-1.35531</td>\n",
       "      <td>0.23943</td>\n",
       "      <td>-0.182638</td>\n",
       "      <td>-0.229753</td>\n",
       "      <td>-0.394374</td>\n",
       "      <td>0.041651</td>\n",
       "      <td>0.611955</td>\n",
       "      <td>0.089874</td>\n",
       "      <td>0.093765</td>\n",
       "      <td>0.027818</td>\n",
       "      <td>0.006074</td>\n",
       "      <td>0.001128</td>\n",
       "      <td>1.24327</td>\n",
       "    </tr>\n",
       "    <tr>\n",
       "      <th>337</th>\n",
       "      <td>-0.366414</td>\n",
       "      <td>-1.40731</td>\n",
       "      <td>0.26771</td>\n",
       "      <td>-0.196788</td>\n",
       "      <td>-0.328003</td>\n",
       "      <td>-0.396204</td>\n",
       "      <td>0.052418</td>\n",
       "      <td>0.942555</td>\n",
       "      <td>0.046317</td>\n",
       "      <td>0.082495</td>\n",
       "      <td>0.023431</td>\n",
       "      <td>0.010195</td>\n",
       "      <td>0.000066</td>\n",
       "      <td>0.53087</td>\n",
       "    </tr>\n",
       "    <tr>\n",
       "      <th>338</th>\n",
       "      <td>-0.119974</td>\n",
       "      <td>-1.29751</td>\n",
       "      <td>0.20156</td>\n",
       "      <td>-0.243148</td>\n",
       "      <td>-0.468353</td>\n",
       "      <td>-0.373764</td>\n",
       "      <td>0.076025</td>\n",
       "      <td>1.815555</td>\n",
       "      <td>-0.000957</td>\n",
       "      <td>0.011315</td>\n",
       "      <td>0.000451</td>\n",
       "      <td>0.000262</td>\n",
       "      <td>-0.000123</td>\n",
       "      <td>-0.01003</td>\n",
       "    </tr>\n",
       "    <tr>\n",
       "      <th>339</th>\n",
       "      <td>-0.247904</td>\n",
       "      <td>-1.35011</td>\n",
       "      <td>0.34033</td>\n",
       "      <td>-0.368178</td>\n",
       "      <td>-0.547303</td>\n",
       "      <td>-0.452858</td>\n",
       "      <td>0.094925</td>\n",
       "      <td>2.660155</td>\n",
       "      <td>0.030661</td>\n",
       "      <td>0.063285</td>\n",
       "      <td>0.016404</td>\n",
       "      <td>0.007559</td>\n",
       "      <td>-0.000059</td>\n",
       "      <td>0.39967</td>\n",
       "    </tr>\n",
       "  </tbody>\n",
       "</table>\n",
       "<p>340 rows × 14 columns</p>\n",
       "</div>"
      ],
      "text/plain": [
       "     Eccentricity  Aspect Ratio  Elongation  Solidity  Stochastic Convexity  \\\n",
       "0        0.007086      -0.96601    -0.18980  0.081192              0.056207   \n",
       "1        0.021876      -0.91451    -0.15260  0.077362              0.054457   \n",
       "2        0.047366      -0.86771    -0.12378  0.073392              0.056207   \n",
       "3        0.018116      -0.98051    -0.16000  0.071502              0.056207   \n",
       "4        0.103156      -0.66951    -0.06914  0.072822              0.056207   \n",
       "..            ...           ...         ...       ...                   ...   \n",
       "335     -0.344634      -1.29851     0.30349 -0.219048             -0.356073   \n",
       "336     -0.439214      -1.35531     0.23943 -0.182638             -0.229753   \n",
       "337     -0.366414      -1.40731     0.26771 -0.196788             -0.328003   \n",
       "338     -0.119974      -1.29751     0.20156 -0.243148             -0.468353   \n",
       "339     -0.247904      -1.35011     0.34033 -0.368178             -0.547303   \n",
       "\n",
       "     Isoperimetric Factor  Maximal Indentation Depth  Lobedness  \\\n",
       "0                0.304686                  -0.032688  -0.519898   \n",
       "1                0.267436                  -0.032102  -0.518843   \n",
       "2                0.276886                  -0.029887  -0.513724   \n",
       "3                0.285736                  -0.030468  -0.515238   \n",
       "4                0.223696                  -0.029917  -0.513803   \n",
       "..                    ...                        ...        ...   \n",
       "335             -0.406004                   0.054515   1.011955   \n",
       "336             -0.394374                   0.041651   0.611955   \n",
       "337             -0.396204                   0.052418   0.942555   \n",
       "338             -0.373764                   0.076025   1.815555   \n",
       "339             -0.452858                   0.094925   2.660155   \n",
       "\n",
       "     Average Intensity  Average Contrast  Smoothness  Third moment  \\\n",
       "0            -0.003556          0.003415   -0.001562     -0.000695   \n",
       "1            -0.027186         -0.034059   -0.009550     -0.003220   \n",
       "2            -0.039449         -0.067090   -0.014381     -0.005007   \n",
       "3            -0.035396         -0.059044   -0.013399     -0.004773   \n",
       "4            -0.043408         -0.079196   -0.015619     -0.005368   \n",
       "..                 ...               ...         ...           ...   \n",
       "335           0.063534          0.084075    0.024033      0.007416   \n",
       "336           0.089874          0.093765    0.027818      0.006074   \n",
       "337           0.046317          0.082495    0.023431      0.010195   \n",
       "338          -0.000957          0.011315    0.000451      0.000262   \n",
       "339           0.030661          0.063285    0.016404      0.007559   \n",
       "\n",
       "     Uniformity  Entropy  \n",
       "0     -0.000112  0.01297  \n",
       "1     -0.000312 -0.46604  \n",
       "2     -0.000349 -0.71915  \n",
       "3     -0.000321 -0.57478  \n",
       "4     -0.000364 -0.82049  \n",
       "..          ...      ...  \n",
       "335    0.000433  0.86547  \n",
       "336    0.001128  1.24327  \n",
       "337    0.000066  0.53087  \n",
       "338   -0.000123 -0.01003  \n",
       "339   -0.000059  0.39967  \n",
       "\n",
       "[340 rows x 14 columns]"
      ]
     },
     "execution_count": 15,
     "metadata": {},
     "output_type": "execute_result"
    }
   ],
   "source": [
    "X=X-X.mean()\n",
    "X"
   ]
  },
  {
   "attachments": {
    "1997ba9f-a2e3-446d-903f-5f73f1d373be.png": {
     "image/png": "[encoded data removed]"
    }
   },
   "cell_type": "markdown",
   "id": "71d20eaf-03ed-4790-968c-cb52c75ff58f",
   "metadata": {},
   "source": [
    "![image.png](attachment:1997ba9f-a2e3-446d-903f-5f73f1d373be.png)"
   ]
  },
  {
   "cell_type": "code",
   "execution_count": 24,
   "id": "2bba7a40-78c0-4ece-8c33-21d6f46a3252",
   "metadata": {},
   "outputs": [],
   "source": [
    "X_train, X_test, y_train, y_test = train_test_split(X, y, test_size=0.30)"
   ]
  },
  {
   "attachments": {
    "e1ee124a-754d-41c4-8d74-3427a64b108d.png": {
     "image/png": "[encoded data removed]"
    }
   },
   "cell_type": "markdown",
   "id": "c67415ba-27cd-4545-b50b-57031710438d",
   "metadata": {},
   "source": [
    "![image.png](attachment:e1ee124a-754d-41c4-8d74-3427a64b108d.png)"
   ]
  },
  {
   "cell_type": "markdown",
   "id": "cc00dd3d-fdf6-415e-a0e9-631cf16d724d",
   "metadata": {},
   "source": [
    "Covariance provides the a measure of strength of linear correlation between two variable or more set of variables."
   ]
  },
  {
   "cell_type": "code",
   "execution_count": 61,
   "id": "40f2484c-32d6-49b5-8ca6-1fe99c0b90a0",
   "metadata": {},
   "outputs": [
    {
     "name": "stdout",
     "output_type": "stream",
     "text": [
      "Covariance Matrix (Fisrt Method):\n",
      "    0.042983      0.300002     0.0247478    0.00747325   0.00820979  -0.00405728   -0.00163079    -0.0291484   -0.00173927   -0.00221221   -0.00057664  -0.000177942  -1.99686e-05   -0.0296757  \n",
      "    0.300002        6.4489      0.348501  -0.000366352    0.0358043    -0.265349      0.010229      0.413055    -0.0259876    -0.0406619   -0.00951134    -0.0033324  -0.000242249    -0.454099  \n",
      "   0.0247478      0.348501     0.0385266    -0.0084133  -0.00742708   -0.0335025    0.00311003     0.0789689   -0.00128368   -0.00182791  -0.000458441  -0.000160477  -1.82432e-05   -0.0195141  \n",
      "  0.00747325  -0.000366352    -0.0084133     0.0120807     0.010368    0.0176231   -0.00357659    -0.0879126   0.000204645   0.000353467   8.41206e-05   2.79172e-05   5.05378e-06   0.00046399  \n",
      "  0.00820979     0.0358043   -0.00742708      0.010368    0.0123158    0.0150853   -0.00307104    -0.0733186   9.46832e-05    0.00011796    2.2115e-05   4.08851e-06   4.13938e-06  0.000757306  \n",
      " -0.00405728     -0.265349    -0.0335025     0.0176231    0.0150853    0.0463854   -0.00579349     -0.131087   0.000494979    0.00083339   0.000216486   8.90575e-05    1.1289e-05   0.00355538  \n",
      " -0.00163079      0.010229    0.00311003   -0.00357659  -0.00307104  -0.00579349    0.00140838     0.0355269  -0.000105977  -0.000159479  -2.80979e-05  -5.02244e-06  -2.21249e-06  -0.00191442  \n",
      "  -0.0291484      0.413055     0.0789689    -0.0879126   -0.0733186    -0.131087     0.0355269       1.00742   -0.00568123     -0.009028   -0.00196536    -0.0006237  -6.95947e-05    -0.096464  \n",
      " -0.00173927    -0.0259876   -0.00128368   0.000204645  9.46832e-05  0.000494979  -0.000105977   -0.00568123    0.00122138    0.00168419   0.000445078   0.000147007   1.17283e-05    0.0188851  \n",
      " -0.00221221    -0.0406619   -0.00182791   0.000353467   0.00011796   0.00083339  -0.000159479     -0.009028    0.00168419    0.00255204   0.000659872   0.000238137   1.39881e-05    0.0249265  \n",
      " -0.00057664   -0.00951134  -0.000458441   8.41206e-05   2.2115e-05  0.000216486  -2.80979e-05   -0.00196536   0.000445078   0.000659872   0.000177971   6.51924e-05   3.63249e-06   0.00626927  \n",
      "-0.000177942    -0.0033324  -0.000160477   2.79172e-05  4.08851e-06  8.90575e-05  -5.02244e-06    -0.0006237   0.000147007   0.000238137   6.51924e-05   2.65292e-05    9.1891e-07   0.00187815  \n",
      "-1.99686e-05  -0.000242249  -1.82432e-05   5.05378e-06  4.13938e-06   1.1289e-05  -2.21249e-06  -6.95947e-05   1.17283e-05   1.39881e-05   3.63249e-06    9.1891e-07   1.64408e-07  0.000191094  \n",
      "  -0.0296757     -0.454099    -0.0195141    0.00046399  0.000757306   0.00355538   -0.00191442     -0.096464     0.0188851     0.0249265    0.00626927    0.00187815   0.000191094     0.336556  \n",
      "Shape(14, 14)\n"
     ]
    }
   ],
   "source": [
    "cov_matrix_1 = np.cov(X_train, rowvar=False)\n",
    "print(\"Covariance Matrix (Fisrt Method):\")\n",
    "matprint(cov_matrix_1)\n",
    "print(\"Shape{}\".format(np.shape(cov_matrix_1)))"
   ]
  },
  {
   "cell_type": "code",
   "execution_count": 62,
   "id": "00e7beba-4895-4c2c-abc5-cce6431c72a1",
   "metadata": {},
   "outputs": [
    {
     "data": {
      "application/vnd.plotly.v1+json": {
       "config": {
        "plotlyServerURL": "https://plot.ly"
       },
       "data": [
        {
         "coloraxis": "coloraxis",
         "hovertemplate": "x: %{x}<br>y: %{y}<br>color: %{z}<extra></extra>",
         "name": "0",
         "type": "heatmap",
         "xaxis": "x",
         "yaxis": "y",
         "z": [
          [
           0.04298296033474628,
           0.30000200008750827,
           0.024747843073270586,
           0.007473250784235715,
           0.008209793552783388,
           -0.004057278207223875,
           -0.0016307902630376388,
           -0.02914843622450892,
           -0.001739274332529288,
           -0.002212206552383612,
           -0.0005766396124783359,
           -0.00017794165859022075,
           -1.9968643696636015e-05,
           -0.029675739937999494
          ],
          [
           0.30000200008750827,
           6.448902499219238,
           0.34850087328379964,
           -0.0003663517567280037,
           0.03580431198581715,
           -0.2653489031480516,
           0.010229019395646927,
           0.41305480023276575,
           -0.02598759627595681,
           -0.04066187325046268,
           -0.00951133838344077,
           -0.003332395596951601,
           -0.0002422494876433035,
           -0.4540986032861752
          ],
          [
           0.024747843073270586,
           0.34850087328379964,
           0.03852659310436657,
           -0.008413295774953013,
           -0.007427076509745418,
           -0.03350246580497022,
           0.0031100285550165418,
           0.07896887599986332,
           -0.001283682191614172,
           -0.0018279134114560505,
           -0.0004584407107663905,
           -0.00016047739254522215,
           -1.8243216432992677e-05,
           -0.019514105906304296
          ],
          [
           0.007473250784235715,
           -0.0003663517567280037,
           -0.008413295774953013,
           0.012080705129007545,
           0.010367982728847992,
           0.017623128109520974,
           -0.0035765898626066734,
           -0.08791263047008237,
           0.00020464472696003964,
           0.0003534674435053005,
           8.41205960810552e-05,
           2.7917197093497146e-05,
           5.053777905556464e-06,
           0.000463989508637376
          ],
          [
           0.008209793552783388,
           0.03580431198581715,
           -0.007427076509745418,
           0.010367982728847992,
           0.01231575822380778,
           0.0150852855582539,
           -0.0030710414819660505,
           -0.07331855239498862,
           9.468324408153393e-05,
           0.00011795952840460222,
           2.211502820052828e-05,
           4.088513727624735e-06,
           4.139383725338421e-06,
           0.0007573058460660214
          ],
          [
           -0.004057278207223875,
           -0.2653489031480516,
           -0.03350246580497022,
           0.017623128109520974,
           0.0150852855582539,
           0.04638535968345234,
           -0.005793490357499907,
           -0.13108682114664538,
           0.0004949790117250805,
           0.0008333904345029786,
           0.0002164861504256514,
           8.905752652547774e-05,
           1.1288983445391028e-05,
           0.0035553761764159824
          ],
          [
           -0.0016307902630376388,
           0.010229019395646927,
           0.0031100285550165418,
           -0.0035765898626066734,
           -0.0030710414819660505,
           -0.005793490357499907,
           0.0014083827055036613,
           0.035526936077020226,
           -0.00010597657493550885,
           -0.00015947850841534393,
           -2.809786226102736e-05,
           -5.022439121718032e-06,
           -2.2124901536140614e-06,
           -0.001914423157822536
          ],
          [
           -0.02914843622450892,
           0.41305480023276575,
           0.07896887599986332,
           -0.08791263047008237,
           -0.07331855239498862,
           -0.13108682114664538,
           0.035526936077020226,
           1.0074195099576684,
           -0.005681226518164377,
           -0.009028000817348624,
           -0.00196535782466354,
           -0.0006236995028722961,
           -6.959474812202463e-05,
           -0.09646401729664679
          ],
          [
           -0.001739274332529288,
           -0.02598759627595681,
           -0.001283682191614172,
           0.00020464472696003964,
           9.468324408153393e-05,
           0.0004949790117250805,
           -0.00010597657493550885,
           -0.005681226518164377,
           0.0012213751615686112,
           0.0016841911667103118,
           0.00044507820762209113,
           0.0001470069291388092,
           1.1728341224535408e-05,
           0.018885106041748572
          ],
          [
           -0.002212206552383612,
           -0.04066187325046268,
           -0.0018279134114560505,
           0.0003534674435053005,
           0.00011795952840460222,
           0.0008333904345029786,
           -0.00015947850841534393,
           -0.009028000817348624,
           0.0016841911667103118,
           0.002552041945150958,
           0.0006598721385446984,
           0.00023813725569535126,
           1.3988110471317609e-05,
           0.024926470856964505
          ],
          [
           -0.0005766396124783359,
           -0.00951133838344077,
           -0.0004584407107663905,
           8.41205960810552e-05,
           2.211502820052828e-05,
           0.0002164861504256514,
           -2.809786226102736e-05,
           -0.00196535782466354,
           0.00044507820762209113,
           0.0006598721385446984,
           0.00017797103949664515,
           6.519241642361676e-05,
           3.632489061220306e-06,
           0.006269273558767685
          ],
          [
           -0.00017794165859022075,
           -0.003332395596951601,
           -0.00016047739254522215,
           2.7917197093497146e-05,
           4.088513727624735e-06,
           8.905752652547774e-05,
           -5.022439121718032e-06,
           -0.0006236995028722961,
           0.0001470069291388092,
           0.00023813725569535126,
           6.519241642361676e-05,
           2.652915568175667e-05,
           9.189095128585273e-07,
           0.0018781546518714073
          ],
          [
           -1.9968643696636015e-05,
           -0.0002422494876433035,
           -1.8243216432992677e-05,
           5.053777905556464e-06,
           4.139383725338421e-06,
           1.1288983445391028e-05,
           -2.2124901536140614e-06,
           -6.959474812202463e-05,
           1.1728341224535408e-05,
           1.3988110471317609e-05,
           3.632489061220306e-06,
           9.189095128585273e-07,
           1.6440786455073326e-07,
           0.00019109448435338539
          ],
          [
           -0.029675739937999494,
           -0.4540986032861752,
           -0.019514105906304296,
           0.000463989508637376,
           0.0007573058460660214,
           0.0035553761764159824,
           -0.001914423157822536,
           -0.09646401729664679,
           0.018885106041748572,
           0.024926470856964505,
           0.006269273558767685,
           0.0018781546518714073,
           0.00019109448435338539,
           0.3365558019934971
          ]
         ]
        }
       ],
       "layout": {
        "autosize": true,
        "coloraxis": {
         "colorscale": [
          [
           0,
           "#0d0887"
          ],
          [
           0.1111111111111111,
           "#46039f"
          ],
          [
           0.2222222222222222,
           "#7201a8"
          ],
          [
           0.3333333333333333,
           "#9c179e"
          ],
          [
           0.4444444444444444,
           "#bd3786"
          ],
          [
           0.5555555555555556,
           "#d8576b"
          ],
          [
           0.6666666666666666,
           "#ed7953"
          ],
          [
           0.7777777777777778,
           "#fb9f3a"
          ],
          [
           0.8888888888888888,
           "#fdca26"
          ],
          [
           1,
           "#f0f921"
          ]
         ]
        },
        "margin": {
         "t": 60
        },
        "template": {
         "data": {
          "bar": [
           {
            "error_x": {
             "color": "#2a3f5f"
            },
            "error_y": {
             "color": "#2a3f5f"
            },
            "marker": {
             "line": {
              "color": "#E5ECF6",
              "width": 0.5
             }
            },
            "type": "bar"
           }
          ],
          "barpolar": [
           {
            "marker": {
             "line": {
              "color": "#E5ECF6",
              "width": 0.5
             }
            },
            "type": "barpolar"
           }
          ],
          "carpet": [
           {
            "aaxis": {
             "endlinecolor": "#2a3f5f",
             "gridcolor": "white",
             "linecolor": "white",
             "minorgridcolor": "white",
             "startlinecolor": "#2a3f5f"
            },
            "baxis": {
             "endlinecolor": "#2a3f5f",
             "gridcolor": "white",
             "linecolor": "white",
             "minorgridcolor": "white",
             "startlinecolor": "#2a3f5f"
            },
            "type": "carpet"
           }
          ],
          "choropleth": [
           {
            "colorbar": {
             "outlinewidth": 0,
             "ticks": ""
            },
            "type": "choropleth"
           }
          ],
          "contour": [
           {
            "colorbar": {
             "outlinewidth": 0,
             "ticks": ""
            },
            "colorscale": [
             [
              0,
              "#0d0887"
             ],
             [
              0.1111111111111111,
              "#46039f"
             ],
             [
              0.2222222222222222,
              "#7201a8"
             ],
             [
              0.3333333333333333,
              "#9c179e"
             ],
             [
              0.4444444444444444,
              "#bd3786"
             ],
             [
              0.5555555555555556,
              "#d8576b"
             ],
             [
              0.6666666666666666,
              "#ed7953"
             ],
             [
              0.7777777777777778,
              "#fb9f3a"
             ],
             [
              0.8888888888888888,
              "#fdca26"
             ],
             [
              1,
              "#f0f921"
             ]
            ],
            "type": "contour"
           }
          ],
          "contourcarpet": [
           {
            "colorbar": {
             "outlinewidth": 0,
             "ticks": ""
            },
            "type": "contourcarpet"
           }
          ],
          "heatmap": [
           {
            "colorbar": {
             "outlinewidth": 0,
             "ticks": ""
            },
            "colorscale": [
             [
              0,
              "#0d0887"
             ],
             [
              0.1111111111111111,
              "#46039f"
             ],
             [
              0.2222222222222222,
              "#7201a8"
             ],
             [
              0.3333333333333333,
              "#9c179e"
             ],
             [
              0.4444444444444444,
              "#bd3786"
             ],
             [
              0.5555555555555556,
              "#d8576b"
             ],
             [
              0.6666666666666666,
              "#ed7953"
             ],
             [
              0.7777777777777778,
              "#fb9f3a"
             ],
             [
              0.8888888888888888,
              "#fdca26"
             ],
             [
              1,
              "#f0f921"
             ]
            ],
            "type": "heatmap"
           }
          ],
          "heatmapgl": [
           {
            "colorbar": {
             "outlinewidth": 0,
             "ticks": ""
            },
            "colorscale": [
             [
              0,
              "#0d0887"
             ],
             [
              0.1111111111111111,
              "#46039f"
             ],
             [
              0.2222222222222222,
              "#7201a8"
             ],
             [
              0.3333333333333333,
              "#9c179e"
             ],
             [
              0.4444444444444444,
              "#bd3786"
             ],
             [
              0.5555555555555556,
              "#d8576b"
             ],
             [
              0.6666666666666666,
              "#ed7953"
             ],
             [
              0.7777777777777778,
              "#fb9f3a"
             ],
             [
              0.8888888888888888,
              "#fdca26"
             ],
             [
              1,
              "#f0f921"
             ]
            ],
            "type": "heatmapgl"
           }
          ],
          "histogram": [
           {
            "marker": {
             "colorbar": {
              "outlinewidth": 0,
              "ticks": ""
             }
            },
            "type": "histogram"
           }
          ],
          "histogram2d": [
           {
            "colorbar": {
             "outlinewidth": 0,
             "ticks": ""
            },
            "colorscale": [
             [
              0,
              "#0d0887"
             ],
             [
              0.1111111111111111,
              "#46039f"
             ],
             [
              0.2222222222222222,
              "#7201a8"
             ],
             [
              0.3333333333333333,
              "#9c179e"
             ],
             [
              0.4444444444444444,
              "#bd3786"
             ],
             [
              0.5555555555555556,
              "#d8576b"
             ],
             [
              0.6666666666666666,
              "#ed7953"
             ],
             [
              0.7777777777777778,
              "#fb9f3a"
             ],
             [
              0.8888888888888888,
              "#fdca26"
             ],
             [
              1,
              "#f0f921"
             ]
            ],
            "type": "histogram2d"
           }
          ],
          "histogram2dcontour": [
           {
            "colorbar": {
             "outlinewidth": 0,
             "ticks": ""
            },
            "colorscale": [
             [
              0,
              "#0d0887"
             ],
             [
              0.1111111111111111,
              "#46039f"
             ],
             [
              0.2222222222222222,
              "#7201a8"
             ],
             [
              0.3333333333333333,
              "#9c179e"
             ],
             [
              0.4444444444444444,
              "#bd3786"
             ],
             [
              0.5555555555555556,
              "#d8576b"
             ],
             [
              0.6666666666666666,
              "#ed7953"
             ],
             [
              0.7777777777777778,
              "#fb9f3a"
             ],
             [
              0.8888888888888888,
              "#fdca26"
             ],
             [
              1,
              "#f0f921"
             ]
            ],
            "type": "histogram2dcontour"
           }
          ],
          "mesh3d": [
           {
            "colorbar": {
             "outlinewidth": 0,
             "ticks": ""
            },
            "type": "mesh3d"
           }
          ],
          "parcoords": [
           {
            "line": {
             "colorbar": {
              "outlinewidth": 0,
              "ticks": ""
             }
            },
            "type": "parcoords"
           }
          ],
          "pie": [
           {
            "automargin": true,
            "type": "pie"
           }
          ],
          "scatter": [
           {
            "marker": {
             "colorbar": {
              "outlinewidth": 0,
              "ticks": ""
             }
            },
            "type": "scatter"
           }
          ],
          "scatter3d": [
           {
            "line": {
             "colorbar": {
              "outlinewidth": 0,
              "ticks": ""
             }
            },
            "marker": {
             "colorbar": {
              "outlinewidth": 0,
              "ticks": ""
             }
            },
            "type": "scatter3d"
           }
          ],
          "scattercarpet": [
           {
            "marker": {
             "colorbar": {
              "outlinewidth": 0,
              "ticks": ""
             }
            },
            "type": "scattercarpet"
           }
          ],
          "scattergeo": [
           {
            "marker": {
             "colorbar": {
              "outlinewidth": 0,
              "ticks": ""
             }
            },
            "type": "scattergeo"
           }
          ],
          "scattergl": [
           {
            "marker": {
             "colorbar": {
              "outlinewidth": 0,
              "ticks": ""
             }
            },
            "type": "scattergl"
           }
          ],
          "scattermapbox": [
           {
            "marker": {
             "colorbar": {
              "outlinewidth": 0,
              "ticks": ""
             }
            },
            "type": "scattermapbox"
           }
          ],
          "scatterpolar": [
           {
            "marker": {
             "colorbar": {
              "outlinewidth": 0,
              "ticks": ""
             }
            },
            "type": "scatterpolar"
           }
          ],
          "scatterpolargl": [
           {
            "marker": {
             "colorbar": {
              "outlinewidth": 0,
              "ticks": ""
             }
            },
            "type": "scatterpolargl"
           }
          ],
          "scatterternary": [
           {
            "marker": {
             "colorbar": {
              "outlinewidth": 0,
              "ticks": ""
             }
            },
            "type": "scatterternary"
           }
          ],
          "surface": [
           {
            "colorbar": {
             "outlinewidth": 0,
             "ticks": ""
            },
            "colorscale": [
             [
              0,
              "#0d0887"
             ],
             [
              0.1111111111111111,
              "#46039f"
             ],
             [
              0.2222222222222222,
              "#7201a8"
             ],
             [
              0.3333333333333333,
              "#9c179e"
             ],
             [
              0.4444444444444444,
              "#bd3786"
             ],
             [
              0.5555555555555556,
              "#d8576b"
             ],
             [
              0.6666666666666666,
              "#ed7953"
             ],
             [
              0.7777777777777778,
              "#fb9f3a"
             ],
             [
              0.8888888888888888,
              "#fdca26"
             ],
             [
              1,
              "#f0f921"
             ]
            ],
            "type": "surface"
           }
          ],
          "table": [
           {
            "cells": {
             "fill": {
              "color": "#EBF0F8"
             },
             "line": {
              "color": "white"
             }
            },
            "header": {
             "fill": {
              "color": "#C8D4E3"
             },
             "line": {
              "color": "white"
             }
            },
            "type": "table"
           }
          ]
         },
         "layout": {
          "annotationdefaults": {
           "arrowcolor": "#2a3f5f",
           "arrowhead": 0,
           "arrowwidth": 1
          },
          "autotypenumbers": "strict",
          "coloraxis": {
           "colorbar": {
            "outlinewidth": 0,
            "ticks": ""
           }
          },
          "colorscale": {
           "diverging": [
            [
             0,
             "#8e0152"
            ],
            [
             0.1,
             "#c51b7d"
            ],
            [
             0.2,
             "#de77ae"
            ],
            [
             0.3,
             "#f1b6da"
            ],
            [
             0.4,
             "#fde0ef"
            ],
            [
             0.5,
             "#f7f7f7"
            ],
            [
             0.6,
             "#e6f5d0"
            ],
            [
             0.7,
             "#b8e186"
            ],
            [
             0.8,
             "#7fbc41"
            ],
            [
             0.9,
             "#4d9221"
            ],
            [
             1,
             "#276419"
            ]
           ],
           "sequential": [
            [
             0,
             "#0d0887"
            ],
            [
             0.1111111111111111,
             "#46039f"
            ],
            [
             0.2222222222222222,
             "#7201a8"
            ],
            [
             0.3333333333333333,
             "#9c179e"
            ],
            [
             0.4444444444444444,
             "#bd3786"
            ],
            [
             0.5555555555555556,
             "#d8576b"
            ],
            [
             0.6666666666666666,
             "#ed7953"
            ],
            [
             0.7777777777777778,
             "#fb9f3a"
            ],
            [
             0.8888888888888888,
             "#fdca26"
            ],
            [
             1,
             "#f0f921"
            ]
           ],
           "sequentialminus": [
            [
             0,
             "#0d0887"
            ],
            [
             0.1111111111111111,
             "#46039f"
            ],
            [
             0.2222222222222222,
             "#7201a8"
            ],
            [
             0.3333333333333333,
             "#9c179e"
            ],
            [
             0.4444444444444444,
             "#bd3786"
            ],
            [
             0.5555555555555556,
             "#d8576b"
            ],
            [
             0.6666666666666666,
             "#ed7953"
            ],
            [
             0.7777777777777778,
             "#fb9f3a"
            ],
            [
             0.8888888888888888,
             "#fdca26"
            ],
            [
             1,
             "#f0f921"
            ]
           ]
          },
          "colorway": [
           "#636efa",
           "#EF553B",
           "#00cc96",
           "#ab63fa",
           "#FFA15A",
           "#19d3f3",
           "#FF6692",
           "#B6E880",
           "#FF97FF",
           "#FECB52"
          ],
          "font": {
           "color": "#2a3f5f"
          },
          "geo": {
           "bgcolor": "white",
           "lakecolor": "white",
           "landcolor": "#E5ECF6",
           "showlakes": true,
           "showland": true,
           "subunitcolor": "white"
          },
          "hoverlabel": {
           "align": "left"
          },
          "hovermode": "closest",
          "mapbox": {
           "style": "light"
          },
          "paper_bgcolor": "white",
          "plot_bgcolor": "#E5ECF6",
          "polar": {
           "angularaxis": {
            "gridcolor": "white",
            "linecolor": "white",
            "ticks": ""
           },
           "bgcolor": "#E5ECF6",
           "radialaxis": {
            "gridcolor": "white",
            "linecolor": "white",
            "ticks": ""
           }
          },
          "scene": {
           "xaxis": {
            "backgroundcolor": "#E5ECF6",
            "gridcolor": "white",
            "gridwidth": 2,
            "linecolor": "white",
            "showbackground": true,
            "ticks": "",
            "zerolinecolor": "white"
           },
           "yaxis": {
            "backgroundcolor": "#E5ECF6",
            "gridcolor": "white",
            "gridwidth": 2,
            "linecolor": "white",
            "showbackground": true,
            "ticks": "",
            "zerolinecolor": "white"
           },
           "zaxis": {
            "backgroundcolor": "#E5ECF6",
            "gridcolor": "white",
            "gridwidth": 2,
            "linecolor": "white",
            "showbackground": true,
            "ticks": "",
            "zerolinecolor": "white"
           }
          },
          "shapedefaults": {
           "line": {
            "color": "#2a3f5f"
           }
          },
          "ternary": {
           "aaxis": {
            "gridcolor": "white",
            "linecolor": "white",
            "ticks": ""
           },
           "baxis": {
            "gridcolor": "white",
            "linecolor": "white",
            "ticks": ""
           },
           "bgcolor": "#E5ECF6",
           "caxis": {
            "gridcolor": "white",
            "linecolor": "white",
            "ticks": ""
           }
          },
          "title": {
           "x": 0.05
          },
          "xaxis": {
           "automargin": true,
           "gridcolor": "white",
           "linecolor": "white",
           "ticks": "",
           "title": {
            "standoff": 15
           },
           "zerolinecolor": "white",
           "zerolinewidth": 2
          },
          "yaxis": {
           "automargin": true,
           "gridcolor": "white",
           "linecolor": "white",
           "ticks": "",
           "title": {
            "standoff": 15
           },
           "zerolinecolor": "white",
           "zerolinewidth": 2
          }
         }
        },
        "xaxis": {
         "anchor": "y",
         "autorange": true,
         "constrain": "domain",
         "domain": [
          0.41939677587103485,
          0.5806032241289651
         ],
         "range": [
          -0.5,
          13.5
         ],
         "scaleanchor": "y"
        },
        "yaxis": {
         "anchor": "x",
         "autorange": true,
         "constrain": "domain",
         "domain": [
          0,
          1
         ],
         "range": [
          13.5,
          -0.5
         ]
        }
       }
      },
      "image/png": "[encoded data removed]",
      "text/html": [
       "<div>                            <div id=\"ce7e93ce-8ffb-495c-990c-d46cf698f04b\" class=\"plotly-graph-div\" style=\"height:525px; width:100%;\"></div>            <script type=\"text/javascript\">                require([\"plotly\"], function(Plotly) {                    window.PLOTLYENV=window.PLOTLYENV || {};                                    if (document.getElementById(\"ce7e93ce-8ffb-495c-990c-d46cf698f04b\")) {                    Plotly.newPlot(                        \"ce7e93ce-8ffb-495c-990c-d46cf698f04b\",                        [{\"coloraxis\": \"coloraxis\", \"hovertemplate\": \"x: %{x}<br>y: %{y}<br>color: %{z}<extra></extra>\", \"name\": \"0\", \"type\": \"heatmap\", \"xaxis\": \"x\", \"yaxis\": \"y\", \"z\": [[0.04298296033474628, 0.30000200008750827, 0.024747843073270586, 0.007473250784235715, 0.008209793552783388, -0.004057278207223875, -0.0016307902630376388, -0.02914843622450892, -0.001739274332529288, -0.002212206552383612, -0.0005766396124783359, -0.00017794165859022075, -1.9968643696636015e-05, -0.029675739937999494], [0.30000200008750827, 6.448902499219238, 0.34850087328379964, -0.0003663517567280037, 0.03580431198581715, -0.2653489031480516, 0.010229019395646927, 0.41305480023276575, -0.02598759627595681, -0.04066187325046268, -0.00951133838344077, -0.003332395596951601, -0.0002422494876433035, -0.4540986032861752], [0.024747843073270586, 0.34850087328379964, 0.03852659310436657, -0.008413295774953013, -0.007427076509745418, -0.03350246580497022, 0.0031100285550165418, 0.07896887599986332, -0.001283682191614172, -0.0018279134114560505, -0.0004584407107663905, -0.00016047739254522215, -1.8243216432992677e-05, -0.019514105906304296], [0.007473250784235715, -0.0003663517567280037, -0.008413295774953013, 0.012080705129007545, 0.010367982728847992, 0.017623128109520974, -0.0035765898626066734, -0.08791263047008237, 0.00020464472696003964, 0.0003534674435053005, 8.41205960810552e-05, 2.7917197093497146e-05, 5.053777905556464e-06, 0.000463989508637376], [0.008209793552783388, 0.03580431198581715, -0.007427076509745418, 0.010367982728847992, 0.01231575822380778, 0.0150852855582539, -0.0030710414819660505, -0.07331855239498862, 9.468324408153393e-05, 0.00011795952840460222, 2.211502820052828e-05, 4.088513727624735e-06, 4.139383725338421e-06, 0.0007573058460660214], [-0.004057278207223875, -0.2653489031480516, -0.03350246580497022, 0.017623128109520974, 0.0150852855582539, 0.04638535968345234, -0.005793490357499907, -0.13108682114664538, 0.0004949790117250805, 0.0008333904345029786, 0.0002164861504256514, 8.905752652547774e-05, 1.1288983445391028e-05, 0.0035553761764159824], [-0.0016307902630376388, 0.010229019395646927, 0.0031100285550165418, -0.0035765898626066734, -0.0030710414819660505, -0.005793490357499907, 0.0014083827055036613, 0.035526936077020226, -0.00010597657493550885, -0.00015947850841534393, -2.809786226102736e-05, -5.022439121718032e-06, -2.2124901536140614e-06, -0.001914423157822536], [-0.02914843622450892, 0.41305480023276575, 0.07896887599986332, -0.08791263047008237, -0.07331855239498862, -0.13108682114664538, 0.035526936077020226, 1.0074195099576684, -0.005681226518164377, -0.009028000817348624, -0.00196535782466354, -0.0006236995028722961, -6.959474812202463e-05, -0.09646401729664679], [-0.001739274332529288, -0.02598759627595681, -0.001283682191614172, 0.00020464472696003964, 9.468324408153393e-05, 0.0004949790117250805, -0.00010597657493550885, -0.005681226518164377, 0.0012213751615686112, 0.0016841911667103118, 0.00044507820762209113, 0.0001470069291388092, 1.1728341224535408e-05, 0.018885106041748572], [-0.002212206552383612, -0.04066187325046268, -0.0018279134114560505, 0.0003534674435053005, 0.00011795952840460222, 0.0008333904345029786, -0.00015947850841534393, -0.009028000817348624, 0.0016841911667103118, 0.002552041945150958, 0.0006598721385446984, 0.00023813725569535126, 1.3988110471317609e-05, 0.024926470856964505], [-0.0005766396124783359, -0.00951133838344077, -0.0004584407107663905, 8.41205960810552e-05, 2.211502820052828e-05, 0.0002164861504256514, -2.809786226102736e-05, -0.00196535782466354, 0.00044507820762209113, 0.0006598721385446984, 0.00017797103949664515, 6.519241642361676e-05, 3.632489061220306e-06, 0.006269273558767685], [-0.00017794165859022075, -0.003332395596951601, -0.00016047739254522215, 2.7917197093497146e-05, 4.088513727624735e-06, 8.905752652547774e-05, -5.022439121718032e-06, -0.0006236995028722961, 0.0001470069291388092, 0.00023813725569535126, 6.519241642361676e-05, 2.652915568175667e-05, 9.189095128585273e-07, 0.0018781546518714073], [-1.9968643696636015e-05, -0.0002422494876433035, -1.8243216432992677e-05, 5.053777905556464e-06, 4.139383725338421e-06, 1.1288983445391028e-05, -2.2124901536140614e-06, -6.959474812202463e-05, 1.1728341224535408e-05, 1.3988110471317609e-05, 3.632489061220306e-06, 9.189095128585273e-07, 1.6440786455073326e-07, 0.00019109448435338539], [-0.029675739937999494, -0.4540986032861752, -0.019514105906304296, 0.000463989508637376, 0.0007573058460660214, 0.0035553761764159824, -0.001914423157822536, -0.09646401729664679, 0.018885106041748572, 0.024926470856964505, 0.006269273558767685, 0.0018781546518714073, 0.00019109448435338539, 0.3365558019934971]]}],                        {\"coloraxis\": {\"colorscale\": [[0.0, \"#0d0887\"], [0.1111111111111111, \"#46039f\"], [0.2222222222222222, \"#7201a8\"], [0.3333333333333333, \"#9c179e\"], [0.4444444444444444, \"#bd3786\"], [0.5555555555555556, \"#d8576b\"], [0.6666666666666666, \"#ed7953\"], [0.7777777777777778, \"#fb9f3a\"], [0.8888888888888888, \"#fdca26\"], [1.0, \"#f0f921\"]]}, \"margin\": {\"t\": 60}, \"template\": {\"data\": {\"bar\": [{\"error_x\": {\"color\": \"#2a3f5f\"}, \"error_y\": {\"color\": \"#2a3f5f\"}, \"marker\": {\"line\": {\"color\": \"#E5ECF6\", \"width\": 0.5}}, \"type\": \"bar\"}], \"barpolar\": [{\"marker\": {\"line\": {\"color\": \"#E5ECF6\", \"width\": 0.5}}, \"type\": \"barpolar\"}], \"carpet\": [{\"aaxis\": {\"endlinecolor\": \"#2a3f5f\", \"gridcolor\": \"white\", \"linecolor\": \"white\", \"minorgridcolor\": \"white\", \"startlinecolor\": \"#2a3f5f\"}, \"baxis\": {\"endlinecolor\": \"#2a3f5f\", \"gridcolor\": \"white\", \"linecolor\": \"white\", \"minorgridcolor\": \"white\", \"startlinecolor\": \"#2a3f5f\"}, \"type\": \"carpet\"}], \"choropleth\": [{\"colorbar\": {\"outlinewidth\": 0, \"ticks\": \"\"}, \"type\": \"choropleth\"}], \"contour\": [{\"colorbar\": {\"outlinewidth\": 0, \"ticks\": \"\"}, \"colorscale\": [[0.0, \"#0d0887\"], [0.1111111111111111, \"#46039f\"], [0.2222222222222222, \"#7201a8\"], [0.3333333333333333, \"#9c179e\"], [0.4444444444444444, \"#bd3786\"], [0.5555555555555556, \"#d8576b\"], [0.6666666666666666, \"#ed7953\"], [0.7777777777777778, \"#fb9f3a\"], [0.8888888888888888, \"#fdca26\"], [1.0, \"#f0f921\"]], \"type\": \"contour\"}], \"contourcarpet\": [{\"colorbar\": {\"outlinewidth\": 0, \"ticks\": \"\"}, \"type\": \"contourcarpet\"}], \"heatmap\": [{\"colorbar\": {\"outlinewidth\": 0, \"ticks\": \"\"}, \"colorscale\": [[0.0, \"#0d0887\"], [0.1111111111111111, \"#46039f\"], [0.2222222222222222, \"#7201a8\"], [0.3333333333333333, \"#9c179e\"], [0.4444444444444444, \"#bd3786\"], [0.5555555555555556, \"#d8576b\"], [0.6666666666666666, \"#ed7953\"], [0.7777777777777778, \"#fb9f3a\"], [0.8888888888888888, \"#fdca26\"], [1.0, \"#f0f921\"]], \"type\": \"heatmap\"}], \"heatmapgl\": [{\"colorbar\": {\"outlinewidth\": 0, \"ticks\": \"\"}, \"colorscale\": [[0.0, \"#0d0887\"], [0.1111111111111111, \"#46039f\"], [0.2222222222222222, \"#7201a8\"], [0.3333333333333333, \"#9c179e\"], [0.4444444444444444, \"#bd3786\"], [0.5555555555555556, \"#d8576b\"], [0.6666666666666666, \"#ed7953\"], [0.7777777777777778, \"#fb9f3a\"], [0.8888888888888888, \"#fdca26\"], [1.0, \"#f0f921\"]], \"type\": \"heatmapgl\"}], \"histogram\": [{\"marker\": {\"colorbar\": {\"outlinewidth\": 0, \"ticks\": \"\"}}, \"type\": \"histogram\"}], \"histogram2d\": [{\"colorbar\": {\"outlinewidth\": 0, \"ticks\": \"\"}, \"colorscale\": [[0.0, \"#0d0887\"], [0.1111111111111111, \"#46039f\"], [0.2222222222222222, \"#7201a8\"], [0.3333333333333333, \"#9c179e\"], [0.4444444444444444, \"#bd3786\"], [0.5555555555555556, \"#d8576b\"], [0.6666666666666666, \"#ed7953\"], [0.7777777777777778, \"#fb9f3a\"], [0.8888888888888888, \"#fdca26\"], [1.0, \"#f0f921\"]], \"type\": \"histogram2d\"}], \"histogram2dcontour\": [{\"colorbar\": {\"outlinewidth\": 0, \"ticks\": \"\"}, \"colorscale\": [[0.0, \"#0d0887\"], [0.1111111111111111, \"#46039f\"], [0.2222222222222222, \"#7201a8\"], [0.3333333333333333, \"#9c179e\"], [0.4444444444444444, \"#bd3786\"], [0.5555555555555556, \"#d8576b\"], [0.6666666666666666, \"#ed7953\"], [0.7777777777777778, \"#fb9f3a\"], [0.8888888888888888, \"#fdca26\"], [1.0, \"#f0f921\"]], \"type\": \"histogram2dcontour\"}], \"mesh3d\": [{\"colorbar\": {\"outlinewidth\": 0, \"ticks\": \"\"}, \"type\": \"mesh3d\"}], \"parcoords\": [{\"line\": {\"colorbar\": {\"outlinewidth\": 0, \"ticks\": \"\"}}, \"type\": \"parcoords\"}], \"pie\": [{\"automargin\": true, \"type\": \"pie\"}], \"scatter\": [{\"marker\": {\"colorbar\": {\"outlinewidth\": 0, \"ticks\": \"\"}}, \"type\": \"scatter\"}], \"scatter3d\": [{\"line\": {\"colorbar\": {\"outlinewidth\": 0, \"ticks\": \"\"}}, \"marker\": {\"colorbar\": {\"outlinewidth\": 0, \"ticks\": \"\"}}, \"type\": \"scatter3d\"}], \"scattercarpet\": [{\"marker\": {\"colorbar\": {\"outlinewidth\": 0, \"ticks\": \"\"}}, \"type\": \"scattercarpet\"}], \"scattergeo\": [{\"marker\": {\"colorbar\": {\"outlinewidth\": 0, \"ticks\": \"\"}}, \"type\": \"scattergeo\"}], \"scattergl\": [{\"marker\": {\"colorbar\": {\"outlinewidth\": 0, \"ticks\": \"\"}}, \"type\": \"scattergl\"}], \"scattermapbox\": [{\"marker\": {\"colorbar\": {\"outlinewidth\": 0, \"ticks\": \"\"}}, \"type\": \"scattermapbox\"}], \"scatterpolar\": [{\"marker\": {\"colorbar\": {\"outlinewidth\": 0, \"ticks\": \"\"}}, \"type\": \"scatterpolar\"}], \"scatterpolargl\": [{\"marker\": {\"colorbar\": {\"outlinewidth\": 0, \"ticks\": \"\"}}, \"type\": \"scatterpolargl\"}], \"scatterternary\": [{\"marker\": {\"colorbar\": {\"outlinewidth\": 0, \"ticks\": \"\"}}, \"type\": \"scatterternary\"}], \"surface\": [{\"colorbar\": {\"outlinewidth\": 0, \"ticks\": \"\"}, \"colorscale\": [[0.0, \"#0d0887\"], [0.1111111111111111, \"#46039f\"], [0.2222222222222222, \"#7201a8\"], [0.3333333333333333, \"#9c179e\"], [0.4444444444444444, \"#bd3786\"], [0.5555555555555556, \"#d8576b\"], [0.6666666666666666, \"#ed7953\"], [0.7777777777777778, \"#fb9f3a\"], [0.8888888888888888, \"#fdca26\"], [1.0, \"#f0f921\"]], \"type\": \"surface\"}], \"table\": [{\"cells\": {\"fill\": {\"color\": \"#EBF0F8\"}, \"line\": {\"color\": \"white\"}}, \"header\": {\"fill\": {\"color\": \"#C8D4E3\"}, \"line\": {\"color\": \"white\"}}, \"type\": \"table\"}]}, \"layout\": {\"annotationdefaults\": {\"arrowcolor\": \"#2a3f5f\", \"arrowhead\": 0, \"arrowwidth\": 1}, \"autotypenumbers\": \"strict\", \"coloraxis\": {\"colorbar\": {\"outlinewidth\": 0, \"ticks\": \"\"}}, \"colorscale\": {\"diverging\": [[0, \"#8e0152\"], [0.1, \"#c51b7d\"], [0.2, \"#de77ae\"], [0.3, \"#f1b6da\"], [0.4, \"#fde0ef\"], [0.5, \"#f7f7f7\"], [0.6, \"#e6f5d0\"], [0.7, \"#b8e186\"], [0.8, \"#7fbc41\"], [0.9, \"#4d9221\"], [1, \"#276419\"]], \"sequential\": [[0.0, \"#0d0887\"], [0.1111111111111111, \"#46039f\"], [0.2222222222222222, \"#7201a8\"], [0.3333333333333333, \"#9c179e\"], [0.4444444444444444, \"#bd3786\"], [0.5555555555555556, \"#d8576b\"], [0.6666666666666666, \"#ed7953\"], [0.7777777777777778, \"#fb9f3a\"], [0.8888888888888888, \"#fdca26\"], [1.0, \"#f0f921\"]], \"sequentialminus\": [[0.0, \"#0d0887\"], [0.1111111111111111, \"#46039f\"], [0.2222222222222222, \"#7201a8\"], [0.3333333333333333, \"#9c179e\"], [0.4444444444444444, \"#bd3786\"], [0.5555555555555556, \"#d8576b\"], [0.6666666666666666, \"#ed7953\"], [0.7777777777777778, \"#fb9f3a\"], [0.8888888888888888, \"#fdca26\"], [1.0, \"#f0f921\"]]}, \"colorway\": [\"#636efa\", \"#EF553B\", \"#00cc96\", \"#ab63fa\", \"#FFA15A\", \"#19d3f3\", \"#FF6692\", \"#B6E880\", \"#FF97FF\", \"#FECB52\"], \"font\": {\"color\": \"#2a3f5f\"}, \"geo\": {\"bgcolor\": \"white\", \"lakecolor\": \"white\", \"landcolor\": \"#E5ECF6\", \"showlakes\": true, \"showland\": true, \"subunitcolor\": \"white\"}, \"hoverlabel\": {\"align\": \"left\"}, \"hovermode\": \"closest\", \"mapbox\": {\"style\": \"light\"}, \"paper_bgcolor\": \"white\", \"plot_bgcolor\": \"#E5ECF6\", \"polar\": {\"angularaxis\": {\"gridcolor\": \"white\", \"linecolor\": \"white\", \"ticks\": \"\"}, \"bgcolor\": \"#E5ECF6\", \"radialaxis\": {\"gridcolor\": \"white\", \"linecolor\": \"white\", \"ticks\": \"\"}}, \"scene\": {\"xaxis\": {\"backgroundcolor\": \"#E5ECF6\", \"gridcolor\": \"white\", \"gridwidth\": 2, \"linecolor\": \"white\", \"showbackground\": true, \"ticks\": \"\", \"zerolinecolor\": \"white\"}, \"yaxis\": {\"backgroundcolor\": \"#E5ECF6\", \"gridcolor\": \"white\", \"gridwidth\": 2, \"linecolor\": \"white\", \"showbackground\": true, \"ticks\": \"\", \"zerolinecolor\": \"white\"}, \"zaxis\": {\"backgroundcolor\": \"#E5ECF6\", \"gridcolor\": \"white\", \"gridwidth\": 2, \"linecolor\": \"white\", \"showbackground\": true, \"ticks\": \"\", \"zerolinecolor\": \"white\"}}, \"shapedefaults\": {\"line\": {\"color\": \"#2a3f5f\"}}, \"ternary\": {\"aaxis\": {\"gridcolor\": \"white\", \"linecolor\": \"white\", \"ticks\": \"\"}, \"baxis\": {\"gridcolor\": \"white\", \"linecolor\": \"white\", \"ticks\": \"\"}, \"bgcolor\": \"#E5ECF6\", \"caxis\": {\"gridcolor\": \"white\", \"linecolor\": \"white\", \"ticks\": \"\"}}, \"title\": {\"x\": 0.05}, \"xaxis\": {\"automargin\": true, \"gridcolor\": \"white\", \"linecolor\": \"white\", \"ticks\": \"\", \"title\": {\"standoff\": 15}, \"zerolinecolor\": \"white\", \"zerolinewidth\": 2}, \"yaxis\": {\"automargin\": true, \"gridcolor\": \"white\", \"linecolor\": \"white\", \"ticks\": \"\", \"title\": {\"standoff\": 15}, \"zerolinecolor\": \"white\", \"zerolinewidth\": 2}}}, \"xaxis\": {\"anchor\": \"y\", \"constrain\": \"domain\", \"domain\": [0.0, 1.0], \"scaleanchor\": \"y\"}, \"yaxis\": {\"anchor\": \"x\", \"autorange\": \"reversed\", \"constrain\": \"domain\", \"domain\": [0.0, 1.0]}},                        {\"responsive\": true}                    ).then(function(){\n",
       "                            \n",
       "var gd = document.getElementById('ce7e93ce-8ffb-495c-990c-d46cf698f04b');\n",
       "var x = new MutationObserver(function (mutations, observer) {{\n",
       "        var display = window.getComputedStyle(gd).display;\n",
       "        if (!display || display === 'none') {{\n",
       "            console.log([gd, 'removed!']);\n",
       "            Plotly.purge(gd);\n",
       "            observer.disconnect();\n",
       "        }}\n",
       "}});\n",
       "\n",
       "// Listen for the removal of the full notebook cells\n",
       "var notebookContainer = gd.closest('#notebook-container');\n",
       "if (notebookContainer) {{\n",
       "    x.observe(notebookContainer, {childList: true});\n",
       "}}\n",
       "\n",
       "// Listen for the clearing of the current output cell\n",
       "var outputEl = gd.closest('.output');\n",
       "if (outputEl) {{\n",
       "    x.observe(outputEl, {childList: true});\n",
       "}}\n",
       "\n",
       "                        })                };                });            </script>        </div>"
      ]
     },
     "metadata": {},
     "output_type": "display_data"
    }
   ],
   "source": [
    "fig = px.imshow(cov_matrix_1)\n",
    "fig.show()"
   ]
  },
  {
   "cell_type": "code",
   "execution_count": 53,
   "id": "773009be-f585-4dc4-a055-0c5731240032",
   "metadata": {},
   "outputs": [
    {
     "data": {
      "application/vnd.plotly.v1+json": {
       "config": {
        "plotlyServerURL": "https://plot.ly"
       },
       "data": [
        {
         "coloraxis": "coloraxis",
         "hovertemplate": "x: %{x}<br>y: %{y}<br>color: %{z}<extra></extra>",
         "name": "0",
         "type": "heatmap",
         "x": [
          "Eccentricity",
          "Aspect Ratio",
          "Elongation",
          "Solidity",
          "Stochastic Convexity",
          "Isoperimetric Factor",
          "Maximal Indentation Depth",
          "Lobedness",
          "Average Intensity",
          "Average Contrast",
          "Smoothness",
          "Third moment",
          "Uniformity",
          "Entropy"
         ],
         "xaxis": "x",
         "y": [
          "Eccentricity",
          "Aspect Ratio",
          "Elongation",
          "Solidity",
          "Stochastic Convexity",
          "Isoperimetric Factor",
          "Maximal Indentation Depth",
          "Lobedness",
          "Average Intensity",
          "Average Contrast",
          "Smoothness",
          "Third moment",
          "Uniformity",
          "Entropy"
         ],
         "yaxis": "y",
         "z": [
          [
           1,
           0.5698139577059886,
           0.6081474483461611,
           0.32795575235768615,
           0.35682354003624434,
           -0.09086490198518796,
           -0.20959919315339426,
           -0.14007541577871324,
           -0.24004650351765275,
           -0.21121930474360653,
           -0.20848827834748154,
           -0.16663558812058982,
           -0.23754129081688596,
           -0.2467316448713342
          ],
          [
           0.5698139577059886,
           1,
           0.6991665819623785,
           -0.0013125299765924096,
           0.12704624984709836,
           -0.4851588154523064,
           0.10733237885460362,
           0.16205393815583702,
           -0.29281860273578697,
           -0.3169571643033877,
           -0.2807527757779802,
           -0.2547721384374952,
           -0.2352657285241984,
           -0.308232706492789
          ],
          [
           0.6081474483461611,
           0.6991665819623785,
           1,
           -0.3899776447027885,
           -0.3409628146414958,
           -0.7925122888892474,
           0.4222053495752449,
           0.40083946593898456,
           -0.18713398733450312,
           -0.18434502097937505,
           -0.17507664094424452,
           -0.15873468775029081,
           -0.22922385561287342,
           -0.17137197964284814
          ],
          [
           0.32795575235768615,
           -0.0013125299765924096,
           -0.3899776447027885,
           1,
           0.8499972992871601,
           0.7444686121463352,
           -0.8670869651150716,
           -0.7968928942437951,
           0.05327578711711762,
           0.06365893559387076,
           0.05736956156653165,
           0.04931328755639659,
           0.11339886719690556,
           0.0072766833681899455
          ],
          [
           0.35682354003624434,
           0.12704624984709836,
           -0.3409628146414958,
           0.8499972992871601,
           1,
           0.631149865609021,
           -0.7373857892914036,
           -0.6582306875162993,
           0.024412823450955048,
           0.021040620646508863,
           0.014937649048520308,
           0.007152752023326225,
           0.09199067728296423,
           0.011762840040322464
          ],
          [
           -0.09086490198518796,
           -0.4851588154523064,
           -0.7925122888892474,
           0.7444686121463352,
           0.631149865609021,
           1,
           -0.7167859475425908,
           -0.6064058594282905,
           0.06576151018869891,
           0.07659742023509893,
           0.07534682994188789,
           0.0802820494101902,
           0.12927158617180973,
           0.02845552172952687
          ],
          [
           -0.20959919315339426,
           0.10733237885460362,
           0.4222053495752449,
           -0.8670869651150716,
           -0.7373857892914036,
           -0.7167859475425908,
           1,
           0.943174898980408,
           -0.08080253682536684,
           -0.08411973954151371,
           -0.056122662869575075,
           -0.02598319935140387,
           -0.14539842785580867,
           -0.08793242623938478
          ],
          [
           -0.14007541577871324,
           0.16205393815583702,
           0.40083946593898456,
           -0.7968928942437951,
           -0.6582306875162993,
           -0.6064058594282905,
           0.943174898980408,
           1,
           -0.16196172178475313,
           -0.17805021688224082,
           -0.14677827688360723,
           -0.12064477146834335,
           -0.17100546685183485,
           -0.1656653280456479
          ],
          [
           -0.24004650351765275,
           -0.29281860273578697,
           -0.18713398733450312,
           0.05327578711711762,
           0.024412823450955048,
           0.06576151018869891,
           -0.08080253682536684,
           -0.16196172178475313,
           1,
           0.9539441285125139,
           0.9546344879600702,
           0.816679303211719,
           0.8276576941899257,
           0.9314645798956914
          ],
          [
           -0.21121930474360653,
           -0.3169571643033877,
           -0.18434502097937505,
           0.06365893559387076,
           0.021040620646508863,
           0.07659742023509893,
           -0.08411973954151371,
           -0.17805021688224082,
           0.9539441285125139,
           1,
           0.979131943011576,
           0.9152120430483863,
           0.6828948777955192,
           0.8505274791079187
          ],
          [
           -0.20848827834748154,
           -0.2807527757779802,
           -0.17507664094424452,
           0.05736956156653165,
           0.014937649048520308,
           0.07534682994188789,
           -0.056122662869575075,
           -0.14677827688360723,
           0.9546344879600702,
           0.979131943011576,
           1,
           0.9487694588883818,
           0.6715345355393235,
           0.8100540750813991
          ],
          [
           -0.16663558812058982,
           -0.2547721384374952,
           -0.15873468775029081,
           0.04931328755639659,
           0.007152752023326225,
           0.0802820494101902,
           -0.02598319935140387,
           -0.12064477146834335,
           0.816679303211719,
           0.9152120430483863,
           0.9487694588883818,
           1,
           0.4399970240620561,
           0.6285518300141641
          ],
          [
           -0.23754129081688596,
           -0.2352657285241984,
           -0.22922385561287342,
           0.11339886719690556,
           0.09199067728296423,
           0.12927158617180973,
           -0.14539842785580867,
           -0.17100546685183485,
           0.8276576941899257,
           0.6828948777955192,
           0.6715345355393235,
           0.4399970240620561,
           1,
           0.8123783050127815
          ],
          [
           -0.2467316448713342,
           -0.308232706492789,
           -0.17137197964284814,
           0.0072766833681899455,
           0.011762840040322464,
           0.02845552172952687,
           -0.08793242623938478,
           -0.1656653280456479,
           0.9314645798956914,
           0.8505274791079187,
           0.8100540750813991,
           0.6285518300141641,
           0.8123783050127815,
           1
          ]
         ]
        }
       ],
       "layout": {
        "autosize": true,
        "coloraxis": {
         "colorscale": [
          [
           0,
           "#0d0887"
          ],
          [
           0.1111111111111111,
           "#46039f"
          ],
          [
           0.2222222222222222,
           "#7201a8"
          ],
          [
           0.3333333333333333,
           "#9c179e"
          ],
          [
           0.4444444444444444,
           "#bd3786"
          ],
          [
           0.5555555555555556,
           "#d8576b"
          ],
          [
           0.6666666666666666,
           "#ed7953"
          ],
          [
           0.7777777777777778,
           "#fb9f3a"
          ],
          [
           0.8888888888888888,
           "#fdca26"
          ],
          [
           1,
           "#f0f921"
          ]
         ]
        },
        "margin": {
         "t": 60
        },
        "template": {
         "data": {
          "bar": [
           {
            "error_x": {
             "color": "#2a3f5f"
            },
            "error_y": {
             "color": "#2a3f5f"
            },
            "marker": {
             "line": {
              "color": "#E5ECF6",
              "width": 0.5
             }
            },
            "type": "bar"
           }
          ],
          "barpolar": [
           {
            "marker": {
             "line": {
              "color": "#E5ECF6",
              "width": 0.5
             }
            },
            "type": "barpolar"
           }
          ],
          "carpet": [
           {
            "aaxis": {
             "endlinecolor": "#2a3f5f",
             "gridcolor": "white",
             "linecolor": "white",
             "minorgridcolor": "white",
             "startlinecolor": "#2a3f5f"
            },
            "baxis": {
             "endlinecolor": "#2a3f5f",
             "gridcolor": "white",
             "linecolor": "white",
             "minorgridcolor": "white",
             "startlinecolor": "#2a3f5f"
            },
            "type": "carpet"
           }
          ],
          "choropleth": [
           {
            "colorbar": {
             "outlinewidth": 0,
             "ticks": ""
            },
            "type": "choropleth"
           }
          ],
          "contour": [
           {
            "colorbar": {
             "outlinewidth": 0,
             "ticks": ""
            },
            "colorscale": [
             [
              0,
              "#0d0887"
             ],
             [
              0.1111111111111111,
              "#46039f"
             ],
             [
              0.2222222222222222,
              "#7201a8"
             ],
             [
              0.3333333333333333,
              "#9c179e"
             ],
             [
              0.4444444444444444,
              "#bd3786"
             ],
             [
              0.5555555555555556,
              "#d8576b"
             ],
             [
              0.6666666666666666,
              "#ed7953"
             ],
             [
              0.7777777777777778,
              "#fb9f3a"
             ],
             [
              0.8888888888888888,
              "#fdca26"
             ],
             [
              1,
              "#f0f921"
             ]
            ],
            "type": "contour"
           }
          ],
          "contourcarpet": [
           {
            "colorbar": {
             "outlinewidth": 0,
             "ticks": ""
            },
            "type": "contourcarpet"
           }
          ],
          "heatmap": [
           {
            "colorbar": {
             "outlinewidth": 0,
             "ticks": ""
            },
            "colorscale": [
             [
              0,
              "#0d0887"
             ],
             [
              0.1111111111111111,
              "#46039f"
             ],
             [
              0.2222222222222222,
              "#7201a8"
             ],
             [
              0.3333333333333333,
              "#9c179e"
             ],
             [
              0.4444444444444444,
              "#bd3786"
             ],
             [
              0.5555555555555556,
              "#d8576b"
             ],
             [
              0.6666666666666666,
              "#ed7953"
             ],
             [
              0.7777777777777778,
              "#fb9f3a"
             ],
             [
              0.8888888888888888,
              "#fdca26"
             ],
             [
              1,
              "#f0f921"
             ]
            ],
            "type": "heatmap"
           }
          ],
          "heatmapgl": [
           {
            "colorbar": {
             "outlinewidth": 0,
             "ticks": ""
            },
            "colorscale": [
             [
              0,
              "#0d0887"
             ],
             [
              0.1111111111111111,
              "#46039f"
             ],
             [
              0.2222222222222222,
              "#7201a8"
             ],
             [
              0.3333333333333333,
              "#9c179e"
             ],
             [
              0.4444444444444444,
              "#bd3786"
             ],
             [
              0.5555555555555556,
              "#d8576b"
             ],
             [
              0.6666666666666666,
              "#ed7953"
             ],
             [
              0.7777777777777778,
              "#fb9f3a"
             ],
             [
              0.8888888888888888,
              "#fdca26"
             ],
             [
              1,
              "#f0f921"
             ]
            ],
            "type": "heatmapgl"
           }
          ],
          "histogram": [
           {
            "marker": {
             "colorbar": {
              "outlinewidth": 0,
              "ticks": ""
             }
            },
            "type": "histogram"
           }
          ],
          "histogram2d": [
           {
            "colorbar": {
             "outlinewidth": 0,
             "ticks": ""
            },
            "colorscale": [
             [
              0,
              "#0d0887"
             ],
             [
              0.1111111111111111,
              "#46039f"
             ],
             [
              0.2222222222222222,
              "#7201a8"
             ],
             [
              0.3333333333333333,
              "#9c179e"
             ],
             [
              0.4444444444444444,
              "#bd3786"
             ],
             [
              0.5555555555555556,
              "#d8576b"
             ],
             [
              0.6666666666666666,
              "#ed7953"
             ],
             [
              0.7777777777777778,
              "#fb9f3a"
             ],
             [
              0.8888888888888888,
              "#fdca26"
             ],
             [
              1,
              "#f0f921"
             ]
            ],
            "type": "histogram2d"
           }
          ],
          "histogram2dcontour": [
           {
            "colorbar": {
             "outlinewidth": 0,
             "ticks": ""
            },
            "colorscale": [
             [
              0,
              "#0d0887"
             ],
             [
              0.1111111111111111,
              "#46039f"
             ],
             [
              0.2222222222222222,
              "#7201a8"
             ],
             [
              0.3333333333333333,
              "#9c179e"
             ],
             [
              0.4444444444444444,
              "#bd3786"
             ],
             [
              0.5555555555555556,
              "#d8576b"
             ],
             [
              0.6666666666666666,
              "#ed7953"
             ],
             [
              0.7777777777777778,
              "#fb9f3a"
             ],
             [
              0.8888888888888888,
              "#fdca26"
             ],
             [
              1,
              "#f0f921"
             ]
            ],
            "type": "histogram2dcontour"
           }
          ],
          "mesh3d": [
           {
            "colorbar": {
             "outlinewidth": 0,
             "ticks": ""
            },
            "type": "mesh3d"
           }
          ],
          "parcoords": [
           {
            "line": {
             "colorbar": {
              "outlinewidth": 0,
              "ticks": ""
             }
            },
            "type": "parcoords"
           }
          ],
          "pie": [
           {
            "automargin": true,
            "type": "pie"
           }
          ],
          "scatter": [
           {
            "marker": {
             "colorbar": {
              "outlinewidth": 0,
              "ticks": ""
             }
            },
            "type": "scatter"
           }
          ],
          "scatter3d": [
           {
            "line": {
             "colorbar": {
              "outlinewidth": 0,
              "ticks": ""
             }
            },
            "marker": {
             "colorbar": {
              "outlinewidth": 0,
              "ticks": ""
             }
            },
            "type": "scatter3d"
           }
          ],
          "scattercarpet": [
           {
            "marker": {
             "colorbar": {
              "outlinewidth": 0,
              "ticks": ""
             }
            },
            "type": "scattercarpet"
           }
          ],
          "scattergeo": [
           {
            "marker": {
             "colorbar": {
              "outlinewidth": 0,
              "ticks": ""
             }
            },
            "type": "scattergeo"
           }
          ],
          "scattergl": [
           {
            "marker": {
             "colorbar": {
              "outlinewidth": 0,
              "ticks": ""
             }
            },
            "type": "scattergl"
           }
          ],
          "scattermapbox": [
           {
            "marker": {
             "colorbar": {
              "outlinewidth": 0,
              "ticks": ""
             }
            },
            "type": "scattermapbox"
           }
          ],
          "scatterpolar": [
           {
            "marker": {
             "colorbar": {
              "outlinewidth": 0,
              "ticks": ""
             }
            },
            "type": "scatterpolar"
           }
          ],
          "scatterpolargl": [
           {
            "marker": {
             "colorbar": {
              "outlinewidth": 0,
              "ticks": ""
             }
            },
            "type": "scatterpolargl"
           }
          ],
          "scatterternary": [
           {
            "marker": {
             "colorbar": {
              "outlinewidth": 0,
              "ticks": ""
             }
            },
            "type": "scatterternary"
           }
          ],
          "surface": [
           {
            "colorbar": {
             "outlinewidth": 0,
             "ticks": ""
            },
            "colorscale": [
             [
              0,
              "#0d0887"
             ],
             [
              0.1111111111111111,
              "#46039f"
             ],
             [
              0.2222222222222222,
              "#7201a8"
             ],
             [
              0.3333333333333333,
              "#9c179e"
             ],
             [
              0.4444444444444444,
              "#bd3786"
             ],
             [
              0.5555555555555556,
              "#d8576b"
             ],
             [
              0.6666666666666666,
              "#ed7953"
             ],
             [
              0.7777777777777778,
              "#fb9f3a"
             ],
             [
              0.8888888888888888,
              "#fdca26"
             ],
             [
              1,
              "#f0f921"
             ]
            ],
            "type": "surface"
           }
          ],
          "table": [
           {
            "cells": {
             "fill": {
              "color": "#EBF0F8"
             },
             "line": {
              "color": "white"
             }
            },
            "header": {
             "fill": {
              "color": "#C8D4E3"
             },
             "line": {
              "color": "white"
             }
            },
            "type": "table"
           }
          ]
         },
         "layout": {
          "annotationdefaults": {
           "arrowcolor": "#2a3f5f",
           "arrowhead": 0,
           "arrowwidth": 1
          },
          "autotypenumbers": "strict",
          "coloraxis": {
           "colorbar": {
            "outlinewidth": 0,
            "ticks": ""
           }
          },
          "colorscale": {
           "diverging": [
            [
             0,
             "#8e0152"
            ],
            [
             0.1,
             "#c51b7d"
            ],
            [
             0.2,
             "#de77ae"
            ],
            [
             0.3,
             "#f1b6da"
            ],
            [
             0.4,
             "#fde0ef"
            ],
            [
             0.5,
             "#f7f7f7"
            ],
            [
             0.6,
             "#e6f5d0"
            ],
            [
             0.7,
             "#b8e186"
            ],
            [
             0.8,
             "#7fbc41"
            ],
            [
             0.9,
             "#4d9221"
            ],
            [
             1,
             "#276419"
            ]
           ],
           "sequential": [
            [
             0,
             "#0d0887"
            ],
            [
             0.1111111111111111,
             "#46039f"
            ],
            [
             0.2222222222222222,
             "#7201a8"
            ],
            [
             0.3333333333333333,
             "#9c179e"
            ],
            [
             0.4444444444444444,
             "#bd3786"
            ],
            [
             0.5555555555555556,
             "#d8576b"
            ],
            [
             0.6666666666666666,
             "#ed7953"
            ],
            [
             0.7777777777777778,
             "#fb9f3a"
            ],
            [
             0.8888888888888888,
             "#fdca26"
            ],
            [
             1,
             "#f0f921"
            ]
           ],
           "sequentialminus": [
            [
             0,
             "#0d0887"
            ],
            [
             0.1111111111111111,
             "#46039f"
            ],
            [
             0.2222222222222222,
             "#7201a8"
            ],
            [
             0.3333333333333333,
             "#9c179e"
            ],
            [
             0.4444444444444444,
             "#bd3786"
            ],
            [
             0.5555555555555556,
             "#d8576b"
            ],
            [
             0.6666666666666666,
             "#ed7953"
            ],
            [
             0.7777777777777778,
             "#fb9f3a"
            ],
            [
             0.8888888888888888,
             "#fdca26"
            ],
            [
             1,
             "#f0f921"
            ]
           ]
          },
          "colorway": [
           "#636efa",
           "#EF553B",
           "#00cc96",
           "#ab63fa",
           "#FFA15A",
           "#19d3f3",
           "#FF6692",
           "#B6E880",
           "#FF97FF",
           "#FECB52"
          ],
          "font": {
           "color": "#2a3f5f"
          },
          "geo": {
           "bgcolor": "white",
           "lakecolor": "white",
           "landcolor": "#E5ECF6",
           "showlakes": true,
           "showland": true,
           "subunitcolor": "white"
          },
          "hoverlabel": {
           "align": "left"
          },
          "hovermode": "closest",
          "mapbox": {
           "style": "light"
          },
          "paper_bgcolor": "white",
          "plot_bgcolor": "#E5ECF6",
          "polar": {
           "angularaxis": {
            "gridcolor": "white",
            "linecolor": "white",
            "ticks": ""
           },
           "bgcolor": "#E5ECF6",
           "radialaxis": {
            "gridcolor": "white",
            "linecolor": "white",
            "ticks": ""
           }
          },
          "scene": {
           "xaxis": {
            "backgroundcolor": "#E5ECF6",
            "gridcolor": "white",
            "gridwidth": 2,
            "linecolor": "white",
            "showbackground": true,
            "ticks": "",
            "zerolinecolor": "white"
           },
           "yaxis": {
            "backgroundcolor": "#E5ECF6",
            "gridcolor": "white",
            "gridwidth": 2,
            "linecolor": "white",
            "showbackground": true,
            "ticks": "",
            "zerolinecolor": "white"
           },
           "zaxis": {
            "backgroundcolor": "#E5ECF6",
            "gridcolor": "white",
            "gridwidth": 2,
            "linecolor": "white",
            "showbackground": true,
            "ticks": "",
            "zerolinecolor": "white"
           }
          },
          "shapedefaults": {
           "line": {
            "color": "#2a3f5f"
           }
          },
          "ternary": {
           "aaxis": {
            "gridcolor": "white",
            "linecolor": "white",
            "ticks": ""
           },
           "baxis": {
            "gridcolor": "white",
            "linecolor": "white",
            "ticks": ""
           },
           "bgcolor": "#E5ECF6",
           "caxis": {
            "gridcolor": "white",
            "linecolor": "white",
            "ticks": ""
           }
          },
          "title": {
           "x": 0.05
          },
          "xaxis": {
           "automargin": true,
           "gridcolor": "white",
           "linecolor": "white",
           "ticks": "",
           "title": {
            "standoff": 15
           },
           "zerolinecolor": "white",
           "zerolinewidth": 2
          },
          "yaxis": {
           "automargin": true,
           "gridcolor": "white",
           "linecolor": "white",
           "ticks": "",
           "title": {
            "standoff": 15
           },
           "zerolinecolor": "white",
           "zerolinewidth": 2
          }
         }
        },
        "xaxis": {
         "anchor": "y",
         "autorange": true,
         "constrain": "domain",
         "domain": [
          0.445554971067859,
          0.554445028932141
         ],
         "range": [
          -0.5,
          13.5
         ],
         "scaleanchor": "y",
         "type": "category"
        },
        "yaxis": {
         "anchor": "x",
         "autorange": true,
         "constrain": "domain",
         "domain": [
          0,
          1
         ],
         "range": [
          13.5,
          -0.5
         ],
         "type": "category"
        }
       }
      },
      "image/png": "[encoded data removed]",
      "text/html": [
       "<div>                            <div id=\"3ccbad92-02fa-4628-b383-bb002262c9a7\" class=\"plotly-graph-div\" style=\"height:525px; width:100%;\"></div>            <script type=\"text/javascript\">                require([\"plotly\"], function(Plotly) {                    window.PLOTLYENV=window.PLOTLYENV || {};                                    if (document.getElementById(\"3ccbad92-02fa-4628-b383-bb002262c9a7\")) {                    Plotly.newPlot(                        \"3ccbad92-02fa-4628-b383-bb002262c9a7\",                        [{\"coloraxis\": \"coloraxis\", \"hovertemplate\": \"x: %{x}<br>y: %{y}<br>color: %{z}<extra></extra>\", \"name\": \"0\", \"type\": \"heatmap\", \"x\": [\"Eccentricity\", \"Aspect Ratio\", \"Elongation\", \"Solidity\", \"Stochastic Convexity\", \"Isoperimetric Factor\", \"Maximal Indentation Depth\", \"Lobedness\", \"Average Intensity\", \"Average Contrast\", \"Smoothness\", \"Third moment\", \"Uniformity\", \"Entropy\"], \"xaxis\": \"x\", \"y\": [\"Eccentricity\", \"Aspect Ratio\", \"Elongation\", \"Solidity\", \"Stochastic Convexity\", \"Isoperimetric Factor\", \"Maximal Indentation Depth\", \"Lobedness\", \"Average Intensity\", \"Average Contrast\", \"Smoothness\", \"Third moment\", \"Uniformity\", \"Entropy\"], \"yaxis\": \"y\", \"z\": [[1.0, 0.5698139577059886, 0.6081474483461611, 0.32795575235768615, 0.35682354003624434, -0.09086490198518796, -0.20959919315339426, -0.14007541577871324, -0.24004650351765275, -0.21121930474360653, -0.20848827834748154, -0.16663558812058982, -0.23754129081688596, -0.2467316448713342], [0.5698139577059886, 1.0, 0.6991665819623785, -0.0013125299765924096, 0.12704624984709836, -0.4851588154523064, 0.10733237885460362, 0.16205393815583702, -0.29281860273578697, -0.3169571643033877, -0.2807527757779802, -0.2547721384374952, -0.2352657285241984, -0.308232706492789], [0.6081474483461611, 0.6991665819623785, 1.0, -0.3899776447027885, -0.3409628146414958, -0.7925122888892474, 0.4222053495752449, 0.40083946593898456, -0.18713398733450312, -0.18434502097937505, -0.17507664094424452, -0.15873468775029081, -0.22922385561287342, -0.17137197964284814], [0.32795575235768615, -0.0013125299765924096, -0.3899776447027885, 1.0, 0.8499972992871601, 0.7444686121463352, -0.8670869651150716, -0.7968928942437951, 0.05327578711711762, 0.06365893559387076, 0.05736956156653165, 0.04931328755639659, 0.11339886719690556, 0.0072766833681899455], [0.35682354003624434, 0.12704624984709836, -0.3409628146414958, 0.8499972992871601, 1.0, 0.631149865609021, -0.7373857892914036, -0.6582306875162993, 0.024412823450955048, 0.021040620646508863, 0.014937649048520308, 0.007152752023326225, 0.09199067728296423, 0.011762840040322464], [-0.09086490198518796, -0.4851588154523064, -0.7925122888892474, 0.7444686121463352, 0.631149865609021, 1.0, -0.7167859475425908, -0.6064058594282905, 0.06576151018869891, 0.07659742023509893, 0.07534682994188789, 0.0802820494101902, 0.12927158617180973, 0.02845552172952687], [-0.20959919315339426, 0.10733237885460362, 0.4222053495752449, -0.8670869651150716, -0.7373857892914036, -0.7167859475425908, 1.0, 0.943174898980408, -0.08080253682536684, -0.08411973954151371, -0.056122662869575075, -0.02598319935140387, -0.14539842785580867, -0.08793242623938478], [-0.14007541577871324, 0.16205393815583702, 0.40083946593898456, -0.7968928942437951, -0.6582306875162993, -0.6064058594282905, 0.943174898980408, 1.0, -0.16196172178475313, -0.17805021688224082, -0.14677827688360723, -0.12064477146834335, -0.17100546685183485, -0.1656653280456479], [-0.24004650351765275, -0.29281860273578697, -0.18713398733450312, 0.05327578711711762, 0.024412823450955048, 0.06576151018869891, -0.08080253682536684, -0.16196172178475313, 1.0, 0.9539441285125139, 0.9546344879600702, 0.816679303211719, 0.8276576941899257, 0.9314645798956914], [-0.21121930474360653, -0.3169571643033877, -0.18434502097937505, 0.06365893559387076, 0.021040620646508863, 0.07659742023509893, -0.08411973954151371, -0.17805021688224082, 0.9539441285125139, 1.0, 0.979131943011576, 0.9152120430483863, 0.6828948777955192, 0.8505274791079187], [-0.20848827834748154, -0.2807527757779802, -0.17507664094424452, 0.05736956156653165, 0.014937649048520308, 0.07534682994188789, -0.056122662869575075, -0.14677827688360723, 0.9546344879600702, 0.979131943011576, 1.0, 0.9487694588883818, 0.6715345355393235, 0.8100540750813991], [-0.16663558812058982, -0.2547721384374952, -0.15873468775029081, 0.04931328755639659, 0.007152752023326225, 0.0802820494101902, -0.02598319935140387, -0.12064477146834335, 0.816679303211719, 0.9152120430483863, 0.9487694588883818, 1.0, 0.4399970240620561, 0.6285518300141641], [-0.23754129081688596, -0.2352657285241984, -0.22922385561287342, 0.11339886719690556, 0.09199067728296423, 0.12927158617180973, -0.14539842785580867, -0.17100546685183485, 0.8276576941899257, 0.6828948777955192, 0.6715345355393235, 0.4399970240620561, 1.0, 0.8123783050127815], [-0.2467316448713342, -0.308232706492789, -0.17137197964284814, 0.0072766833681899455, 0.011762840040322464, 0.02845552172952687, -0.08793242623938478, -0.1656653280456479, 0.9314645798956914, 0.8505274791079187, 0.8100540750813991, 0.6285518300141641, 0.8123783050127815, 1.0]]}],                        {\"coloraxis\": {\"colorscale\": [[0.0, \"#0d0887\"], [0.1111111111111111, \"#46039f\"], [0.2222222222222222, \"#7201a8\"], [0.3333333333333333, \"#9c179e\"], [0.4444444444444444, \"#bd3786\"], [0.5555555555555556, \"#d8576b\"], [0.6666666666666666, \"#ed7953\"], [0.7777777777777778, \"#fb9f3a\"], [0.8888888888888888, \"#fdca26\"], [1.0, \"#f0f921\"]]}, \"margin\": {\"t\": 60}, \"template\": {\"data\": {\"bar\": [{\"error_x\": {\"color\": \"#2a3f5f\"}, \"error_y\": {\"color\": \"#2a3f5f\"}, \"marker\": {\"line\": {\"color\": \"#E5ECF6\", \"width\": 0.5}}, \"type\": \"bar\"}], \"barpolar\": [{\"marker\": {\"line\": {\"color\": \"#E5ECF6\", \"width\": 0.5}}, \"type\": \"barpolar\"}], \"carpet\": [{\"aaxis\": {\"endlinecolor\": \"#2a3f5f\", \"gridcolor\": \"white\", \"linecolor\": \"white\", \"minorgridcolor\": \"white\", \"startlinecolor\": \"#2a3f5f\"}, \"baxis\": {\"endlinecolor\": \"#2a3f5f\", \"gridcolor\": \"white\", \"linecolor\": \"white\", \"minorgridcolor\": \"white\", \"startlinecolor\": \"#2a3f5f\"}, \"type\": \"carpet\"}], \"choropleth\": [{\"colorbar\": {\"outlinewidth\": 0, \"ticks\": \"\"}, \"type\": \"choropleth\"}], \"contour\": [{\"colorbar\": {\"outlinewidth\": 0, \"ticks\": \"\"}, \"colorscale\": [[0.0, \"#0d0887\"], [0.1111111111111111, \"#46039f\"], [0.2222222222222222, \"#7201a8\"], [0.3333333333333333, \"#9c179e\"], [0.4444444444444444, \"#bd3786\"], [0.5555555555555556, \"#d8576b\"], [0.6666666666666666, \"#ed7953\"], [0.7777777777777778, \"#fb9f3a\"], [0.8888888888888888, \"#fdca26\"], [1.0, \"#f0f921\"]], \"type\": \"contour\"}], \"contourcarpet\": [{\"colorbar\": {\"outlinewidth\": 0, \"ticks\": \"\"}, \"type\": \"contourcarpet\"}], \"heatmap\": [{\"colorbar\": {\"outlinewidth\": 0, \"ticks\": \"\"}, \"colorscale\": [[0.0, \"#0d0887\"], [0.1111111111111111, \"#46039f\"], [0.2222222222222222, \"#7201a8\"], [0.3333333333333333, \"#9c179e\"], [0.4444444444444444, \"#bd3786\"], [0.5555555555555556, \"#d8576b\"], [0.6666666666666666, \"#ed7953\"], [0.7777777777777778, \"#fb9f3a\"], [0.8888888888888888, \"#fdca26\"], [1.0, \"#f0f921\"]], \"type\": \"heatmap\"}], \"heatmapgl\": [{\"colorbar\": {\"outlinewidth\": 0, \"ticks\": \"\"}, \"colorscale\": [[0.0, \"#0d0887\"], [0.1111111111111111, \"#46039f\"], [0.2222222222222222, \"#7201a8\"], [0.3333333333333333, \"#9c179e\"], [0.4444444444444444, \"#bd3786\"], [0.5555555555555556, \"#d8576b\"], [0.6666666666666666, \"#ed7953\"], [0.7777777777777778, \"#fb9f3a\"], [0.8888888888888888, \"#fdca26\"], [1.0, \"#f0f921\"]], \"type\": \"heatmapgl\"}], \"histogram\": [{\"marker\": {\"colorbar\": {\"outlinewidth\": 0, \"ticks\": \"\"}}, \"type\": \"histogram\"}], \"histogram2d\": [{\"colorbar\": {\"outlinewidth\": 0, \"ticks\": \"\"}, \"colorscale\": [[0.0, \"#0d0887\"], [0.1111111111111111, \"#46039f\"], [0.2222222222222222, \"#7201a8\"], [0.3333333333333333, \"#9c179e\"], [0.4444444444444444, \"#bd3786\"], [0.5555555555555556, \"#d8576b\"], [0.6666666666666666, \"#ed7953\"], [0.7777777777777778, \"#fb9f3a\"], [0.8888888888888888, \"#fdca26\"], [1.0, \"#f0f921\"]], \"type\": \"histogram2d\"}], \"histogram2dcontour\": [{\"colorbar\": {\"outlinewidth\": 0, \"ticks\": \"\"}, \"colorscale\": [[0.0, \"#0d0887\"], [0.1111111111111111, \"#46039f\"], [0.2222222222222222, \"#7201a8\"], [0.3333333333333333, \"#9c179e\"], [0.4444444444444444, \"#bd3786\"], [0.5555555555555556, \"#d8576b\"], [0.6666666666666666, \"#ed7953\"], [0.7777777777777778, \"#fb9f3a\"], [0.8888888888888888, \"#fdca26\"], [1.0, \"#f0f921\"]], \"type\": \"histogram2dcontour\"}], \"mesh3d\": [{\"colorbar\": {\"outlinewidth\": 0, \"ticks\": \"\"}, \"type\": \"mesh3d\"}], \"parcoords\": [{\"line\": {\"colorbar\": {\"outlinewidth\": 0, \"ticks\": \"\"}}, \"type\": \"parcoords\"}], \"pie\": [{\"automargin\": true, \"type\": \"pie\"}], \"scatter\": [{\"marker\": {\"colorbar\": {\"outlinewidth\": 0, \"ticks\": \"\"}}, \"type\": \"scatter\"}], \"scatter3d\": [{\"line\": {\"colorbar\": {\"outlinewidth\": 0, \"ticks\": \"\"}}, \"marker\": {\"colorbar\": {\"outlinewidth\": 0, \"ticks\": \"\"}}, \"type\": \"scatter3d\"}], \"scattercarpet\": [{\"marker\": {\"colorbar\": {\"outlinewidth\": 0, \"ticks\": \"\"}}, \"type\": \"scattercarpet\"}], \"scattergeo\": [{\"marker\": {\"colorbar\": {\"outlinewidth\": 0, \"ticks\": \"\"}}, \"type\": \"scattergeo\"}], \"scattergl\": [{\"marker\": {\"colorbar\": {\"outlinewidth\": 0, \"ticks\": \"\"}}, \"type\": \"scattergl\"}], \"scattermapbox\": [{\"marker\": {\"colorbar\": {\"outlinewidth\": 0, \"ticks\": \"\"}}, \"type\": \"scattermapbox\"}], \"scatterpolar\": [{\"marker\": {\"colorbar\": {\"outlinewidth\": 0, \"ticks\": \"\"}}, \"type\": \"scatterpolar\"}], \"scatterpolargl\": [{\"marker\": {\"colorbar\": {\"outlinewidth\": 0, \"ticks\": \"\"}}, \"type\": \"scatterpolargl\"}], \"scatterternary\": [{\"marker\": {\"colorbar\": {\"outlinewidth\": 0, \"ticks\": \"\"}}, \"type\": \"scatterternary\"}], \"surface\": [{\"colorbar\": {\"outlinewidth\": 0, \"ticks\": \"\"}, \"colorscale\": [[0.0, \"#0d0887\"], [0.1111111111111111, \"#46039f\"], [0.2222222222222222, \"#7201a8\"], [0.3333333333333333, \"#9c179e\"], [0.4444444444444444, \"#bd3786\"], [0.5555555555555556, \"#d8576b\"], [0.6666666666666666, \"#ed7953\"], [0.7777777777777778, \"#fb9f3a\"], [0.8888888888888888, \"#fdca26\"], [1.0, \"#f0f921\"]], \"type\": \"surface\"}], \"table\": [{\"cells\": {\"fill\": {\"color\": \"#EBF0F8\"}, \"line\": {\"color\": \"white\"}}, \"header\": {\"fill\": {\"color\": \"#C8D4E3\"}, \"line\": {\"color\": \"white\"}}, \"type\": \"table\"}]}, \"layout\": {\"annotationdefaults\": {\"arrowcolor\": \"#2a3f5f\", \"arrowhead\": 0, \"arrowwidth\": 1}, \"autotypenumbers\": \"strict\", \"coloraxis\": {\"colorbar\": {\"outlinewidth\": 0, \"ticks\": \"\"}}, \"colorscale\": {\"diverging\": [[0, \"#8e0152\"], [0.1, \"#c51b7d\"], [0.2, \"#de77ae\"], [0.3, \"#f1b6da\"], [0.4, \"#fde0ef\"], [0.5, \"#f7f7f7\"], [0.6, \"#e6f5d0\"], [0.7, \"#b8e186\"], [0.8, \"#7fbc41\"], [0.9, \"#4d9221\"], [1, \"#276419\"]], \"sequential\": [[0.0, \"#0d0887\"], [0.1111111111111111, \"#46039f\"], [0.2222222222222222, \"#7201a8\"], [0.3333333333333333, \"#9c179e\"], [0.4444444444444444, \"#bd3786\"], [0.5555555555555556, \"#d8576b\"], [0.6666666666666666, \"#ed7953\"], [0.7777777777777778, \"#fb9f3a\"], [0.8888888888888888, \"#fdca26\"], [1.0, \"#f0f921\"]], \"sequentialminus\": [[0.0, \"#0d0887\"], [0.1111111111111111, \"#46039f\"], [0.2222222222222222, \"#7201a8\"], [0.3333333333333333, \"#9c179e\"], [0.4444444444444444, \"#bd3786\"], [0.5555555555555556, \"#d8576b\"], [0.6666666666666666, \"#ed7953\"], [0.7777777777777778, \"#fb9f3a\"], [0.8888888888888888, \"#fdca26\"], [1.0, \"#f0f921\"]]}, \"colorway\": [\"#636efa\", \"#EF553B\", \"#00cc96\", \"#ab63fa\", \"#FFA15A\", \"#19d3f3\", \"#FF6692\", \"#B6E880\", \"#FF97FF\", \"#FECB52\"], \"font\": {\"color\": \"#2a3f5f\"}, \"geo\": {\"bgcolor\": \"white\", \"lakecolor\": \"white\", \"landcolor\": \"#E5ECF6\", \"showlakes\": true, \"showland\": true, \"subunitcolor\": \"white\"}, \"hoverlabel\": {\"align\": \"left\"}, \"hovermode\": \"closest\", \"mapbox\": {\"style\": \"light\"}, \"paper_bgcolor\": \"white\", \"plot_bgcolor\": \"#E5ECF6\", \"polar\": {\"angularaxis\": {\"gridcolor\": \"white\", \"linecolor\": \"white\", \"ticks\": \"\"}, \"bgcolor\": \"#E5ECF6\", \"radialaxis\": {\"gridcolor\": \"white\", \"linecolor\": \"white\", \"ticks\": \"\"}}, \"scene\": {\"xaxis\": {\"backgroundcolor\": \"#E5ECF6\", \"gridcolor\": \"white\", \"gridwidth\": 2, \"linecolor\": \"white\", \"showbackground\": true, \"ticks\": \"\", \"zerolinecolor\": \"white\"}, \"yaxis\": {\"backgroundcolor\": \"#E5ECF6\", \"gridcolor\": \"white\", \"gridwidth\": 2, \"linecolor\": \"white\", \"showbackground\": true, \"ticks\": \"\", \"zerolinecolor\": \"white\"}, \"zaxis\": {\"backgroundcolor\": \"#E5ECF6\", \"gridcolor\": \"white\", \"gridwidth\": 2, \"linecolor\": \"white\", \"showbackground\": true, \"ticks\": \"\", \"zerolinecolor\": \"white\"}}, \"shapedefaults\": {\"line\": {\"color\": \"#2a3f5f\"}}, \"ternary\": {\"aaxis\": {\"gridcolor\": \"white\", \"linecolor\": \"white\", \"ticks\": \"\"}, \"baxis\": {\"gridcolor\": \"white\", \"linecolor\": \"white\", \"ticks\": \"\"}, \"bgcolor\": \"#E5ECF6\", \"caxis\": {\"gridcolor\": \"white\", \"linecolor\": \"white\", \"ticks\": \"\"}}, \"title\": {\"x\": 0.05}, \"xaxis\": {\"automargin\": true, \"gridcolor\": \"white\", \"linecolor\": \"white\", \"ticks\": \"\", \"title\": {\"standoff\": 15}, \"zerolinecolor\": \"white\", \"zerolinewidth\": 2}, \"yaxis\": {\"automargin\": true, \"gridcolor\": \"white\", \"linecolor\": \"white\", \"ticks\": \"\", \"title\": {\"standoff\": 15}, \"zerolinecolor\": \"white\", \"zerolinewidth\": 2}}}, \"xaxis\": {\"anchor\": \"y\", \"constrain\": \"domain\", \"domain\": [0.0, 1.0], \"scaleanchor\": \"y\"}, \"yaxis\": {\"anchor\": \"x\", \"autorange\": \"reversed\", \"constrain\": \"domain\", \"domain\": [0.0, 1.0]}},                        {\"responsive\": true}                    ).then(function(){\n",
       "                            \n",
       "var gd = document.getElementById('3ccbad92-02fa-4628-b383-bb002262c9a7');\n",
       "var x = new MutationObserver(function (mutations, observer) {{\n",
       "        var display = window.getComputedStyle(gd).display;\n",
       "        if (!display || display === 'none') {{\n",
       "            console.log([gd, 'removed!']);\n",
       "            Plotly.purge(gd);\n",
       "            observer.disconnect();\n",
       "        }}\n",
       "}});\n",
       "\n",
       "// Listen for the removal of the full notebook cells\n",
       "var notebookContainer = gd.closest('#notebook-container');\n",
       "if (notebookContainer) {{\n",
       "    x.observe(notebookContainer, {childList: true});\n",
       "}}\n",
       "\n",
       "// Listen for the clearing of the current output cell\n",
       "var outputEl = gd.closest('.output');\n",
       "if (outputEl) {{\n",
       "    x.observe(outputEl, {childList: true});\n",
       "}}\n",
       "\n",
       "                        })                };                });            </script>        </div>"
      ]
     },
     "metadata": {},
     "output_type": "display_data"
    }
   ],
   "source": [
    "fig = px.imshow(X_train.corr())\n",
    "fig.show()"
   ]
  },
  {
   "cell_type": "markdown",
   "id": "04a6d811-4c9d-4dd5-8843-3f4ff8bda3c0",
   "metadata": {},
   "source": [
    "Duvida, qual a diferença entra covariancia e correlação ?\n",
    "\n",
    "https://www.mygreatlearning.com/blog/covariance-vs-correlation/#:~:text=Covariance%20is%20a%20measure%20to,are%20related%20to%20each%20other.&text=Correlation%20on%20the%20other%20hand,linear%20relationship%20between%20two%20variables."
   ]
  },
  {
   "cell_type": "markdown",
   "id": "54e69f8c-bbb1-4e75-a328-09da6d49b1cd",
   "metadata": {},
   "source": [
    "Duvida oq seria esse 1/m-1"
   ]
  },
  {
   "cell_type": "code",
   "execution_count": 63,
   "id": "372d8db5-85ff-4234-be75-ac612c5fdf35",
   "metadata": {},
   "outputs": [
    {
     "name": "stdout",
     "output_type": "stream",
     "text": [
      "Covariance Matrix (Second Method):\n",
      "    10.1936     71.1408      5.87022     1.77353      1.94929  -0.966794    -0.386252    -6.92347   -0.412394   -0.523443    -0.136614   -0.0421136  -0.00474155   -7.04042  \n",
      "    71.1408     1528.63      82.6247  -0.0725212      8.50716   -62.9192      2.42576     97.8018    -6.16018    -9.63174     -2.25389    -0.789424   -0.0574673   -107.665  \n",
      "    5.87022     82.6247      9.13451    -1.99219     -1.75756   -7.94397     0.737259     18.7042   -0.304371   -0.432583    -0.108614   -0.0379895  -0.00433033   -4.63025  \n",
      "    1.77353  -0.0725212     -1.99219     2.86397      2.45848    4.17483    -0.847565    -20.8407   0.0484347   0.0840733     0.019954   0.00663717   0.00119456   0.107388  \n",
      "    1.94929     8.50716     -1.75756     2.45848      2.92074    3.57242    -0.727706    -17.3847   0.0223404   0.0284105   0.00526757   0.00100029  0.000976237   0.175599  \n",
      "  -0.966794    -62.9192     -7.94397     4.17483      3.57242    10.9974     -1.37325    -31.0556    0.117455     0.19685    0.0512688    0.0210609    0.0026825   0.848297  \n",
      "  -0.386252     2.42576     0.737259   -0.847565    -0.727706   -1.37325     0.333796     8.41932  -0.0251233  -0.0377652  -0.00665739  -0.00118817  -0.00052469  -0.453985  \n",
      "   -6.92347     97.8018      18.7042    -20.8407     -17.3847   -31.0556      8.41932     238.793    -1.34602    -2.14158    -0.465902    -0.147951   -0.0164734   -22.8453  \n",
      "  -0.412394    -6.16018    -0.304371   0.0484347    0.0223404   0.117455   -0.0251233    -1.34602    0.289471     0.39913     0.105482     0.034839   0.00277987    4.47597  \n",
      "  -0.523443    -9.63174    -0.432583   0.0840733    0.0284105    0.19685   -0.0377652    -2.14158     0.39913    0.604942     0.156396     0.056446   0.00331404    5.90665  \n",
      "  -0.136614    -2.25389    -0.108614    0.019954   0.00526757  0.0512688  -0.00665739   -0.465902    0.105482    0.156396    0.0421795     0.015451  0.000860834    1.48576  \n",
      " -0.0421136   -0.789424   -0.0379895  0.00663717   0.00100029  0.0210609  -0.00118817   -0.147951    0.034839    0.056446     0.015451   0.00628792  0.000217703   0.445059  \n",
      "-0.00474155  -0.0574673  -0.00433033  0.00119456  0.000976237  0.0026825  -0.00052469  -0.0164734  0.00277987  0.00331404  0.000860834  0.000217703  3.89767e-05  0.0452992  \n",
      "   -7.04042    -107.665     -4.63025    0.107388     0.175599   0.848297    -0.453985    -22.8453     4.47597     5.90665      1.48576     0.445059    0.0452992    79.7716  \n",
      "Shape(14, 14)\n"
     ]
    }
   ],
   "source": [
    "cov_matrix_2=np.dot(X_train.T,X_train)\n",
    "\n",
    "print(\"Covariance Matrix (Second Method):\")\n",
    "matprint(cov_matrix_2)\n",
    "print(\"Shape{}\".format(np.shape(cov_matrix_2)))"
   ]
  },
  {
   "attachments": {
    "1c37df7c-9322-463a-92d1-00203ddf5d4f.png": {
     "image/png": "[encoded data removed]"
    }
   },
   "cell_type": "markdown",
   "id": "fab70e01-c6da-44b6-bbbb-706c8d363db8",
   "metadata": {},
   "source": [
    "VARIANCIA = A variância dá uma noção de “espalhamento” E COVARIANCIA\n",
    "\n",
    "Duvida, diferença de variancia e desvio padrao?\n",
    "\n",
    "![image.png](attachment:1c37df7c-9322-463a-92d1-00203ddf5d4f.png)"
   ]
  },
  {
   "attachments": {
    "d24638ce-771a-442f-8431-4193647d847c.png": {
     "image/png": "[encoded data removed]"
    }
   },
   "cell_type": "markdown",
   "id": "7dd4b581-b3eb-46a1-aad8-ecc3523a5582",
   "metadata": {},
   "source": [
    "![image.png](attachment:d24638ce-771a-442f-8431-4193647d847c.png)"
   ]
  },
  {
   "cell_type": "code",
   "execution_count": 76,
   "id": "3513ceb4-12df-4c0e-b987-002a3c8546ba",
   "metadata": {},
   "outputs": [
    {
     "data": {
      "text/plain": [
       "array([8.87072054e-09, 6.68088785e-08, 3.82637227e-06, 3.61450810e-05,\n",
       "       6.45411264e-05, 7.90808969e-04, 1.07706446e-03, 1.56881501e-03,\n",
       "       3.08690414e-03, 2.91013065e-02, 3.68909667e-02, 3.03107489e-01,\n",
       "       1.01519637e+00, 6.55963134e+00])"
      ]
     },
     "execution_count": 76,
     "metadata": {},
     "output_type": "execute_result"
    }
   ],
   "source": [
    "spectral_decomposition = np.linalg.eigh(cov_matrix_1)\n",
    "spectral_decomposition[0]"
   ]
  },
  {
   "cell_type": "code",
   "execution_count": 77,
   "id": "71cd7fdf-4789-4c04-8545-3ca1a2235b28",
   "metadata": {},
   "outputs": [
    {
     "name": "stdout",
     "output_type": "stream",
     "text": [
      " 4.99086e-06   0.000120374   0.00109989   0.00965555  -0.00573013    -0.0491642     0.202091      0.379621   -0.0792365     -0.716252    -0.535243     0.0424982    0.0530489   -0.0458487  \n",
      " -3.8434e-06   1.90463e-05  0.000283001  -0.00123716   0.00185174    0.00168272   0.00355183     0.0148491    0.0193385     0.0160419    0.0756856    -0.0645062    0.0866385    -0.990824  \n",
      "-0.000124035  -0.000801854  0.000659519   -0.0069908    0.0312695       0.12895    -0.425964     -0.568139     0.270271    0.00775013    -0.630422    -0.0416185   -0.0536354   -0.0544908  \n",
      " 0.000291316    4.1456e-05   -0.0105702   -0.0191616    0.0068867     -0.427759     0.515806     -0.672466   -0.0704566     -0.261217     0.127599     0.0278644     0.089287   0.00121405  \n",
      " 4.98159e-05   0.000203333  0.000659798    0.0100218  -0.00160806      0.223715    -0.417226     -0.221104    -0.774473     -0.294855     0.183836     0.0150768    0.0780535  -0.00444822  \n",
      "-0.000274398  -0.000231806   0.00742152   -0.0183111    0.0758429      0.142714    -0.301175    -0.0534507     0.557328     -0.545989     0.497458     0.0955308     0.113279    0.0422513  \n",
      "-5.12738e-05  -4.72182e-05    0.0570413    -0.105127     0.985654      0.055758    0.0725484     0.0159203   -0.0522186     0.0338762   -0.0202113   -0.00696016   -0.0349221  -0.00203208  \n",
      " 1.32415e-05    3.3769e-05   -0.0017927   0.00106521   -0.0279402    -0.0151668    0.0120577    -0.0318908   -0.0170928     -0.157256     0.100997    -0.0687943    -0.975711   -0.0765176  \n",
      "  -0.0919049     -0.156227     0.240352     0.873775    0.0504529      0.310785      0.19215    -0.0771092    0.0250905   -0.00969905    0.0100043    -0.0550415   0.00483285   0.00423315  \n",
      " -0.00373462   -0.00506715      0.18355    -0.423157    -0.126007      0.749442     0.429716     -0.138164    0.0241224    -0.0144127  -0.00024517    -0.0709492   0.00734775   0.00656808  \n",
      "    0.249912      0.605216    -0.679162     0.209592    0.0418827      0.217731     0.121728    -0.0395456    0.0129091   -0.00439537   0.00255232    -0.0180769   0.00161418   0.00154051  \n",
      "   -0.200229     -0.709107    -0.663119   -0.0214131      0.02593      0.111808    0.0587062    -0.0147826   0.00451618   -0.00174833  0.000474463   -0.00530745  0.000479875  0.000535306  \n",
      "    0.942862     -0.326257    0.0633735    0.0234194  -0.00110667  -0.000411116  0.000413315  -0.000634043  0.000304992  -0.000140662  0.000346005  -0.000554896   6.3681e-05  3.99425e-05  \n",
      "  0.00135432    0.00201143   -0.0105031   -0.0228086   0.00617601    -0.0778469   -0.0401406     0.0290203    0.0222767    -0.0847775    0.0457843     -0.984363    0.0812015    0.0739413  \n"
     ]
    }
   ],
   "source": [
    "matprint(spectral_decomposition[1])"
   ]
  },
  {
   "attachments": {
    "15fcb518-25de-46b4-8853-7e4bf76d98f8.png": {
     "image/png": "[encoded data removed]"
    }
   },
   "cell_type": "markdown",
   "id": "dc987017-cca6-41da-8dae-841dd2e1acf9",
   "metadata": {},
   "source": [
    "![image.png](attachment:15fcb518-25de-46b4-8853-7e4bf76d98f8.png)"
   ]
  },
  {
   "cell_type": "markdown",
   "id": "e422919a-ccf3-498b-835d-705f658e60a8",
   "metadata": {},
   "source": [
    "Dúvida:\n",
    "\n",
    "A quest 3 que fala de autoveroes, deve ser feita ?\n",
    "\n",
    "E eu posso demostrar atraves de código ?"
   ]
  },
  {
   "cell_type": "code",
   "execution_count": null,
   "id": "3c1afdd6-c4c0-4edc-867a-8b91967d28d1",
   "metadata": {},
   "outputs": [],
   "source": []
  }
 ],
 "metadata": {
  "kernelspec": {
   "display_name": "Python 3",
   "language": "python",
   "name": "python3"
  },
  "language_info": {
   "codemirror_mode": {
    "name": "ipython",
    "version": 3
   },
   "file_extension": ".py",
   "mimetype": "text/x-python",
   "name": "python",
   "nbconvert_exporter": "python",
   "pygments_lexer": "ipython3",
   "version": "3.7.10"
  }
 },
 "nbformat": 4,
 "nbformat_minor": 5
}
