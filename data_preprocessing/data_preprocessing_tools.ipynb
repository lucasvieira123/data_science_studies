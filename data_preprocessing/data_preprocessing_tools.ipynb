{
 "cells": [
  {
   "cell_type": "markdown",
   "id": "6e48f8ae-fd21-4e5b-8174-ac753fd4ca4b",
   "metadata": {},
   "source": [
    "## Importing the libraries"
   ]
  },
  {
   "cell_type": "code",
   "execution_count": 1,
   "id": "3d872107-6612-464a-b54d-4619c8f355f0",
   "metadata": {},
   "outputs": [],
   "source": [
    "import numpy as np\n",
    "import matplotlib.pyplot as plt\n",
    "import pandas as pd"
   ]
  },
  {
   "cell_type": "markdown",
   "id": "327e04b5-dcea-4542-8634-106558614edc",
   "metadata": {},
   "source": [
    "## Importing the dataset"
   ]
  },
  {
   "cell_type": "code",
   "execution_count": 2,
   "id": "3b1ee946-86ac-4ff0-b30b-e37f51428597",
   "metadata": {},
   "outputs": [],
   "source": [
    "dataset = pd.read_csv(\"data/Data.csv\")\n",
    "X = dataset.iloc[:,:-1].values\n",
    "y = dataset.iloc[:,-1]"
   ]
  },
  {
   "cell_type": "code",
   "execution_count": 3,
   "id": "1c29059f-d97b-459a-a94c-5e5638488948",
   "metadata": {},
   "outputs": [
    {
     "name": "stdout",
     "output_type": "stream",
     "text": [
      "[['France' 44.0 72000.0]\n",
      " ['Spain' 27.0 48000.0]\n",
      " ['Germany' 30.0 54000.0]\n",
      " ['Spain' 38.0 61000.0]\n",
      " ['Germany' 40.0 nan]\n",
      " ['France' 35.0 58000.0]\n",
      " ['Spain' nan 52000.0]\n",
      " ['France' 48.0 79000.0]\n",
      " ['Germany' 50.0 83000.0]\n",
      " ['France' 37.0 67000.0]]\n"
     ]
    }
   ],
   "source": [
    "print(X)"
   ]
  },
  {
   "cell_type": "code",
   "execution_count": 4,
   "id": "db98faeb-1e20-4b07-bb74-2badab6c5845",
   "metadata": {},
   "outputs": [
    {
     "name": "stdout",
     "output_type": "stream",
     "text": [
      "0     No\n",
      "1    Yes\n",
      "2     No\n",
      "3     No\n",
      "4    Yes\n",
      "5    Yes\n",
      "6     No\n",
      "7    Yes\n",
      "8     No\n",
      "9    Yes\n",
      "Name: Purchased, dtype: object\n"
     ]
    }
   ],
   "source": [
    "print(y)"
   ]
  },
  {
   "cell_type": "markdown",
   "id": "0b4266aa-03f0-4559-9074-d63cd3d69584",
   "metadata": {},
   "source": [
    "## Taking care of missing data"
   ]
  },
  {
   "cell_type": "code",
   "execution_count": 5,
   "id": "d7cf4120-f6fc-4289-a3f8-26f14beab244",
   "metadata": {},
   "outputs": [],
   "source": [
    "from sklearn.impute import SimpleImputer\n",
    "imputer = SimpleImputer(missing_values=np.nan, strategy = \"mean\")\n",
    "imputer.fit(X[:,1:3])\n",
    "X[:,1:3] = imputer.transform(X[:,1:3])"
   ]
  },
  {
   "cell_type": "code",
   "execution_count": 6,
   "id": "d2a0d4b1-8854-4ff3-b09d-4e7c79d360ec",
   "metadata": {},
   "outputs": [
    {
     "name": "stdout",
     "output_type": "stream",
     "text": [
      "[['France' 44.0 72000.0]\n",
      " ['Spain' 27.0 48000.0]\n",
      " ['Germany' 30.0 54000.0]\n",
      " ['Spain' 38.0 61000.0]\n",
      " ['Germany' 40.0 63777.77777777778]\n",
      " ['France' 35.0 58000.0]\n",
      " ['Spain' 38.77777777777778 52000.0]\n",
      " ['France' 48.0 79000.0]\n",
      " ['Germany' 50.0 83000.0]\n",
      " ['France' 37.0 67000.0]]\n"
     ]
    }
   ],
   "source": [
    "print(X)"
   ]
  },
  {
   "cell_type": "markdown",
   "id": "e4d55b07-36d6-4616-abab-c01ff54152ba",
   "metadata": {},
   "source": [
    "## Encoding categorical data"
   ]
  },
  {
   "cell_type": "markdown",
   "id": "c67c500c-e9a9-4c8c-b8a7-8c159cd1053a",
   "metadata": {},
   "source": [
    "### Encoding Independent Variable"
   ]
  },
  {
   "cell_type": "code",
   "execution_count": 7,
   "id": "a7d3926c-8c2b-42cd-88a5-d707d2257ce2",
   "metadata": {},
   "outputs": [],
   "source": [
    "from sklearn.compose import ColumnTransformer\n",
    "from sklearn.preprocessing import OneHotEncoder\n",
    "ct = ColumnTransformer(transformers=[('encoder',OneHotEncoder(), [0])], remainder='passthrough')\n",
    "X=np.array(ct.fit_transform(X))"
   ]
  },
  {
   "cell_type": "code",
   "execution_count": 8,
   "id": "21ddda1a-d09c-430a-8cd1-bf97f808c5d7",
   "metadata": {},
   "outputs": [
    {
     "name": "stdout",
     "output_type": "stream",
     "text": [
      "[[1.0 0.0 0.0 44.0 72000.0]\n",
      " [0.0 0.0 1.0 27.0 48000.0]\n",
      " [0.0 1.0 0.0 30.0 54000.0]\n",
      " [0.0 0.0 1.0 38.0 61000.0]\n",
      " [0.0 1.0 0.0 40.0 63777.77777777778]\n",
      " [1.0 0.0 0.0 35.0 58000.0]\n",
      " [0.0 0.0 1.0 38.77777777777778 52000.0]\n",
      " [1.0 0.0 0.0 48.0 79000.0]\n",
      " [0.0 1.0 0.0 50.0 83000.0]\n",
      " [1.0 0.0 0.0 37.0 67000.0]]\n"
     ]
    }
   ],
   "source": [
    "print(X)"
   ]
  },
  {
   "cell_type": "markdown",
   "id": "de45b015-504e-4b4f-b936-31555aae58a7",
   "metadata": {},
   "source": [
    "### Encoding Dependent Variable"
   ]
  },
  {
   "cell_type": "code",
   "execution_count": 9,
   "id": "47e345c2-4ee3-482b-bf1f-35ec470ee583",
   "metadata": {},
   "outputs": [],
   "source": [
    "# pq foi aplicaco o LabelEncoder com a variavel depend \n",
    "# e OnehotCode com a variavel indep\n",
    "from sklearn.preprocessing import LabelEncoder\n",
    "le = LabelEncoder()\n",
    "y=le.fit_transform(y)"
   ]
  },
  {
   "cell_type": "code",
   "execution_count": 10,
   "id": "c76dcf25-e43f-4b0f-b81c-656bf5b8a0dd",
   "metadata": {},
   "outputs": [
    {
     "name": "stdout",
     "output_type": "stream",
     "text": [
      "[0 1 0 0 1 1 0 1 0 1]\n"
     ]
    }
   ],
   "source": [
    "print(y)"
   ]
  },
  {
   "cell_type": "markdown",
   "id": "01ab49c7-0f6a-4353-9b42-52ac69b25751",
   "metadata": {},
   "source": [
    "### Splitting the dataset into the Training set and Test set"
   ]
  },
  {
   "cell_type": "code",
   "execution_count": 11,
   "id": "5ffb05ee-ddd5-448d-b368-ff1c56fb8cfe",
   "metadata": {},
   "outputs": [],
   "source": [
    "from sklearn.model_selection import train_test_split\n",
    "X_train, X_test, y_train, y_test = train_test_split(X, y, test_size=0.2, random_state=0)"
   ]
  },
  {
   "cell_type": "code",
   "execution_count": 18,
   "id": "70bf4519-2a80-4933-a80e-21d93d549a7b",
   "metadata": {},
   "outputs": [
    {
     "data": {
      "text/plain": [
       "array([[0.0, 1.0, 0.0, 40.0, 63777.77777777778],\n",
       "       [1.0, 0.0, 0.0, 37.0, 67000.0],\n",
       "       [0.0, 0.0, 1.0, 27.0, 48000.0],\n",
       "       [0.0, 0.0, 1.0, 38.77777777777778, 52000.0],\n",
       "       [1.0, 0.0, 0.0, 48.0, 79000.0],\n",
       "       [0.0, 0.0, 1.0, 38.0, 61000.0],\n",
       "       [1.0, 0.0, 0.0, 44.0, 72000.0],\n",
       "       [1.0, 0.0, 0.0, 35.0, 58000.0]], dtype=object)"
      ]
     },
     "execution_count": 18,
     "metadata": {},
     "output_type": "execute_result"
    }
   ],
   "source": [
    "X_train"
   ]
  },
  {
   "cell_type": "code",
   "execution_count": 19,
   "id": "b79f6d60-e5af-448f-9b05-02daaa312fde",
   "metadata": {},
   "outputs": [
    {
     "data": {
      "text/plain": [
       "array([[0.0, 1.0, 0.0, 30.0, 54000.0],\n",
       "       [0.0, 1.0, 0.0, 50.0, 83000.0]], dtype=object)"
      ]
     },
     "execution_count": 19,
     "metadata": {},
     "output_type": "execute_result"
    }
   ],
   "source": [
    "X_test"
   ]
  },
  {
   "cell_type": "code",
   "execution_count": 20,
   "id": "1bafbd52-2a02-4d01-8a21-9092a04c3444",
   "metadata": {},
   "outputs": [
    {
     "data": {
      "text/plain": [
       "array([1, 1, 1, 0, 1, 0, 0, 1])"
      ]
     },
     "execution_count": 20,
     "metadata": {},
     "output_type": "execute_result"
    }
   ],
   "source": [
    "y_train"
   ]
  },
  {
   "cell_type": "code",
   "execution_count": 21,
   "id": "f0f1c48d-df4d-430a-8a81-e9510f92de57",
   "metadata": {},
   "outputs": [
    {
     "data": {
      "text/plain": [
       "array([0, 0])"
      ]
     },
     "execution_count": 21,
     "metadata": {},
     "output_type": "execute_result"
    }
   ],
   "source": [
    "y_test"
   ]
  },
  {
   "cell_type": "markdown",
   "id": "0d7e55b7-9c63-4ec5-913e-4570947f373a",
   "metadata": {},
   "source": [
    "Feature Scaling"
   ]
  },
  {
   "cell_type": "markdown",
   "id": "44dd9c04-f999-473e-9dae-1d3239bf7c1f",
   "metadata": {},
   "source": [
    "Which comes first, split or normalization?"
   ]
  },
  {
   "cell_type": "code",
   "execution_count": 16,
   "id": "e816bc7d-27ee-4e9b-853b-934e08acd7e6",
   "metadata": {},
   "outputs": [],
   "source": [
    "# se eu tiver a normalização antes de devidir, é como se eu desse\n",
    "# pistas de como os dados desconhecidos (teste) são. Acaba sendo uma\n",
    "# espécie de trapaça"
   ]
  },
  {
   "cell_type": "markdown",
   "id": "9b30854c-ad07-425b-8379-a48a6712bb19",
   "metadata": {},
   "source": [
    "Standardisation"
   ]
  },
  {
   "attachments": {
    "43f03d53-25c5-4ffa-b4d3-f5777b74995d.png": {
     "image/png": "[encoded data removed]"
    }
   },
   "cell_type": "markdown",
   "id": "baaedb77-be69-4d9a-831e-624e150df5a7",
   "metadata": {},
   "source": [
    "![image.png](attachment:43f03d53-25c5-4ffa-b4d3-f5777b74995d.png)"
   ]
  },
  {
   "cell_type": "markdown",
   "id": "e1288878-b74c-4df5-a44b-7ed2bfb72388",
   "metadata": {},
   "source": [
    "z = (x - mean(x) / standard deviation(x))\n",
    "Lembrando que o desvio padrão é a raiz quatrada da variação. Podemos imaginar que desvio padrão é a variação de um X em relação ele mesmo."
   ]
  },
  {
   "cell_type": "markdown",
   "id": "c21eeb1c-9ded-46a0-8a17-47b406818e1b",
   "metadata": {},
   "source": [
    "no caso da standardization os valores iram ficar entre +3 e -3 desvios padrões. Já na normalização, os valore ficaram entre 0-1"
   ]
  },
  {
   "cell_type": "markdown",
   "id": "b9f024ec-995e-4bd4-9c40-b70bf0ac6c29",
   "metadata": {},
   "source": [
    "Normalization"
   ]
  },
  {
   "attachments": {
    "1809dcb3-81f8-41a1-a066-edc325ba1971.png": {
     "image/png": "[encoded data removed]"
    }
   },
   "cell_type": "markdown",
   "id": "27d8a8b5-b76a-4a95-b8fe-4436622e9080",
   "metadata": {},
   "source": [
    "![image.png](attachment:1809dcb3-81f8-41a1-a066-edc325ba1971.png)"
   ]
  },
  {
   "cell_type": "markdown",
   "id": "8171183e-6553-4cd8-9d16-84490ab50f56",
   "metadata": {},
   "source": [
    "Quando usar standardisation ou usar normalisation?"
   ]
  },
  {
   "cell_type": "markdown",
   "id": "312c25e7-f551-41b5-b193-423dade0c090",
   "metadata": {},
   "source": [
    "Normalização é recomendada quando vc tem uma distrubuição normal\n",
    "da maioria das features, já a standardisation sempre funciona.\n",
    "Se vc n tiver completamente ctz que segue dist. normal, use logo a standardisation.\n",
    "Ambas as técnicas vão melhorar o treinamento do modelo\n"
   ]
  },
  {
   "cell_type": "code",
   "execution_count": 23,
   "id": "4d8cc091-f3a7-4db7-b2ed-4134b2de85d8",
   "metadata": {},
   "outputs": [],
   "source": [
    "from sklearn.preprocessing import StandardScaler\n",
    "sc = StandardScaler()"
   ]
  },
  {
   "cell_type": "markdown",
   "id": "20a5ac57-1965-4772-bf4b-97944cfbb98a",
   "metadata": {},
   "source": [
    "Não usar padronização/normalização em dados processados pelo label encode e nem o hot one code (dummy). Não é realmente uma regra, mas geralmente piora os resultados ou não melhoram."
   ]
  },
  {
   "cell_type": "code",
   "execution_count": 26,
   "id": "57088cd4-3a2d-4ebd-8a9d-55c562630a9c",
   "metadata": {},
   "outputs": [
    {
     "name": "stdout",
     "output_type": "stream",
     "text": [
      "[[0.0 1.0 0.0 0.26306757317135365 0.12381478548381812]\n",
      " [1.0 0.0 0.0 -0.2535014796014863 0.4617563176278852]\n",
      " [0.0 0.0 1.0 -1.9753983221776197 -1.5309334063940299]\n",
      " [0.0 0.0 1.0 0.05261351463427087 -1.111419780284153]\n",
      " [1.0 0.0 0.0 1.6405850472322603 1.7202971959575157]\n",
      " [0.0 0.0 1.0 -0.08131179534387296 -0.16751412153693002]\n",
      " [1.0 0.0 0.0 0.9518263102018071 0.9861483502652313]\n",
      " [1.0 0.0 0.0 -0.5978808481167129 -0.48214934111933766]]\n"
     ]
    }
   ],
   "source": [
    "X_train[:, 3:] = sc.fit_transform(X_train[:, 3:])\n",
    "print(X_train)"
   ]
  },
  {
   "cell_type": "code",
   "execution_count": 27,
   "id": "03427805-9682-4f24-906e-f6426f744302",
   "metadata": {},
   "outputs": [
    {
     "name": "stdout",
     "output_type": "stream",
     "text": [
      "[[0.0 1.0 0.0 -1.0 -1.0]\n",
      " [0.0 1.0 0.0 1.0 1.0]]\n"
     ]
    }
   ],
   "source": [
    "X_test[:, 3:] = sc.fit_transform(X_test[:, 3:])\n",
    "print(X_test)"
   ]
  },
  {
   "cell_type": "code",
   "execution_count": null,
   "id": "3d5d4026-9dcb-4a5f-882a-a6ba4d499d98",
   "metadata": {},
   "outputs": [],
   "source": []
  }
 ],
 "metadata": {
  "kernelspec": {
   "display_name": "Python 3",
   "language": "python",
   "name": "python3"
  },
  "language_info": {
   "codemirror_mode": {
    "name": "ipython",
    "version": 3
   },
   "file_extension": ".py",
   "mimetype": "text/x-python",
   "name": "python",
   "nbconvert_exporter": "python",
   "pygments_lexer": "ipython3",
   "version": "3.8.10"
  }
 },
 "nbformat": 4,
 "nbformat_minor": 5
}
